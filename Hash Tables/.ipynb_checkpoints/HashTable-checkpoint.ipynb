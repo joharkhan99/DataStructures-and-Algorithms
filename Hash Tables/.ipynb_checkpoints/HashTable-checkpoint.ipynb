{
 "cells": [
  {
   "cell_type": "markdown",
   "id": "1d23b59e",
   "metadata": {},
   "source": [
    "# Hash Table\n",
    "\n",
    "In computing, a hash table, also known as a hash map, is a data structure that implements an associative array, also called a dictionary, which is an abstract data type that maps keys to values.\n",
    "\n",
    "- Javascript: Objects\n",
    "- PHP: Associative arrays\n",
    "- Python: Dictionaries\n",
    "- JAVA: Hashmap, LinkedHashMap\n",
    "- C++: std::map"
   ]
  },
  {
   "cell_type": "code",
   "execution_count": 9,
   "id": "bdaa756c",
   "metadata": {},
   "outputs": [
    {
     "name": "stdout",
     "output_type": "stream",
     "text": [
      "<_io.TextIOWrapper name='data.csv' mode='r' encoding='cp1252'>\n"
     ]
    }
   ],
   "source": [
    "data = {}\n",
    "with open(\"data.csv\", \"r\") as f:\n",
    "    print(f)\n",
    "    for line in f:\n",
    "        temp = line.split(\",\")\n",
    "        data[temp[0]] = float(temp[1])"
   ]
  },
  {
   "cell_type": "code",
   "execution_count": 12,
   "id": "103ae3db",
   "metadata": {},
   "outputs": [
    {
     "data": {
      "text/plain": [
       "{'ahmed': 100.0,\n",
       " 'kashif': 200.0,\n",
       " 'jeff': 290.0,\n",
       " 'johar': 300.0,\n",
       " 'mill': 301.0,\n",
       " 'kumar': 250.0}"
      ]
     },
     "execution_count": 12,
     "metadata": {},
     "output_type": "execute_result"
    }
   ],
   "source": [
    "data"
   ]
  },
  {
   "cell_type": "code",
   "execution_count": 13,
   "id": "fea2c223",
   "metadata": {},
   "outputs": [
    {
     "data": {
      "text/plain": [
       "301.0"
      ]
     },
     "execution_count": 13,
     "metadata": {},
     "output_type": "execute_result"
    }
   ],
   "source": [
    "data['mill']"
   ]
  },
  {
   "cell_type": "code",
   "execution_count": 14,
   "id": "e86825ae",
   "metadata": {},
   "outputs": [],
   "source": [
    "def get_hash(key):\n",
    "    h = 0\n",
    "    for char in key:\n",
    "        h += ord(char)\n",
    "    return h % 100"
   ]
  },
  {
   "cell_type": "code",
   "execution_count": 64,
   "id": "8bd7db7f",
   "metadata": {},
   "outputs": [],
   "source": [
    "class HashTable:\n",
    "    def __init__(self):\n",
    "        self.MAX = 100\n",
    "        self.arr = [None for i in range(self.MAX)]\n",
    "        \n",
    "    def get_hash(self, key):\n",
    "        h = 0\n",
    "        for char in key:\n",
    "            h += ord(char)\n",
    "        return h % self.MAX\n",
    "    \n",
    "    def __setitem__(self, key, val):\n",
    "        h = self.get_hash(key)\n",
    "        self.arr[h] = val\n",
    "        \n",
    "    def __getitem__(self, key):\n",
    "        h = self.get_hash(key)\n",
    "        return self.arr[h]\n",
    "    \n",
    "    def __delitem__(self, key):\n",
    "        h = self.get_hash(key)\n",
    "        self.arr[h] = None"
   ]
  },
  {
   "cell_type": "code",
   "execution_count": 65,
   "id": "f000eada",
   "metadata": {},
   "outputs": [],
   "source": [
    "ht = HashTable()\n",
    "\n",
    "ht[\"johar\"] = 200\n",
    "ht['isTest'] = True\n",
    "ht['khan'] = 344"
   ]
  },
  {
   "cell_type": "code",
   "execution_count": 66,
   "id": "11d7ccac",
   "metadata": {},
   "outputs": [
    {
     "data": {
      "text/plain": [
       "200"
      ]
     },
     "execution_count": 66,
     "metadata": {},
     "output_type": "execute_result"
    }
   ],
   "source": [
    "ht[\"johar\"]"
   ]
  },
  {
   "cell_type": "code",
   "execution_count": 67,
   "id": "8dc41110",
   "metadata": {},
   "outputs": [
    {
     "data": {
      "text/plain": [
       "True"
      ]
     },
     "execution_count": 67,
     "metadata": {},
     "output_type": "execute_result"
    }
   ],
   "source": [
    "ht['isTest']"
   ]
  },
  {
   "cell_type": "code",
   "execution_count": 68,
   "id": "c3059937",
   "metadata": {},
   "outputs": [],
   "source": [
    "ht['bob']"
   ]
  },
  {
   "cell_type": "code",
   "execution_count": 69,
   "id": "414c6f13",
   "metadata": {},
   "outputs": [],
   "source": [
    "del ht['johar']"
   ]
  },
  {
   "cell_type": "code",
   "execution_count": 72,
   "id": "53324a68",
   "metadata": {},
   "outputs": [],
   "source": [
    "ht['johar']"
   ]
  },
  {
   "cell_type": "code",
   "execution_count": null,
   "id": "405caffa",
   "metadata": {},
   "outputs": [],
   "source": []
  },
  {
   "cell_type": "code",
   "execution_count": null,
   "id": "ccd89a26",
   "metadata": {},
   "outputs": [],
   "source": []
  },
  {
   "cell_type": "code",
   "execution_count": null,
   "id": "4daba06a",
   "metadata": {},
   "outputs": [],
   "source": []
  },
  {
   "cell_type": "code",
   "execution_count": null,
   "id": "f1767fac",
   "metadata": {},
   "outputs": [],
   "source": []
  },
  {
   "cell_type": "code",
   "execution_count": null,
   "id": "5aad965c",
   "metadata": {},
   "outputs": [],
   "source": []
  },
  {
   "cell_type": "code",
   "execution_count": null,
   "id": "46dc4315",
   "metadata": {},
   "outputs": [],
   "source": []
  }
 ],
 "metadata": {
  "kernelspec": {
   "display_name": "Python 3 (ipykernel)",
   "language": "python",
   "name": "python3"
  },
  "language_info": {
   "codemirror_mode": {
    "name": "ipython",
    "version": 3
   },
   "file_extension": ".py",
   "mimetype": "text/x-python",
   "name": "python",
   "nbconvert_exporter": "python",
   "pygments_lexer": "ipython3",
   "version": "3.9.18"
  }
 },
 "nbformat": 4,
 "nbformat_minor": 5
}
