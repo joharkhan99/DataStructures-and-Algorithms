{
 "cells": [
  {
   "cell_type": "markdown",
   "id": "1d23b59e",
   "metadata": {},
   "source": [
    "# Hash Table\n",
    "\n",
    "In computing, a hash table, also known as a hash map, is a data structure that implements an associative array, also called a dictionary, which is an abstract data type that maps keys to values.\n",
    "\n",
    "- Javascript: Objects\n",
    "- PHP: Associative arrays\n",
    "- Python: Dictionaries\n",
    "- JAVA: Hashmap, LinkedHashMap\n",
    "- C++: std::map"
   ]
  },
  {
   "cell_type": "code",
   "execution_count": 9,
   "id": "bdaa756c",
   "metadata": {},
   "outputs": [
    {
     "name": "stdout",
     "output_type": "stream",
     "text": [
      "<_io.TextIOWrapper name='data.csv' mode='r' encoding='cp1252'>\n"
     ]
    }
   ],
   "source": [
    "data = {}\n",
    "with open(\"data.csv\", \"r\") as f:\n",
    "    print(f)\n",
    "    for line in f:\n",
    "        temp = line.split(\",\")\n",
    "        data[temp[0]] = float(temp[1])"
   ]
  },
  {
   "cell_type": "code",
   "execution_count": 12,
   "id": "01b0eafe",
   "metadata": {},
   "outputs": [
    {
     "data": {
      "text/plain": [
       "{'ahmed': 100.0,\n",
       " 'kashif': 200.0,\n",
       " 'jeff': 290.0,\n",
       " 'johar': 300.0,\n",
       " 'mill': 301.0,\n",
       " 'kumar': 250.0}"
      ]
     },
     "execution_count": 12,
     "metadata": {},
     "output_type": "execute_result"
    }
   ],
   "source": [
    "data"
   ]
  },
  {
   "cell_type": "code",
   "execution_count": 13,
   "id": "0af1e4fd",
   "metadata": {},
   "outputs": [
    {
     "data": {
      "text/plain": [
       "301.0"
      ]
     },
     "execution_count": 13,
     "metadata": {},
     "output_type": "execute_result"
    }
   ],
   "source": [
    "data['mill']"
   ]
  },
  {
   "cell_type": "code",
   "execution_count": null,
   "id": "2958b5a5",
   "metadata": {},
   "outputs": [],
   "source": []
  },
  {
   "cell_type": "code",
   "execution_count": null,
   "id": "d16f9a4f",
   "metadata": {},
   "outputs": [],
   "source": []
  },
  {
   "cell_type": "code",
   "execution_count": null,
   "id": "c59965da",
   "metadata": {},
   "outputs": [],
   "source": []
  },
  {
   "cell_type": "code",
   "execution_count": null,
   "id": "46dc4315",
   "metadata": {},
   "outputs": [],
   "source": []
  }
 ],
 "metadata": {
  "kernelspec": {
   "display_name": "Python 3 (ipykernel)",
   "language": "python",
   "name": "python3"
  },
  "language_info": {
   "codemirror_mode": {
    "name": "ipython",
    "version": 3
   },
   "file_extension": ".py",
   "mimetype": "text/x-python",
   "name": "python",
   "nbconvert_exporter": "python",
   "pygments_lexer": "ipython3",
   "version": "3.9.18"
  }
 },
 "nbformat": 4,
 "nbformat_minor": 5
}
