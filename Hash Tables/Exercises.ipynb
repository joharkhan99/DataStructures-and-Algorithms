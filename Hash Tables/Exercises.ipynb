{
 "cells": [
  {
   "cell_type": "markdown",
   "id": "08df1923",
   "metadata": {},
   "source": [
    "1. nyc_weather.csv contains new york city weather for first few days in the month of January. Write a program that can answer following,\n",
    "\n",
    "- What was the average temperature in first week of Jan\n",
    "- What was the maximum temperature in first 10 days of Jan"
   ]
  },
  {
   "cell_type": "code",
   "execution_count": 4,
   "id": "cf093b21",
   "metadata": {},
   "outputs": [],
   "source": [
    "weathers = []\n",
    "with open(\"nyc_weather.csv\", \"r\", ) as f:\n",
    "    lines = f.readlines()[1:]\n",
    "    for line in lines:\n",
    "        weathers.append(float(line.split(\",\")[1]))"
   ]
  },
  {
   "cell_type": "code",
   "execution_count": 5,
   "id": "00327821",
   "metadata": {},
   "outputs": [
    {
     "data": {
      "text/plain": [
       "[27.0, 31.0, 23.0, 34.0, 37.0, 38.0, 29.0, 30.0, 35.0, 30.0]"
      ]
     },
     "execution_count": 5,
     "metadata": {},
     "output_type": "execute_result"
    }
   ],
   "source": [
    "weathers"
   ]
  },
  {
   "cell_type": "code",
   "execution_count": 6,
   "id": "92555990",
   "metadata": {},
   "outputs": [
    {
     "data": {
      "text/plain": [
       "21.9"
      ]
     },
     "execution_count": 6,
     "metadata": {},
     "output_type": "execute_result"
    }
   ],
   "source": [
    "sum(weathers[0:7])/len(weathers)"
   ]
  },
  {
   "cell_type": "code",
   "execution_count": 7,
   "id": "16fcb8c4",
   "metadata": {},
   "outputs": [
    {
     "data": {
      "text/plain": [
       "38.0"
      ]
     },
     "execution_count": 7,
     "metadata": {},
     "output_type": "execute_result"
    }
   ],
   "source": [
    "max(weathers)"
   ]
  },
  {
   "cell_type": "markdown",
   "id": "751c65fe",
   "metadata": {},
   "source": [
    "2. nyc_weather.csv contains new york city weather for first few days in the month of January. Write a program that can answer following,\n",
    "\n",
    "- What was the temperature on Jan 9?\n",
    "- What was the temperature on Jan 4?"
   ]
  },
  {
   "cell_type": "code",
   "execution_count": 10,
   "id": "83c70f70",
   "metadata": {},
   "outputs": [],
   "source": [
    "weathers={}\n",
    "with open(\"nyc_weather.csv\", \"r\") as f:\n",
    "    lines = f.readlines()[1:]\n",
    "    for line in lines:\n",
    "        arr = line.split(\",\")\n",
    "        weathers[arr[0]] = float(arr[1])"
   ]
  },
  {
   "cell_type": "code",
   "execution_count": 11,
   "id": "4141a709",
   "metadata": {},
   "outputs": [
    {
     "data": {
      "text/plain": [
       "{'Jan 1': 27.0,\n",
       " 'Jan 2': 31.0,\n",
       " 'Jan 3': 23.0,\n",
       " 'Jan 4': 34.0,\n",
       " 'Jan 5': 37.0,\n",
       " 'Jan 6': 38.0,\n",
       " 'Jan 7': 29.0,\n",
       " 'Jan 8': 30.0,\n",
       " 'Jan 9': 35.0,\n",
       " 'Jan 10': 30.0}"
      ]
     },
     "execution_count": 11,
     "metadata": {},
     "output_type": "execute_result"
    }
   ],
   "source": [
    "weathers"
   ]
  },
  {
   "cell_type": "code",
   "execution_count": 12,
   "id": "337223d3",
   "metadata": {},
   "outputs": [
    {
     "data": {
      "text/plain": [
       "35.0"
      ]
     },
     "execution_count": 12,
     "metadata": {},
     "output_type": "execute_result"
    }
   ],
   "source": [
    "weathers['Jan 9']"
   ]
  },
  {
   "cell_type": "code",
   "execution_count": 13,
   "id": "cbd4141b",
   "metadata": {},
   "outputs": [
    {
     "data": {
      "text/plain": [
       "34.0"
      ]
     },
     "execution_count": 13,
     "metadata": {},
     "output_type": "execute_result"
    }
   ],
   "source": [
    "weathers['Jan 4']"
   ]
  },
  {
   "cell_type": "markdown",
   "id": "caa5a1a5",
   "metadata": {},
   "source": [
    "3. poem.txt Contains famous poem \"Road not taken\" by poet Robert Frost. You have to read this file in python and print every word and its count as show below. Think about the best data structure that you can use to solve this problem and figure out why you selected that specific data structure.\n",
    "\n",
    "\n",
    " 'diverged': 2, <br>\n",
    " 'in': 3,<br>\n",
    " 'I': 8<br>"
   ]
  },
  {
   "cell_type": "code",
   "execution_count": 17,
   "id": "7fb64b78",
   "metadata": {},
   "outputs": [],
   "source": [
    "counts={}\n",
    "with open(\"poem.txt\", \"r\") as f:\n",
    "    for line in f:\n",
    "        words = line.split(\" \")\n",
    "        for word in words:\n",
    "            if word not in counts.keys():\n",
    "                counts[word] = 1\n",
    "            else:\n",
    "                counts[word] = counts[word] + 1"
   ]
  },
  {
   "cell_type": "code",
   "execution_count": 18,
   "id": "b867c449",
   "metadata": {},
   "outputs": [
    {
     "data": {
      "text/plain": [
       "{'Two': 2,\n",
       " 'roads': 2,\n",
       " 'diverged': 2,\n",
       " 'in': 3,\n",
       " 'a': 3,\n",
       " 'yellow': 1,\n",
       " 'wood,\\n': 1,\n",
       " 'And': 6,\n",
       " 'sorry': 1,\n",
       " 'I': 8,\n",
       " 'could': 1,\n",
       " 'not': 1,\n",
       " 'travel': 1,\n",
       " 'both\\n': 1,\n",
       " 'be': 2,\n",
       " 'one': 3,\n",
       " 'traveler,': 1,\n",
       " 'long': 1,\n",
       " 'stood\\n': 1,\n",
       " 'looked': 1,\n",
       " 'down': 1,\n",
       " 'as': 5,\n",
       " 'far': 1,\n",
       " 'could\\n': 1,\n",
       " 'To': 1,\n",
       " 'where': 1,\n",
       " 'it': 2,\n",
       " 'bent': 1,\n",
       " 'the': 8,\n",
       " 'undergrowth;\\n': 1,\n",
       " '\\n': 3,\n",
       " 'Then': 1,\n",
       " 'took': 2,\n",
       " 'other,': 1,\n",
       " 'just': 1,\n",
       " 'fair,\\n': 1,\n",
       " 'having': 1,\n",
       " 'perhaps': 1,\n",
       " 'better': 1,\n",
       " 'claim,\\n': 1,\n",
       " 'Because': 1,\n",
       " 'was': 1,\n",
       " 'grassy': 1,\n",
       " 'and': 3,\n",
       " 'wanted': 1,\n",
       " 'wear;\\n': 1,\n",
       " 'Though': 1,\n",
       " 'for': 2,\n",
       " 'that': 3,\n",
       " 'passing': 1,\n",
       " 'there\\n': 1,\n",
       " 'Had': 1,\n",
       " 'worn': 1,\n",
       " 'them': 1,\n",
       " 'really': 1,\n",
       " 'about': 1,\n",
       " 'same,\\n': 1,\n",
       " 'both': 1,\n",
       " 'morning': 1,\n",
       " 'equally': 1,\n",
       " 'lay\\n': 1,\n",
       " 'In': 1,\n",
       " 'leaves': 1,\n",
       " 'no': 1,\n",
       " 'step': 1,\n",
       " 'had': 1,\n",
       " 'trodden': 1,\n",
       " 'black.\\n': 1,\n",
       " 'Oh,': 1,\n",
       " 'kept': 1,\n",
       " 'first': 1,\n",
       " 'another': 1,\n",
       " 'day!\\n': 1,\n",
       " 'Yet': 1,\n",
       " 'knowing': 1,\n",
       " 'how': 1,\n",
       " 'way': 1,\n",
       " 'leads': 1,\n",
       " 'on': 1,\n",
       " 'to': 1,\n",
       " 'way,\\n': 1,\n",
       " 'doubted': 1,\n",
       " 'if': 1,\n",
       " 'should': 1,\n",
       " 'ever': 1,\n",
       " 'come': 1,\n",
       " 'back.\\n': 1,\n",
       " 'shall': 1,\n",
       " 'telling': 1,\n",
       " 'this': 1,\n",
       " 'with': 1,\n",
       " 'sigh\\n': 1,\n",
       " 'Somewhere': 1,\n",
       " 'ages': 2,\n",
       " 'hence:\\n': 1,\n",
       " 'wood,': 1,\n",
       " 'Iâ€”\\n': 1,\n",
       " 'less': 1,\n",
       " 'traveled': 1,\n",
       " 'by,\\n': 1,\n",
       " 'has': 1,\n",
       " 'made': 1,\n",
       " 'all': 1,\n",
       " 'difference.': 1}"
      ]
     },
     "execution_count": 18,
     "metadata": {},
     "output_type": "execute_result"
    }
   ],
   "source": [
    "counts"
   ]
  },
  {
   "cell_type": "code",
   "execution_count": null,
   "id": "f4718e39",
   "metadata": {},
   "outputs": [],
   "source": []
  },
  {
   "cell_type": "code",
   "execution_count": null,
   "id": "22e90fb2",
   "metadata": {},
   "outputs": [],
   "source": []
  },
  {
   "cell_type": "code",
   "execution_count": null,
   "id": "1f29e61d",
   "metadata": {},
   "outputs": [],
   "source": []
  },
  {
   "cell_type": "code",
   "execution_count": null,
   "id": "00d59064",
   "metadata": {},
   "outputs": [],
   "source": []
  },
  {
   "cell_type": "code",
   "execution_count": null,
   "id": "a9e64e52",
   "metadata": {},
   "outputs": [],
   "source": []
  },
  {
   "cell_type": "code",
   "execution_count": null,
   "id": "1a5c7865",
   "metadata": {},
   "outputs": [],
   "source": []
  },
  {
   "cell_type": "code",
   "execution_count": null,
   "id": "917f10b5",
   "metadata": {},
   "outputs": [],
   "source": []
  },
  {
   "cell_type": "code",
   "execution_count": null,
   "id": "d7146584",
   "metadata": {},
   "outputs": [],
   "source": []
  }
 ],
 "metadata": {
  "kernelspec": {
   "display_name": "Python 3 (ipykernel)",
   "language": "python",
   "name": "python3"
  },
  "language_info": {
   "codemirror_mode": {
    "name": "ipython",
    "version": 3
   },
   "file_extension": ".py",
   "mimetype": "text/x-python",
   "name": "python",
   "nbconvert_exporter": "python",
   "pygments_lexer": "ipython3",
   "version": "3.9.18"
  }
 },
 "nbformat": 4,
 "nbformat_minor": 5
}
