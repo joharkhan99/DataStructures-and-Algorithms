{
 "cells": [
  {
   "cell_type": "markdown",
   "id": "4dbbfeb3",
   "metadata": {},
   "source": [
    "### Given an array A[] of n numbers and another number x, the task is to check whether or not there exist two elements in A[] whose sum is exactly x."
   ]
  },
  {
   "cell_type": "code",
   "execution_count": 115,
   "id": "83f30480",
   "metadata": {},
   "outputs": [],
   "source": [
    "def pair_sum(A, x):\n",
    "    for i in range(len(A)):\n",
    "        for j in range(i+1, len(A)):\n",
    "            if A[i] + A[j] == x:\n",
    "                print (A[i], A[j])"
   ]
  },
  {
   "cell_type": "code",
   "execution_count": 117,
   "id": "46ed75e5",
   "metadata": {},
   "outputs": [
    {
     "name": "stdout",
     "output_type": "stream",
     "text": [
      "1 3\n",
      "2 2\n"
     ]
    }
   ],
   "source": [
    "# A = [1, 4, 45, 6, 10, -8, 20, -4]\n",
    "# x = 16\n",
    "\n",
    "A = [1, 3, 2, 2]\n",
    "x = 4\n",
    "pair_sum(A, x)"
   ]
  },
  {
   "cell_type": "code",
   "execution_count": 125,
   "id": "539dbd6b",
   "metadata": {},
   "outputs": [],
   "source": [
    "# 2nd way\n",
    "def pair_sum(A, x):\n",
    "    if len(A) < 2:\n",
    "        return\n",
    "\n",
    "    output = set()\n",
    "    seen = set()\n",
    "    \n",
    "    for num in A:\n",
    "        target = x - num\n",
    "        print(f\"{num} : {target}\")\n",
    "        \n",
    "        if target not in seen:\n",
    "            seen.add(num)\n",
    "        else:\n",
    "            output.add((min(num, target), max(num, target)))\n",
    "\n",
    "    return output"
   ]
  },
  {
   "cell_type": "code",
   "execution_count": 126,
   "id": "7008c214",
   "metadata": {},
   "outputs": [
    {
     "name": "stdout",
     "output_type": "stream",
     "text": [
      "1 : 15\n",
      "4 : 12\n",
      "45 : -29\n",
      "6 : 10\n",
      "10 : 6\n",
      "-8 : 24\n",
      "20 : -4\n",
      "-4 : 20\n",
      "{1, 4, 6, 45, 20, -8}\n"
     ]
    },
    {
     "data": {
      "text/plain": [
       "{(-4, 20), (6, 10)}"
      ]
     },
     "execution_count": 126,
     "metadata": {},
     "output_type": "execute_result"
    }
   ],
   "source": [
    "A = [1, 4, 45, 6, 10, -8, 20, -4]\n",
    "x = 16\n",
    "pair_sum(A, x)"
   ]
  },
  {
   "cell_type": "code",
   "execution_count": null,
   "id": "88723a72",
   "metadata": {},
   "outputs": [],
   "source": []
  }
 ],
 "metadata": {
  "kernelspec": {
   "display_name": "Python 3 (ipykernel)",
   "language": "python",
   "name": "python3"
  },
  "language_info": {
   "codemirror_mode": {
    "name": "ipython",
    "version": 3
   },
   "file_extension": ".py",
   "mimetype": "text/x-python",
   "name": "python",
   "nbconvert_exporter": "python",
   "pygments_lexer": "ipython3",
   "version": "3.9.12"
  }
 },
 "nbformat": 4,
 "nbformat_minor": 5
}
