{
 "cells": [
  {
   "cell_type": "markdown",
   "id": "bb7cc5f8",
   "metadata": {},
   "source": [
    "Unique Characters in String\n",
    "\n",
    "Given a string, determine if it is compreised of all unique characters. For example, the string 'abcde' has all unique characters and should return True. The string 'aabcde' contains duplicate characters and should return false."
   ]
  },
  {
   "cell_type": "code",
   "execution_count": 74,
   "id": "d633b531",
   "metadata": {},
   "outputs": [],
   "source": [
    "# 1st way\n",
    "def uni_char(s):\n",
    "    return len(set(s)) == len(s)"
   ]
  },
  {
   "cell_type": "code",
   "execution_count": 76,
   "id": "8e9dc832",
   "metadata": {},
   "outputs": [
    {
     "data": {
      "text/plain": [
       "False"
      ]
     },
     "execution_count": 76,
     "metadata": {},
     "output_type": "execute_result"
    }
   ],
   "source": [
    "uni_char('goo')"
   ]
  },
  {
   "cell_type": "code",
   "execution_count": 77,
   "id": "307b3819",
   "metadata": {},
   "outputs": [
    {
     "data": {
      "text/plain": [
       "True"
      ]
     },
     "execution_count": 77,
     "metadata": {},
     "output_type": "execute_result"
    }
   ],
   "source": [
    "uni_char('abcde')"
   ]
  },
  {
   "cell_type": "code",
   "execution_count": 89,
   "id": "2c97c9c5",
   "metadata": {},
   "outputs": [],
   "source": [
    "# 2nd way\n",
    "def uni_char(s):\n",
    "    hashmap = {}\n",
    "    for ch in s:\n",
    "        if ch in hashmap:\n",
    "            return False\n",
    "        else:\n",
    "            hashmap[ch] = 1\n",
    "\n",
    "    return True"
   ]
  },
  {
   "cell_type": "code",
   "execution_count": 90,
   "id": "23f077d4",
   "metadata": {},
   "outputs": [
    {
     "data": {
      "text/plain": [
       "True"
      ]
     },
     "execution_count": 90,
     "metadata": {},
     "output_type": "execute_result"
    }
   ],
   "source": [
    "uni_char('abcde')"
   ]
  },
  {
   "cell_type": "code",
   "execution_count": 93,
   "id": "85be158d",
   "metadata": {},
   "outputs": [
    {
     "data": {
      "text/plain": [
       "False"
      ]
     },
     "execution_count": 93,
     "metadata": {},
     "output_type": "execute_result"
    }
   ],
   "source": [
    "uni_char('goo')"
   ]
  },
  {
   "cell_type": "code",
   "execution_count": 94,
   "id": "39985a2d",
   "metadata": {},
   "outputs": [],
   "source": [
    "# 3nd way\n",
    "def uni_char(s):\n",
    "    arr = []\n",
    "    for ch in s:\n",
    "        if ch in arr:\n",
    "            return False\n",
    "        else:\n",
    "            arr.append(ch)\n",
    "\n",
    "    return True"
   ]
  },
  {
   "cell_type": "code",
   "execution_count": 95,
   "id": "bee91f2a",
   "metadata": {},
   "outputs": [
    {
     "data": {
      "text/plain": [
       "True"
      ]
     },
     "execution_count": 95,
     "metadata": {},
     "output_type": "execute_result"
    }
   ],
   "source": [
    "uni_char('abcde')"
   ]
  },
  {
   "cell_type": "code",
   "execution_count": 96,
   "id": "29d36172",
   "metadata": {},
   "outputs": [
    {
     "data": {
      "text/plain": [
       "False"
      ]
     },
     "execution_count": 96,
     "metadata": {},
     "output_type": "execute_result"
    }
   ],
   "source": [
    "uni_char('goo')"
   ]
  },
  {
   "cell_type": "code",
   "execution_count": 97,
   "id": "ade9be5c",
   "metadata": {},
   "outputs": [],
   "source": [
    "# test cases\n",
    "from nose.tools import assert_equal\n",
    "\n",
    "class TestUnique():\n",
    "    def test(self, func):\n",
    "        assert_equal(func(''), True)\n",
    "        assert_equal(func('goo'), False)\n",
    "        assert_equal(func('abcdefg'), True)\n",
    "        print(\"All test passed\")"
   ]
  },
  {
   "cell_type": "code",
   "execution_count": 88,
   "id": "4184ef4c",
   "metadata": {},
   "outputs": [
    {
     "name": "stdout",
     "output_type": "stream",
     "text": [
      "All test passed\n"
     ]
    }
   ],
   "source": [
    "t = TestUnique()\n",
    "t.test(uni_char)"
   ]
  },
  {
   "cell_type": "code",
   "execution_count": null,
   "id": "597169a6",
   "metadata": {},
   "outputs": [],
   "source": []
  }
 ],
 "metadata": {
  "kernelspec": {
   "display_name": "Python 3 (ipykernel)",
   "language": "python",
   "name": "python3"
  },
  "language_info": {
   "codemirror_mode": {
    "name": "ipython",
    "version": 3
   },
   "file_extension": ".py",
   "mimetype": "text/x-python",
   "name": "python",
   "nbconvert_exporter": "python",
   "pygments_lexer": "ipython3",
   "version": "3.9.12"
  }
 },
 "nbformat": 4,
 "nbformat_minor": 5
}
