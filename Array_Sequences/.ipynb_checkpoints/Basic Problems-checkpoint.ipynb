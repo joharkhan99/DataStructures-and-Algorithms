{
 "cells": [
  {
   "cell_type": "markdown",
   "id": "8e43914d",
   "metadata": {},
   "source": [
    "Let us say your expense for every month are listed below,\n",
    "\n",
    "January - 2200\n",
    "\n",
    "February - 2350\n",
    "\n",
    "March - 2600\n",
    "\n",
    "April - 2130\n",
    "\n",
    "May - 2190\n",
    "\n",
    "Create a list to store these monthly expenses and using that find out,"
   ]
  },
  {
   "cell_type": "code",
   "execution_count": 1,
   "id": "9407798b",
   "metadata": {},
   "outputs": [],
   "source": [
    "expenses = [2200, 2350, 2600, 2130, 2190]"
   ]
  },
  {
   "cell_type": "code",
   "execution_count": 2,
   "id": "32fa1248",
   "metadata": {},
   "outputs": [
    {
     "data": {
      "text/plain": [
       "150"
      ]
     },
     "execution_count": 2,
     "metadata": {},
     "output_type": "execute_result"
    }
   ],
   "source": [
    "# 1. In Feb, how many dollars you spent extra compare to January?\n",
    "expenses[1] - expenses[0]"
   ]
  },
  {
   "cell_type": "code",
   "execution_count": 3,
   "id": "b18a532f",
   "metadata": {},
   "outputs": [
    {
     "data": {
      "text/plain": [
       "7150"
      ]
     },
     "execution_count": 3,
     "metadata": {},
     "output_type": "execute_result"
    }
   ],
   "source": [
    "# 2. Find out your total expense in first quarter (first three months) of the year.\n",
    "expenses[0]+expenses[1]+expenses[2]"
   ]
  },
  {
   "cell_type": "code",
   "execution_count": 10,
   "id": "430dcbcc",
   "metadata": {},
   "outputs": [],
   "source": [
    "# 3. Find out if you spent exactly 2000 dollars in any month\n",
    "for i in expenses:\n",
    "    if i==2000:\n",
    "        print(i)"
   ]
  },
  {
   "cell_type": "code",
   "execution_count": 11,
   "id": "77b42f92",
   "metadata": {},
   "outputs": [],
   "source": [
    "# 4. June month just finished and your expense is 1980 dollar. Add this item to our monthly expense list\n",
    "expenses.append(1980)"
   ]
  },
  {
   "cell_type": "code",
   "execution_count": 12,
   "id": "09503509",
   "metadata": {},
   "outputs": [
    {
     "data": {
      "text/plain": [
       "[2200, 2350, 2600, 2130, 2190, 1980]"
      ]
     },
     "execution_count": 12,
     "metadata": {},
     "output_type": "execute_result"
    }
   ],
   "source": [
    "expenses"
   ]
  },
  {
   "cell_type": "code",
   "execution_count": 13,
   "id": "95186cb2",
   "metadata": {},
   "outputs": [
    {
     "data": {
      "text/plain": [
       "[2200, 2350, 2600, 2330, 2190, 1980]"
      ]
     },
     "execution_count": 13,
     "metadata": {},
     "output_type": "execute_result"
    }
   ],
   "source": [
    "# 5. You returned an item that you bought in a month of April and\n",
    "# got a refund of 200$. Make a correction to your monthly expense list\n",
    "# based on this\n",
    "\n",
    "expenses[3] = expenses[3]+200\n",
    "expenses"
   ]
  },
  {
   "cell_type": "code",
   "execution_count": 18,
   "id": "633ce1a7",
   "metadata": {},
   "outputs": [],
   "source": [
    "heros=['spider man','thor','hulk','iron man','captain america']"
   ]
  },
  {
   "cell_type": "code",
   "execution_count": 19,
   "id": "f2ee59ae",
   "metadata": {},
   "outputs": [
    {
     "data": {
      "text/plain": [
       "5"
      ]
     },
     "execution_count": 19,
     "metadata": {},
     "output_type": "execute_result"
    }
   ],
   "source": [
    "len(heros)"
   ]
  },
  {
   "cell_type": "code",
   "execution_count": 20,
   "id": "ba011286",
   "metadata": {},
   "outputs": [
    {
     "data": {
      "text/plain": [
       "['spider man', 'thor', 'hulk', 'iron man', 'captain america', 'black panther']"
      ]
     },
     "execution_count": 20,
     "metadata": {},
     "output_type": "execute_result"
    }
   ],
   "source": [
    "heros.append('black panther')\n",
    "heros"
   ]
  },
  {
   "cell_type": "code",
   "execution_count": 21,
   "id": "f45c0926",
   "metadata": {},
   "outputs": [
    {
     "data": {
      "text/plain": [
       "['spider man', 'thor', 'black panther', 'hulk', 'iron man', 'captain america']"
      ]
     },
     "execution_count": 21,
     "metadata": {},
     "output_type": "execute_result"
    }
   ],
   "source": [
    "heros.pop()\n",
    "heros.insert(2, 'black panther')\n",
    "heros"
   ]
  },
  {
   "cell_type": "code",
   "execution_count": 22,
   "id": "e5777198",
   "metadata": {},
   "outputs": [
    {
     "data": {
      "text/plain": [
       "['spider man', 'doctor strange', 'hulk', 'iron man', 'captain america']"
      ]
     },
     "execution_count": 22,
     "metadata": {},
     "output_type": "execute_result"
    }
   ],
   "source": [
    "# remove thor and hulk from list and replace them with doctor strange\n",
    "heros[1:3] = ['doctor strange']\n",
    "heros"
   ]
  },
  {
   "cell_type": "code",
   "execution_count": 23,
   "id": "bf2b5c27",
   "metadata": {},
   "outputs": [
    {
     "data": {
      "text/plain": [
       "['captain america', 'doctor strange', 'hulk', 'iron man', 'spider man']"
      ]
     },
     "execution_count": 23,
     "metadata": {},
     "output_type": "execute_result"
    }
   ],
   "source": [
    "heros.sort()\n",
    "heros"
   ]
  },
  {
   "cell_type": "code",
   "execution_count": 25,
   "id": "fb6bd009",
   "metadata": {},
   "outputs": [
    {
     "name": "stdout",
     "output_type": "stream",
     "text": [
      "Enter Max Number: 30\n",
      "[1, 3, 5, 7, 9, 11, 13, 15, 17, 19, 21, 23, 25, 27, 29]\n"
     ]
    }
   ],
   "source": [
    "# Create a list of all odd numbers between 1 and a max number. Max number is something you need to take from a \n",
    "# user using input() function\n",
    "\n",
    "_max = int(input(\"Enter Max Number: \"))\n",
    "out = []\n",
    "for i in range(1, _max):\n",
    "    if i%2 != 0:\n",
    "        out.append(i)\n",
    "print(out)"
   ]
  },
  {
   "cell_type": "code",
   "execution_count": null,
   "id": "76d34a32",
   "metadata": {},
   "outputs": [],
   "source": []
  },
  {
   "cell_type": "code",
   "execution_count": null,
   "id": "15ebc9d9",
   "metadata": {},
   "outputs": [],
   "source": []
  },
  {
   "cell_type": "code",
   "execution_count": null,
   "id": "838061a4",
   "metadata": {},
   "outputs": [],
   "source": []
  }
 ],
 "metadata": {
  "kernelspec": {
   "display_name": "Python 3 (ipykernel)",
   "language": "python",
   "name": "python3"
  },
  "language_info": {
   "codemirror_mode": {
    "name": "ipython",
    "version": 3
   },
   "file_extension": ".py",
   "mimetype": "text/x-python",
   "name": "python",
   "nbconvert_exporter": "python",
   "pygments_lexer": "ipython3",
   "version": "3.9.18"
  }
 },
 "nbformat": 4,
 "nbformat_minor": 5
}
