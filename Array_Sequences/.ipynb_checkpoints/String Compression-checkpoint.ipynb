{
 "cells": [
  {
   "cell_type": "markdown",
   "id": "6bca377c",
   "metadata": {},
   "source": [
    "Problem\n",
    "\n",
    "Given a string in the form 'AAAABBBBCCCCCDDEEEE' compress it to become 'A4B4C5D2E4'. For this problem, you can falsely \"compress\" strings of single or double letters. For instance, it is okay for 'AAB' to return 'A2B1' even though this technically takes more space.\n",
    "\n",
    "The function should also be case sensitive, so that a string 'AAAaaa' returns 'A3a3'."
   ]
  },
  {
   "cell_type": "code",
   "execution_count": 126,
   "id": "9462401c",
   "metadata": {},
   "outputs": [],
   "source": [
    "def compress(s):\n",
    "    out = ''\n",
    "    hashMap = {}\n",
    "    for ch in s:\n",
    "        if ch in hashMap:\n",
    "            hashMap[ch] += 1\n",
    "        else:\n",
    "            hashMap[ch] = 1\n",
    "    for key in hashMap:\n",
    "        out+=f\"{key}{hashMap[key]}\"\n",
    "    return out"
   ]
  },
  {
   "cell_type": "code",
   "execution_count": 127,
   "id": "76f1aec4",
   "metadata": {},
   "outputs": [
    {
     "data": {
      "text/plain": [
       "'A4B4C5D2E4'"
      ]
     },
     "execution_count": 127,
     "metadata": {},
     "output_type": "execute_result"
    }
   ],
   "source": [
    "compress(\"AAAABBBBCCCCCDDEEEE\")"
   ]
  },
  {
   "cell_type": "code",
   "execution_count": 128,
   "id": "dd0cdb3d",
   "metadata": {},
   "outputs": [
    {
     "data": {
      "text/plain": [
       "'A3a3'"
      ]
     },
     "execution_count": 128,
     "metadata": {},
     "output_type": "execute_result"
    }
   ],
   "source": [
    "compress('AAAaaa')"
   ]
  },
  {
   "cell_type": "code",
   "execution_count": 129,
   "id": "bae666d8",
   "metadata": {},
   "outputs": [
    {
     "data": {
      "text/plain": [
       "'A2B1'"
      ]
     },
     "execution_count": 129,
     "metadata": {},
     "output_type": "execute_result"
    }
   ],
   "source": [
    "compress('AAB')"
   ]
  },
  {
   "cell_type": "code",
   "execution_count": 132,
   "id": "87b38077",
   "metadata": {},
   "outputs": [],
   "source": [
    "# 2nd way\n",
    "# idea: check if current and previous char are same\n",
    "def compress(s):\n",
    "    out=''\n",
    "    l = len(s)\n",
    "    \n",
    "    # edge cases\n",
    "    if l==0:\n",
    "        return \"\"\n",
    "    if l==1:\n",
    "        return s+\"1\"\n",
    "    \n",
    "    count = 1\n",
    "    i = 1\n",
    "    while i < l:\n",
    "        if s[i] == s[i-1]:\n",
    "            count += 1\n",
    "        else:\n",
    "            out += f\"{s[i-1]}{count}\"\n",
    "            count=1\n",
    "        i += 1\n",
    "    out += f\"{s[i-1]}{count}\"\n",
    "    \n",
    "    return out"
   ]
  },
  {
   "cell_type": "code",
   "execution_count": 133,
   "id": "1849b1d3",
   "metadata": {},
   "outputs": [
    {
     "data": {
      "text/plain": [
       "'A4B4C5D2E4'"
      ]
     },
     "execution_count": 133,
     "metadata": {},
     "output_type": "execute_result"
    }
   ],
   "source": [
    "compress(\"AAAABBBBCCCCCDDEEEE\")"
   ]
  },
  {
   "cell_type": "code",
   "execution_count": 144,
   "id": "50d2c951",
   "metadata": {},
   "outputs": [],
   "source": [
    "# 3rd way. same as above\n",
    "def compress(s):\n",
    "    out = ''\n",
    "    l = len(s)\n",
    "\n",
    "    count = 1\n",
    "    for i in range(1, l):\n",
    "        if s[i] == s[i-1]:\n",
    "            count += 1\n",
    "        else:\n",
    "            out += f\"{s[i-1]}{count}\"\n",
    "            count = 1\n",
    "\n",
    "    # for the last char count as we started from 1\n",
    "    out += f\"{s[l-1]}{count}\"\n",
    "\n",
    "    return out"
   ]
  },
  {
   "cell_type": "code",
   "execution_count": 145,
   "id": "8c25dcf1",
   "metadata": {},
   "outputs": [
    {
     "data": {
      "text/plain": [
       "'A4B4C5D2E4'"
      ]
     },
     "execution_count": 145,
     "metadata": {},
     "output_type": "execute_result"
    }
   ],
   "source": [
    "compress(\"AAAABBBBCCCCCDDEEEE\")"
   ]
  },
  {
   "cell_type": "code",
   "execution_count": null,
   "id": "531367e3",
   "metadata": {},
   "outputs": [],
   "source": []
  }
 ],
 "metadata": {
  "kernelspec": {
   "display_name": "Python 3 (ipykernel)",
   "language": "python",
   "name": "python3"
  },
  "language_info": {
   "codemirror_mode": {
    "name": "ipython",
    "version": 3
   },
   "file_extension": ".py",
   "mimetype": "text/x-python",
   "name": "python",
   "nbconvert_exporter": "python",
   "pygments_lexer": "ipython3",
   "version": "3.9.12"
  }
 },
 "nbformat": 4,
 "nbformat_minor": 5
}
