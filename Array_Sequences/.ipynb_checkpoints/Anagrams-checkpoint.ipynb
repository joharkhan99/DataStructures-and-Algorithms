{
 "cells": [
  {
   "cell_type": "markdown",
   "id": "05adb858",
   "metadata": {},
   "source": [
    "An anagram is a word or phrase formed by rearranging the letters of a different word or phrase, typically using all the original letters exactly once. Wikipedia\n",
    "\n",
    "angel = glean <br>\n",
    "arc = car <br>\n",
    "brag = grab <br>"
   ]
  },
  {
   "cell_type": "code",
   "execution_count": 35,
   "id": "422d9dee",
   "metadata": {},
   "outputs": [],
   "source": [
    "def anagram(s1, s2):\n",
    "    arr1 = [char for char in s1.replace(\" \", \"\")]\n",
    "    arr2 = [char for char in s2.replace(\" \", \"\")]\n",
    "    \n",
    "    arr1.sort()\n",
    "    arr2.sort()\n",
    "    \n",
    "    return arr1 == arr2"
   ]
  },
  {
   "cell_type": "code",
   "execution_count": 36,
   "id": "0a6ae344",
   "metadata": {},
   "outputs": [
    {
     "data": {
      "text/plain": [
       "True"
      ]
     },
     "execution_count": 36,
     "metadata": {},
     "output_type": "execute_result"
    }
   ],
   "source": [
    "anagram(\"public relations\", \"crap built on lies\")"
   ]
  },
  {
   "cell_type": "code",
   "execution_count": 46,
   "id": "679f53e0",
   "metadata": {},
   "outputs": [],
   "source": [
    "# 2nd way\n",
    "def anagram2(s1, s2):\n",
    "    s1 = s1.replace(\" \", \"\")\n",
    "    s2 = s2.replace(\" \", \"\")\n",
    "\n",
    "    return sorted(s1) == sorted(s2)"
   ]
  },
  {
   "cell_type": "code",
   "execution_count": 47,
   "id": "ca993f5c",
   "metadata": {},
   "outputs": [
    {
     "data": {
      "text/plain": [
       "True"
      ]
     },
     "execution_count": 47,
     "metadata": {},
     "output_type": "execute_result"
    }
   ],
   "source": [
    "anagram2(\"public relations\", \"crap built on lies\")"
   ]
  },
  {
   "cell_type": "code",
   "execution_count": 48,
   "id": "b3d559a6",
   "metadata": {},
   "outputs": [
    {
     "data": {
      "text/plain": [
       "False"
      ]
     },
     "execution_count": 48,
     "metadata": {},
     "output_type": "execute_result"
    }
   ],
   "source": [
    "anagram2(\"dog\", \"cdo\")"
   ]
  },
  {
   "cell_type": "code",
   "execution_count": 57,
   "id": "93c521a3",
   "metadata": {},
   "outputs": [],
   "source": [
    "def anagram3(s1, s2):\n",
    "    s1 = s1.replace(\" \", \"\").lower()\n",
    "    s2 = s2.replace(\" \", \"\").lower()\n",
    "\n",
    "    if len(s1) != len(s2):\n",
    "        return False\n",
    "\n",
    "    count = {}\n",
    "\n",
    "    for ch in s1:\n",
    "        if ch in count:\n",
    "            count[ch] += 1\n",
    "        else:\n",
    "            count[ch] = 1\n",
    "            \n",
    "    for ch in s2:\n",
    "        if ch in count:\n",
    "            count[ch] -= 1\n",
    "        else:\n",
    "            count[ch] = 1\n",
    "            \n",
    "    for ch in count:\n",
    "        if count[ch] != 0:\n",
    "            return False\n",
    "    return True"
   ]
  },
  {
   "cell_type": "code",
   "execution_count": 59,
   "id": "8b1a2f7f",
   "metadata": {},
   "outputs": [
    {
     "data": {
      "text/plain": [
       "True"
      ]
     },
     "execution_count": 59,
     "metadata": {},
     "output_type": "execute_result"
    }
   ],
   "source": [
    "anagram3(\"public relations\", \"crap built on lies\")"
   ]
  },
  {
   "cell_type": "code",
   "execution_count": 62,
   "id": "778f15fd",
   "metadata": {},
   "outputs": [],
   "source": [
    "# testing\n",
    "from nose.tools import assert_equal\n",
    "\n",
    "class AnagramTest(object):\n",
    "    def test(self, func):\n",
    "        assert_equal(func('go go go', 'gggooo'), True)\n",
    "        assert_equal(func('abc', 'cba'), True)\n",
    "        assert_equal(func('123', '1   2'), False)\n",
    "        \n",
    "        print(\"All test cases passed\")"
   ]
  },
  {
   "cell_type": "code",
   "execution_count": 63,
   "id": "128714fc",
   "metadata": {},
   "outputs": [
    {
     "name": "stdout",
     "output_type": "stream",
     "text": [
      "All test cases passed\n"
     ]
    }
   ],
   "source": [
    "ana = AnagramTest()\n",
    "ana.test(anagram3)"
   ]
  },
  {
   "cell_type": "code",
   "execution_count": null,
   "id": "027676a5",
   "metadata": {},
   "outputs": [],
   "source": []
  },
  {
   "cell_type": "code",
   "execution_count": null,
   "id": "801e2de8",
   "metadata": {},
   "outputs": [],
   "source": [
    "pip install nose"
   ]
  },
  {
   "cell_type": "code",
   "execution_count": null,
   "id": "ab22bf8f",
   "metadata": {},
   "outputs": [],
   "source": []
  }
 ],
 "metadata": {
  "kernelspec": {
   "display_name": "Python 3 (ipykernel)",
   "language": "python",
   "name": "python3"
  },
  "language_info": {
   "codemirror_mode": {
    "name": "ipython",
    "version": 3
   },
   "file_extension": ".py",
   "mimetype": "text/x-python",
   "name": "python",
   "nbconvert_exporter": "python",
   "pygments_lexer": "ipython3",
   "version": "3.9.12"
  }
 },
 "nbformat": 4,
 "nbformat_minor": 5
}
