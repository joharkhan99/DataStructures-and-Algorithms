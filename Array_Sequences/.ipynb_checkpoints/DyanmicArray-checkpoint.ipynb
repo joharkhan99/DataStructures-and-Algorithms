{
 "cells": [
  {
   "cell_type": "code",
   "execution_count": 1,
   "id": "8402f05f",
   "metadata": {},
   "outputs": [],
   "source": [
    "import sys"
   ]
  },
  {
   "cell_type": "code",
   "execution_count": 4,
   "id": "0843ec95",
   "metadata": {},
   "outputs": [
    {
     "name": "stdout",
     "output_type": "stream",
     "text": [
      "Length: 0, Bytes Size: 56\n",
      "Length: 1, Bytes Size: 88\n",
      "Length: 2, Bytes Size: 88\n",
      "Length: 3, Bytes Size: 88\n",
      "Length: 4, Bytes Size: 88\n",
      "Length: 5, Bytes Size: 120\n",
      "Length: 6, Bytes Size: 120\n",
      "Length: 7, Bytes Size: 120\n",
      "Length: 8, Bytes Size: 120\n",
      "Length: 9, Bytes Size: 184\n"
     ]
    }
   ],
   "source": [
    "n=10\n",
    "data = []\n",
    "\n",
    "for i in range(n):\n",
    "    a = len(data)\n",
    "    size = sys.getsizeof(data)\n",
    "    data.append(i)\n",
    "    \n",
    "    print(f\"Length: {a}, Bytes Size: {size}\")"
   ]
  },
  {
   "cell_type": "markdown",
   "id": "e5acbe6d",
   "metadata": {},
   "source": [
    "# Dynamic Array Implementation"
   ]
  },
  {
   "cell_type": "code",
   "execution_count": 9,
   "id": "a2abc912",
   "metadata": {},
   "outputs": [],
   "source": [
    "import ctypes"
   ]
  },
  {
   "cell_type": "code",
   "execution_count": 11,
   "id": "6cb6130b",
   "metadata": {},
   "outputs": [],
   "source": [
    "class DynamicArray(object):\n",
    "    \n",
    "    def __init__(self):\n",
    "        self.n = 0  # count of elements\n",
    "        self.capacity = 1\n",
    "        self.A = self.make_array(self.capacity)\n",
    "        \n",
    "    def __len__(self):\n",
    "        return self.n\n",
    "    \n",
    "    def __getitem__(self, k):\n",
    "        # if k/index is not between 0 and actual eleemnt count\n",
    "        if not 0 <= k < self.n:\n",
    "            return IndexError(\"K is out of bounds\")\n",
    "        \n",
    "        return self.A[k]\n",
    "    \n",
    "    def append(self, element):\n",
    "        # chec capacity\n",
    "        if self.n == self.capacity:\n",
    "            self._resize(2*self.capacity) # 2x if capacity isn't enough\n",
    "        \n",
    "        # add to array\n",
    "        self.A[self.n] = element\n",
    "        self.n += 1\n",
    "        \n",
    "    def _resize(self, new_capacity):\n",
    "        B = self.make_array(new_capacity)  # make a new bigger array\n",
    "        \n",
    "        # add all element from A to B\n",
    "        for k in range(self.n):\n",
    "            B[k] = self.A[k]\n",
    "        \n",
    "        # assign new array to A\n",
    "        self.A = B\n",
    "        self.capacity = new_capacity\n",
    "        \n",
    "    def make_array(self, new_capacity):\n",
    "        #this line of code is creating and returning a new array \n",
    "        #that can hold new_capacity number of Python objects, \n",
    "        #where the data type of each element in the \n",
    "        #array is py_object. \n",
    "        return (new_capacity * ctypes.py_object)()"
   ]
  },
  {
   "cell_type": "code",
   "execution_count": 12,
   "id": "a8279dc0",
   "metadata": {},
   "outputs": [],
   "source": [
    "arr = DynamicArray()"
   ]
  },
  {
   "cell_type": "code",
   "execution_count": 13,
   "id": "78369ff7",
   "metadata": {},
   "outputs": [],
   "source": [
    "arr.append(1)"
   ]
  },
  {
   "cell_type": "code",
   "execution_count": 14,
   "id": "f157c71b",
   "metadata": {},
   "outputs": [
    {
     "data": {
      "text/plain": [
       "1"
      ]
     },
     "execution_count": 14,
     "metadata": {},
     "output_type": "execute_result"
    }
   ],
   "source": [
    "len(arr)"
   ]
  },
  {
   "cell_type": "code",
   "execution_count": 15,
   "id": "01ed0922",
   "metadata": {},
   "outputs": [],
   "source": [
    "arr.append(120)"
   ]
  },
  {
   "cell_type": "code",
   "execution_count": 16,
   "id": "d63c010a",
   "metadata": {},
   "outputs": [
    {
     "data": {
      "text/plain": [
       "2"
      ]
     },
     "execution_count": 16,
     "metadata": {},
     "output_type": "execute_result"
    }
   ],
   "source": [
    "len(arr)"
   ]
  },
  {
   "cell_type": "code",
   "execution_count": 17,
   "id": "6dfead57",
   "metadata": {},
   "outputs": [
    {
     "data": {
      "text/plain": [
       "1"
      ]
     },
     "execution_count": 17,
     "metadata": {},
     "output_type": "execute_result"
    }
   ],
   "source": [
    "arr[0]"
   ]
  },
  {
   "cell_type": "code",
   "execution_count": 18,
   "id": "29b34d86",
   "metadata": {},
   "outputs": [
    {
     "data": {
      "text/plain": [
       "120"
      ]
     },
     "execution_count": 18,
     "metadata": {},
     "output_type": "execute_result"
    }
   ],
   "source": [
    "arr[1]"
   ]
  },
  {
   "cell_type": "code",
   "execution_count": 19,
   "id": "01b00f41",
   "metadata": {},
   "outputs": [],
   "source": [
    "arr.append(\"test\")"
   ]
  },
  {
   "cell_type": "code",
   "execution_count": 20,
   "id": "e847ea5d",
   "metadata": {},
   "outputs": [
    {
     "data": {
      "text/plain": [
       "IndexError('K is out of bounds')"
      ]
     },
     "execution_count": 20,
     "metadata": {},
     "output_type": "execute_result"
    }
   ],
   "source": [
    "arr[3]"
   ]
  },
  {
   "cell_type": "code",
   "execution_count": 21,
   "id": "8ef7e8a8",
   "metadata": {},
   "outputs": [
    {
     "data": {
      "text/plain": [
       "'test'"
      ]
     },
     "execution_count": 21,
     "metadata": {},
     "output_type": "execute_result"
    }
   ],
   "source": [
    "arr[2]"
   ]
  },
  {
   "cell_type": "code",
   "execution_count": null,
   "id": "8180fde6",
   "metadata": {},
   "outputs": [],
   "source": []
  },
  {
   "cell_type": "code",
   "execution_count": null,
   "id": "d5dd4762",
   "metadata": {},
   "outputs": [],
   "source": []
  }
 ],
 "metadata": {
  "kernelspec": {
   "display_name": "Python 3 (ipykernel)",
   "language": "python",
   "name": "python3"
  },
  "language_info": {
   "codemirror_mode": {
    "name": "ipython",
    "version": 3
   },
   "file_extension": ".py",
   "mimetype": "text/x-python",
   "name": "python",
   "nbconvert_exporter": "python",
   "pygments_lexer": "ipython3",
   "version": "3.9.12"
  }
 },
 "nbformat": 4,
 "nbformat_minor": 5
}
