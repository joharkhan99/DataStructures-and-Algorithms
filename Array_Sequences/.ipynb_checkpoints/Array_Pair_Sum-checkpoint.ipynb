{
 "cells": [
  {
   "cell_type": "markdown",
   "id": "5ac6744b",
   "metadata": {},
   "source": [
    "### Given an array A[] of n numbers and another number x, the task is to check whether or not there exist two elements in A[] whose sum is exactly x."
   ]
  },
  {
   "cell_type": "code",
   "execution_count": 115,
   "id": "4fd9b6fb",
   "metadata": {},
   "outputs": [],
   "source": [
    "def pair_sum(A, x):\n",
    "    for i in range(len(A)):\n",
    "        for j in range(i+1, len(A)):\n",
    "            if A[i] + A[j] == x:\n",
    "                print (A[i], A[j])"
   ]
  },
  {
   "cell_type": "code",
   "execution_count": 117,
   "id": "50eadd10",
   "metadata": {},
   "outputs": [
    {
     "name": "stdout",
     "output_type": "stream",
     "text": [
      "1 3\n",
      "2 2\n"
     ]
    }
   ],
   "source": [
    "# A = [1, 4, 45, 6, 10, -8, 20, -4]\n",
    "# x = 16\n",
    "\n",
    "A = [1, 3, 2, 2]\n",
    "x = 4\n",
    "pair_sum(A, x)"
   ]
  },
  {
   "cell_type": "code",
   "execution_count": 5,
   "id": "ea48cdf1",
   "metadata": {},
   "outputs": [],
   "source": [
    "# 2nd way\n",
    "def pair_sum(A, x):\n",
    "    if len(A) < 2:\n",
    "        return\n",
    "\n",
    "    output = set()\n",
    "    seen = set()\n",
    "    \n",
    "    for num in A:\n",
    "        complement = x - num\n",
    "        print(f\"{num} : {complement}\")\n",
    "        \n",
    "        if complement not in seen:\n",
    "            seen.add(num)\n",
    "        else:\n",
    "            output.add((min(num, complement), max(num, complement)))\n",
    "        print(seen, output)\n",
    "\n",
    "    return output"
   ]
  },
  {
   "cell_type": "code",
   "execution_count": 6,
   "id": "18964106",
   "metadata": {},
   "outputs": [
    {
     "name": "stdout",
     "output_type": "stream",
     "text": [
      "1 : 15\n",
      "{1} set()\n",
      "4 : 12\n",
      "{1, 4} set()\n",
      "45 : -29\n",
      "{1, 4, 45} set()\n",
      "6 : 10\n",
      "{1, 4, 45, 6} set()\n",
      "10 : 6\n",
      "{1, 4, 45, 6} {(6, 10)}\n",
      "-8 : 24\n",
      "{1, 4, 6, 45, -8} {(6, 10)}\n",
      "20 : -4\n",
      "{1, 4, 6, 45, 20, -8} {(6, 10)}\n",
      "-4 : 20\n",
      "{1, 4, 6, 45, 20, -8} {(6, 10), (-4, 20)}\n"
     ]
    },
    {
     "data": {
      "text/plain": [
       "{(-4, 20), (6, 10)}"
      ]
     },
     "execution_count": 6,
     "metadata": {},
     "output_type": "execute_result"
    }
   ],
   "source": [
    "A = [1, 4, 45, 6, 10, -8, 20, -4]\n",
    "x = 16\n",
    "pair_sum(A, x)"
   ]
  },
  {
   "cell_type": "code",
   "execution_count": 8,
   "id": "9931abbc",
   "metadata": {},
   "outputs": [],
   "source": [
    "def pair_sum(A, target):\n",
    "    if len(A) < 2:\n",
    "        return\n",
    "    \n",
    "    seen = set()\n",
    "    output = set()\n",
    "    \n",
    "    for num in A:\n",
    "        complement = target - num\n",
    "        \n",
    "        if complement not in seen:\n",
    "            seen.add(num)\n",
    "        else:\n",
    "            output.add((num, complement))\n",
    "            \n",
    "    return output"
   ]
  },
  {
   "cell_type": "code",
   "execution_count": 9,
   "id": "740ad002",
   "metadata": {},
   "outputs": [
    {
     "data": {
      "text/plain": [
       "{(-4, 20), (10, 6)}"
      ]
     },
     "execution_count": 9,
     "metadata": {},
     "output_type": "execute_result"
    }
   ],
   "source": [
    "pair_sum(A, x)"
   ]
  },
  {
   "cell_type": "code",
   "execution_count": null,
   "id": "047bd556",
   "metadata": {},
   "outputs": [],
   "source": []
  }
 ],
 "metadata": {
  "kernelspec": {
   "display_name": "Python 3 (ipykernel)",
   "language": "python",
   "name": "python3"
  },
  "language_info": {
   "codemirror_mode": {
    "name": "ipython",
    "version": 3
   },
   "file_extension": ".py",
   "mimetype": "text/x-python",
   "name": "python",
   "nbconvert_exporter": "python",
   "pygments_lexer": "ipython3",
   "version": "3.9.12"
  }
 },
 "nbformat": 4,
 "nbformat_minor": 5
}
