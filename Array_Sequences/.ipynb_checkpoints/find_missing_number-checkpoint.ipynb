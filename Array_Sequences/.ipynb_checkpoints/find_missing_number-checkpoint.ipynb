{
 "cells": [
  {
   "cell_type": "markdown",
   "id": "7f2dcf1a",
   "metadata": {},
   "source": [
    "Consider an array of non-negative integers. A second array is formed by shuffling the elements of the first array and deleting a random element. Given these two arrays, find which element is missing in the second array.\n",
    "Here is an example input, the first array is shuffled and the number 5 is removed to construct the second array.\n",
    "\n",
    "Input:<br>\n",
    "finder ([1,2,3,4,5,6,7], [3,7,2,1,4,6])\n",
    "\n",
    "Output:<br>\n",
    "5 is the missing number"
   ]
  },
  {
   "cell_type": "code",
   "execution_count": 74,
   "id": "d1aaae6d",
   "metadata": {},
   "outputs": [],
   "source": [
    "\"\"\"\n",
    "Time COmplexity \n",
    "for loop = O(n)\n",
    "sort method = O(nlogn) + O(nlogn)\n",
    "\n",
    "O(nlogn) + O(nlogn) + O(n) = O(nlogn)\n",
    "\"\"\"\n",
    "def finder(arr1, arr2):\n",
    "    arr2.sort()\n",
    "    arr1.sort()\n",
    "    for i in range(len(arr1)-1):\n",
    "        if arr1[i] != arr2[i]:\n",
    "            print (f\"{arr1[i]} is missing\")\n",
    "            break"
   ]
  },
  {
   "cell_type": "code",
   "execution_count": 75,
   "id": "a937b871",
   "metadata": {},
   "outputs": [
    {
     "name": "stdout",
     "output_type": "stream",
     "text": [
      "5 is missing\n",
      "5 is missing\n",
      "6 is missing\n"
     ]
    }
   ],
   "source": [
    "finder([1,2,3,4,5,6,7], [3,7,2,1,4,6])\n",
    "finder([5,5,7,7], [5,7,7])\n",
    "finder([9,8,7,6,5,4,3,2,1], [9,8,7,5,4,3,2,1])"
   ]
  },
  {
   "cell_type": "code",
   "execution_count": 78,
   "id": "594d5944",
   "metadata": {},
   "outputs": [],
   "source": [
    "# 2nd way\n",
    "\"\"\"Time COmplexity \n",
    "for loop = O(n)\n",
    "sort method = O(nlogn) + O(nlogn)\n",
    "\n",
    "O(nlogn) + O(nlogn) + O(n) = O(nlogn)\n",
    "\"\"\"\n",
    "def finder(arr1, arr2):\n",
    "    arr2.sort()\n",
    "    arr1.sort()\n",
    "    for n1, n2 in zip(arr1, arr2):\n",
    "        if n1 != n2:\n",
    "            print (f\"{n1} is missing\")\n",
    "            break"
   ]
  },
  {
   "cell_type": "code",
   "execution_count": 79,
   "id": "6cc7b9fd",
   "metadata": {},
   "outputs": [
    {
     "name": "stdout",
     "output_type": "stream",
     "text": [
      "5 is missing\n",
      "5 is missing\n",
      "6 is missing\n"
     ]
    }
   ],
   "source": [
    "finder([1,2,3,4,5,6,7], [3,7,2,1,4,6])\n",
    "finder([5,5,7,7], [5,7,7])\n",
    "finder([9,8,7,6,5,4,3,2,1], [9,8,7,5,4,3,2,1])"
   ]
  },
  {
   "cell_type": "code",
   "execution_count": 127,
   "id": "65a10156",
   "metadata": {},
   "outputs": [],
   "source": [
    "# 3rd way\n",
    "\"\"\"\n",
    "Time Complexity\n",
    "for loops = O(n) + O(n) = 2 O(n) = O(n)\n",
    "\"\"\"\n",
    "import collections\n",
    "\n",
    "def finder(arr1, arr2):\n",
    "    count = collections.defaultdict(int)  # using this dict to avoid key errors in loops\n",
    "\n",
    "    for num in arr2:\n",
    "        count[num] += 1\n",
    "\n",
    "    for num in arr1:\n",
    "        if count[num] == 0:\n",
    "            return num\n",
    "        else:\n",
    "            count[num] -= 1"
   ]
  },
  {
   "cell_type": "code",
   "execution_count": 128,
   "id": "c1dd602c",
   "metadata": {},
   "outputs": [
    {
     "name": "stdout",
     "output_type": "stream",
     "text": [
      "5\n",
      "5\n",
      "6\n"
     ]
    }
   ],
   "source": [
    "print(finder([1,2,3,4,5,6,7], [3,7,2,1,4,6]))\n",
    "print(finder([5,5,7,7], [5,7,7]))\n",
    "print(finder([9,8,7,6,5,4,3,2,1], [9,8,7,5,4,3,2,1]))"
   ]
  },
  {
   "cell_type": "code",
   "execution_count": 137,
   "id": "7c895757",
   "metadata": {},
   "outputs": [],
   "source": [
    "# 4th way\n",
    "\"\"\"\n",
    "Time Complexity\n",
    "for loops = O(n) + O(n) + O(n) = 3 O(n) = O(n)\n",
    "\"\"\"\n",
    "def finder(arr1, arr2):\n",
    "    \n",
    "    count = {}\n",
    "    \n",
    "    for num in arr2:\n",
    "        if num in count:\n",
    "            count[num] += 1\n",
    "        else:\n",
    "            count[num] = 1\n",
    "            \n",
    "    for num in arr1:\n",
    "        if num in count:\n",
    "            count[num] -= 1\n",
    "        else:\n",
    "            count[num] = 1\n",
    "\n",
    "    for num in count:\n",
    "        if count[num] != 0:\n",
    "            print (f\"{num} is missing\")"
   ]
  },
  {
   "cell_type": "code",
   "execution_count": 138,
   "id": "d42b198c",
   "metadata": {},
   "outputs": [
    {
     "name": "stdout",
     "output_type": "stream",
     "text": [
      "5 is missing\n",
      "5 is missing\n",
      "6 is missing\n"
     ]
    }
   ],
   "source": [
    "finder([1,2,3,4,5,6,7], [3,7,2,1,4,6])\n",
    "finder([5,5,7,7], [5,7,7])\n",
    "finder([9,8,7,6,5,4,3,2,1], [9,8,7,5,4,3,2,1])"
   ]
  },
  {
   "cell_type": "code",
   "execution_count": 139,
   "id": "67b3564e",
   "metadata": {},
   "outputs": [],
   "source": [
    "# 5th way\n",
    "\"\"\"\n",
    "Time Complexity\n",
    "2 sum() = O(n) + O(n) = O(n)\n",
    "\"\"\"\n",
    "def finder(arr1, arr2):\n",
    "    return sum(arr1) - sum(arr2)"
   ]
  },
  {
   "cell_type": "code",
   "execution_count": 140,
   "id": "03d2c4ee",
   "metadata": {},
   "outputs": [
    {
     "name": "stdout",
     "output_type": "stream",
     "text": [
      "5\n",
      "5\n",
      "6\n"
     ]
    }
   ],
   "source": [
    "print(finder([1,2,3,4,5,6,7], [3,7,2,1,4,6]))\n",
    "print(finder([5,5,7,7], [5,7,7]))\n",
    "print(finder([9,8,7,6,5,4,3,2,1], [9,8,7,5,4,3,2,1]))"
   ]
  },
  {
   "cell_type": "code",
   "execution_count": 149,
   "id": "ea39bf84",
   "metadata": {},
   "outputs": [],
   "source": [
    "# 6th way\n",
    "\"\"\"\n",
    "Time Complexity\n",
    "\"\"\"\n",
    "def finder(arr1, arr2):\n",
    "    result = 0\n",
    "    for num in arr1+arr2:\n",
    "        result ^= num\n",
    "        print(result)\n",
    "    return result"
   ]
  },
  {
   "cell_type": "code",
   "execution_count": 151,
   "id": "b4f45282",
   "metadata": {},
   "outputs": [
    {
     "name": "stdout",
     "output_type": "stream",
     "text": [
      "5\n",
      "5\n",
      "6\n"
     ]
    }
   ],
   "source": [
    "print(finder([1,2,3,4,5,6,7], [3,7,2,1,4,6]))\n",
    "# print(finder([5,5,7,7], [5,7,7]))\n",
    "# print(finder([9,8,7,6,5,4,3,2,1], [9,8,7,5,4,3,2,1]))"
   ]
  },
  {
   "cell_type": "code",
   "execution_count": null,
   "id": "21d521d6",
   "metadata": {},
   "outputs": [],
   "source": []
  },
  {
   "cell_type": "code",
   "execution_count": null,
   "id": "364a3fec",
   "metadata": {},
   "outputs": [],
   "source": []
  }
 ],
 "metadata": {
  "kernelspec": {
   "display_name": "Python 3 (ipykernel)",
   "language": "python",
   "name": "python3"
  },
  "language_info": {
   "codemirror_mode": {
    "name": "ipython",
    "version": 3
   },
   "file_extension": ".py",
   "mimetype": "text/x-python",
   "name": "python",
   "nbconvert_exporter": "python",
   "pygments_lexer": "ipython3",
   "version": "3.9.12"
  }
 },
 "nbformat": 4,
 "nbformat_minor": 5
}
