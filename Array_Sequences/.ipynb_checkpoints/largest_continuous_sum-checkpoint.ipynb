{
 "cells": [
  {
   "cell_type": "markdown",
   "id": "c22d3c06",
   "metadata": {},
   "source": [
    "Problem\n",
    "\n",
    "Given an array of integers (positive and negative) find the largest continuous sum."
   ]
  },
  {
   "cell_type": "code",
   "execution_count": 36,
   "id": "2b1e8d95",
   "metadata": {},
   "outputs": [],
   "source": [
    "# 1st way\n",
    "def large_cont_sum(arr):\n",
    "    largest_sum = currentSum = arr[0]\n",
    "\n",
    "    for num in arr[1:]:\n",
    "        currentSum += num\n",
    "\n",
    "        if currentSum < num:\n",
    "            currentSum = num\n",
    "\n",
    "        if currentSum > largest_sum:\n",
    "            largest_sum = currentSum  \n",
    "\n",
    "    return largest_sum"
   ]
  },
  {
   "cell_type": "code",
   "execution_count": 37,
   "id": "989d23a7",
   "metadata": {},
   "outputs": [
    {
     "data": {
      "text/plain": [
       "29"
      ]
     },
     "execution_count": 37,
     "metadata": {},
     "output_type": "execute_result"
    }
   ],
   "source": [
    "large_cont_sum([1,2,-1,3,4,10,10,-10,-1])"
   ]
  },
  {
   "cell_type": "code",
   "execution_count": 42,
   "id": "01338b04",
   "metadata": {},
   "outputs": [],
   "source": [
    "def large_cont_sum(arr):\n",
    "    largest_sum = currentSum = arr[0]\n",
    "\n",
    "    for num in arr[1:]:\n",
    "        currentSum = max(currentSum + num, num)\n",
    "        largest_sum = max(currentSum, largest_sum)\n",
    "\n",
    "    return largest_sum"
   ]
  },
  {
   "cell_type": "code",
   "execution_count": 43,
   "id": "12588d28",
   "metadata": {},
   "outputs": [
    {
     "data": {
      "text/plain": [
       "29"
      ]
     },
     "execution_count": 43,
     "metadata": {},
     "output_type": "execute_result"
    }
   ],
   "source": [
    "large_cont_sum([1,2,-1,3,4,10,10,-10,-1])"
   ]
  },
  {
   "cell_type": "code",
   "execution_count": null,
   "id": "918bbe4e",
   "metadata": {},
   "outputs": [],
   "source": []
  }
 ],
 "metadata": {
  "kernelspec": {
   "display_name": "Python 3 (ipykernel)",
   "language": "python",
   "name": "python3"
  },
  "language_info": {
   "codemirror_mode": {
    "name": "ipython",
    "version": 3
   },
   "file_extension": ".py",
   "mimetype": "text/x-python",
   "name": "python",
   "nbconvert_exporter": "python",
   "pygments_lexer": "ipython3",
   "version": "3.9.12"
  }
 },
 "nbformat": 4,
 "nbformat_minor": 5
}
