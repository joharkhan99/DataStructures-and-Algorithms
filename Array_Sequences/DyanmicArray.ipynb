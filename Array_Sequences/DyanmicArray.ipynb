{
 "cells": [
  {
   "cell_type": "code",
   "execution_count": 1,
   "id": "a880ddab",
   "metadata": {},
   "outputs": [],
   "source": [
    "import sys"
   ]
  },
  {
   "cell_type": "code",
   "execution_count": 4,
   "id": "2ada2463",
   "metadata": {},
   "outputs": [
    {
     "name": "stdout",
     "output_type": "stream",
     "text": [
      "Length: 0, Bytes Size: 56\n",
      "Length: 1, Bytes Size: 88\n",
      "Length: 2, Bytes Size: 88\n",
      "Length: 3, Bytes Size: 88\n",
      "Length: 4, Bytes Size: 88\n",
      "Length: 5, Bytes Size: 120\n",
      "Length: 6, Bytes Size: 120\n",
      "Length: 7, Bytes Size: 120\n",
      "Length: 8, Bytes Size: 120\n",
      "Length: 9, Bytes Size: 184\n"
     ]
    }
   ],
   "source": [
    "n=10\n",
    "data = []\n",
    "\n",
    "for i in range(n):\n",
    "    a = len(data)\n",
    "    size = sys.getsizeof(data)\n",
    "    data.append(i)\n",
    "    \n",
    "    print(f\"Length: {a}, Bytes Size: {size}\")"
   ]
  },
  {
   "cell_type": "markdown",
   "id": "fd5bc592",
   "metadata": {},
   "source": [
    "# Dynamic Array Implementation"
   ]
  },
  {
   "cell_type": "code",
   "execution_count": 9,
   "id": "adfaff0c",
   "metadata": {},
   "outputs": [],
   "source": [
    "import ctypes"
   ]
  },
  {
   "cell_type": "code",
   "execution_count": 22,
   "id": "52a52fde",
   "metadata": {},
   "outputs": [],
   "source": [
    "class DynamicArray(object):\n",
    "    \n",
    "    def __init__(self):\n",
    "        self.n = 0  # count of elements\n",
    "        self.capacity = 1\n",
    "        self.A = self.make_array(self.capacity)\n",
    "        \n",
    "    def __len__(self):\n",
    "        return self.n\n",
    "    \n",
    "    def __getitem__(self, k):\n",
    "        # if k/index is not between 0 and actual eleemnt count\n",
    "        if not 0 <= k < self.n:\n",
    "            return IndexError(\"K is out of bounds\")\n",
    "        \n",
    "        return self.A[k]\n",
    "    \n",
    "    def append(self, element):\n",
    "        # chec capacity\n",
    "        if self.n == self.capacity:\n",
    "            self._resize(2*self.capacity) # 2x if capacity isn't enough\n",
    "        \n",
    "        # add to array\n",
    "        self.A[self.n] = element\n",
    "        self.n += 1\n",
    "        \n",
    "    def _resize(self, new_capacity):\n",
    "        B = self.make_array(new_capacity)  # make a new bigger array\n",
    "        \n",
    "        # add all element from A to B\n",
    "        for k in range(self.n):\n",
    "            B[k] = self.A[k]\n",
    "        \n",
    "        # assign new array to A\n",
    "        self.A = B\n",
    "        self.capacity = new_capacity\n",
    "        \n",
    "    def make_array(self, new_capacity):\n",
    "        #this line of code is creating and returning a new array \n",
    "        #that can hold new_capacity number of Python objects, \n",
    "        #where the data type of each element in the \n",
    "        #array is py_object. \n",
    "        return (new_capacity * ctypes.py_object)()"
   ]
  },
  {
   "cell_type": "code",
   "execution_count": 72,
   "id": "454cdb07",
   "metadata": {},
   "outputs": [],
   "source": [
    "arr = DynamicArray()"
   ]
  },
  {
   "cell_type": "code",
   "execution_count": 73,
   "id": "e87f9f26",
   "metadata": {},
   "outputs": [],
   "source": [
    "arr.append(1)"
   ]
  },
  {
   "cell_type": "code",
   "execution_count": 74,
   "id": "d18d67e1",
   "metadata": {},
   "outputs": [
    {
     "data": {
      "text/plain": [
       "1"
      ]
     },
     "execution_count": 74,
     "metadata": {},
     "output_type": "execute_result"
    }
   ],
   "source": [
    "len(arr)"
   ]
  },
  {
   "cell_type": "code",
   "execution_count": 75,
   "id": "771f2b64",
   "metadata": {},
   "outputs": [
    {
     "data": {
      "text/plain": [
       "48"
      ]
     },
     "execution_count": 75,
     "metadata": {},
     "output_type": "execute_result"
    }
   ],
   "source": [
    "sys.getsizeof(arr)"
   ]
  },
  {
   "cell_type": "code",
   "execution_count": 76,
   "id": "0b2b08c6",
   "metadata": {},
   "outputs": [],
   "source": [
    "arr.append(120)"
   ]
  },
  {
   "cell_type": "code",
   "execution_count": 77,
   "id": "c629986b",
   "metadata": {},
   "outputs": [
    {
     "data": {
      "text/plain": [
       "2"
      ]
     },
     "execution_count": 77,
     "metadata": {},
     "output_type": "execute_result"
    }
   ],
   "source": [
    "len(arr)"
   ]
  },
  {
   "cell_type": "code",
   "execution_count": 78,
   "id": "ffd22a97",
   "metadata": {},
   "outputs": [
    {
     "data": {
      "text/plain": [
       "48"
      ]
     },
     "execution_count": 78,
     "metadata": {},
     "output_type": "execute_result"
    }
   ],
   "source": [
    "sys.getsizeof(arr)"
   ]
  },
  {
   "cell_type": "code",
   "execution_count": 79,
   "id": "44d1cf83",
   "metadata": {},
   "outputs": [
    {
     "data": {
      "text/plain": [
       "1"
      ]
     },
     "execution_count": 79,
     "metadata": {},
     "output_type": "execute_result"
    }
   ],
   "source": [
    "arr[0]"
   ]
  },
  {
   "cell_type": "code",
   "execution_count": 80,
   "id": "54937469",
   "metadata": {},
   "outputs": [
    {
     "data": {
      "text/plain": [
       "120"
      ]
     },
     "execution_count": 80,
     "metadata": {},
     "output_type": "execute_result"
    }
   ],
   "source": [
    "arr[1]"
   ]
  },
  {
   "cell_type": "code",
   "execution_count": 81,
   "id": "b13a6d02",
   "metadata": {},
   "outputs": [],
   "source": [
    "arr.append(\"test\")"
   ]
  },
  {
   "cell_type": "code",
   "execution_count": 82,
   "id": "07e6995f",
   "metadata": {},
   "outputs": [
    {
     "data": {
      "text/plain": [
       "48"
      ]
     },
     "execution_count": 82,
     "metadata": {},
     "output_type": "execute_result"
    }
   ],
   "source": [
    "sys.getsizeof(arr)"
   ]
  },
  {
   "cell_type": "code",
   "execution_count": 83,
   "id": "37d903cb",
   "metadata": {},
   "outputs": [
    {
     "data": {
      "text/plain": [
       "IndexError('K is out of bounds')"
      ]
     },
     "execution_count": 83,
     "metadata": {},
     "output_type": "execute_result"
    }
   ],
   "source": [
    "arr[3]"
   ]
  },
  {
   "cell_type": "code",
   "execution_count": 84,
   "id": "fc9f56f3",
   "metadata": {},
   "outputs": [
    {
     "data": {
      "text/plain": [
       "'test'"
      ]
     },
     "execution_count": 84,
     "metadata": {},
     "output_type": "execute_result"
    }
   ],
   "source": [
    "arr[2]"
   ]
  },
  {
   "cell_type": "code",
   "execution_count": 85,
   "id": "a9f2eb96",
   "metadata": {},
   "outputs": [],
   "source": [
    "arr.append(\"michel\")"
   ]
  },
  {
   "cell_type": "code",
   "execution_count": 86,
   "id": "b9e57e6c",
   "metadata": {},
   "outputs": [
    {
     "data": {
      "text/plain": [
       "48"
      ]
     },
     "execution_count": 86,
     "metadata": {},
     "output_type": "execute_result"
    }
   ],
   "source": [
    "sys.getsizeof(arr)"
   ]
  },
  {
   "cell_type": "code",
   "execution_count": 87,
   "id": "9573f7b8",
   "metadata": {},
   "outputs": [],
   "source": [
    "arr.append(12)\n",
    "arr.append(120)\n",
    "arr.append(90)\n",
    "arr.append(1)\n",
    "arr.append(76)\n",
    "arr.append(\"ei\")\n",
    "arr.append(False)\n",
    "arr.append(True)"
   ]
  },
  {
   "cell_type": "code",
   "execution_count": 88,
   "id": "22175b1c",
   "metadata": {},
   "outputs": [
    {
     "data": {
      "text/plain": [
       "48"
      ]
     },
     "execution_count": 88,
     "metadata": {},
     "output_type": "execute_result"
    }
   ],
   "source": [
    "sys.getsizeof(arr)"
   ]
  },
  {
   "cell_type": "code",
   "execution_count": 89,
   "id": "c4fcf3a2",
   "metadata": {},
   "outputs": [],
   "source": [
    "for i in range(1000):\n",
    "    arr.append(i)"
   ]
  },
  {
   "cell_type": "code",
   "execution_count": 90,
   "id": "8b634a93",
   "metadata": {},
   "outputs": [
    {
     "data": {
      "text/plain": [
       "48"
      ]
     },
     "execution_count": 90,
     "metadata": {},
     "output_type": "execute_result"
    }
   ],
   "source": [
    "sys.getsizeof(arr)"
   ]
  },
  {
   "cell_type": "code",
   "execution_count": null,
   "id": "9581a038",
   "metadata": {},
   "outputs": [],
   "source": []
  },
  {
   "cell_type": "code",
   "execution_count": null,
   "id": "f130e511",
   "metadata": {},
   "outputs": [],
   "source": []
  }
 ],
 "metadata": {
  "kernelspec": {
   "display_name": "Python 3 (ipykernel)",
   "language": "python",
   "name": "python3"
  },
  "language_info": {
   "codemirror_mode": {
    "name": "ipython",
    "version": 3
   },
   "file_extension": ".py",
   "mimetype": "text/x-python",
   "name": "python",
   "nbconvert_exporter": "python",
   "pygments_lexer": "ipython3",
   "version": "3.9.12"
  }
 },
 "nbformat": 4,
 "nbformat_minor": 5
}
