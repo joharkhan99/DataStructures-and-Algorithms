{
 "cells": [
  {
   "cell_type": "markdown",
   "id": "085ef235",
   "metadata": {},
   "source": [
    "Problem\n",
    "\n",
    "Given a string of words, reverse all the words. For example:<br>\n",
    "\n",
    "Given:<br>\n",
    "```This is the best```<br>\n",
    "Return:<br>\n",
    "```best the is This```<br>"
   ]
  },
  {
   "cell_type": "code",
   "execution_count": 19,
   "id": "8b5b2f4d",
   "metadata": {},
   "outputs": [],
   "source": [
    "# 1st way\n",
    "def rev_sentence(sentence):\n",
    "    sentence = sentence.strip()\n",
    "\n",
    "    arr = sentence.split(\" \")\n",
    "    out = []\n",
    "    \n",
    "    for i in range(len(arr)-1, -1, -1):\n",
    "        out.append(arr[i])\n",
    "\n",
    "    return \" \".join(out)"
   ]
  },
  {
   "cell_type": "code",
   "execution_count": 20,
   "id": "badfbdb9",
   "metadata": {},
   "outputs": [
    {
     "data": {
      "text/plain": [
       "'best the is This'"
      ]
     },
     "execution_count": 20,
     "metadata": {},
     "output_type": "execute_result"
    }
   ],
   "source": [
    "rev_sentence(\"      This is the best  \")"
   ]
  },
  {
   "cell_type": "code",
   "execution_count": 35,
   "id": "c18ee0c8",
   "metadata": {},
   "outputs": [],
   "source": [
    "# 2st way\n",
    "def rev_sentence(sentence):\n",
    "    sentence = sentence.strip()\n",
    "    arr = reversed(sentence.split(\" \"))\n",
    "\n",
    "    return \" \".join(arr)"
   ]
  },
  {
   "cell_type": "code",
   "execution_count": 36,
   "id": "aab8a374",
   "metadata": {},
   "outputs": [
    {
     "data": {
      "text/plain": [
       "'best the is This'"
      ]
     },
     "execution_count": 36,
     "metadata": {},
     "output_type": "execute_result"
    }
   ],
   "source": [
    "rev_sentence(\"      This is the best  \")"
   ]
  },
  {
   "cell_type": "code",
   "execution_count": 40,
   "id": "866d0f18",
   "metadata": {},
   "outputs": [],
   "source": [
    "# 3rd way\n",
    "def rev_sentence(sentence):\n",
    "    sentence = sentence.strip()\n",
    "\n",
    "    return \" \".join(sentence.split(\" \")[::-1])"
   ]
  },
  {
   "cell_type": "code",
   "execution_count": 41,
   "id": "9202bd5f",
   "metadata": {},
   "outputs": [
    {
     "data": {
      "text/plain": [
       "'best the is This'"
      ]
     },
     "execution_count": 41,
     "metadata": {},
     "output_type": "execute_result"
    }
   ],
   "source": [
    "rev_sentence(\"      This is the best  \")"
   ]
  },
  {
   "cell_type": "code",
   "execution_count": 68,
   "id": "9fd52161",
   "metadata": {},
   "outputs": [],
   "source": [
    "# 4th way\n",
    "def rev_sentence(sentence):\n",
    "    words = []\n",
    "    length = len(sentence)\n",
    "    i = 0\n",
    "    \n",
    "    while i < length:\n",
    "        if sentence[i] != ' ':\n",
    "            word_start = i\n",
    "            print(\"Word Start: \",sentence[i], end='\\n\\n')\n",
    "            \n",
    "            while i < length and sentence[i] != ' ':\n",
    "                print(sentence[i])\n",
    "                i += 1\n",
    "            words.append(sentence[word_start:i])\n",
    "            print(sentence[word_start:i])\n",
    "            print(words)\n",
    "        i += 1\n",
    "        \n",
    "    return \" \".join(reversed(words))"
   ]
  },
  {
   "cell_type": "code",
   "execution_count": 69,
   "id": "cecd46d2",
   "metadata": {},
   "outputs": [
    {
     "name": "stdout",
     "output_type": "stream",
     "text": [
      "Word Start:  T\n",
      "\n",
      "T\n",
      "h\n",
      "i\n",
      "s\n",
      "This\n",
      "['This']\n",
      "Word Start:  i\n",
      "\n",
      "i\n",
      "s\n",
      "is\n",
      "['This', 'is']\n",
      "Word Start:  t\n",
      "\n",
      "t\n",
      "h\n",
      "e\n",
      "the\n",
      "['This', 'is', 'the']\n",
      "Word Start:  b\n",
      "\n",
      "b\n",
      "e\n",
      "s\n",
      "t\n",
      "best\n",
      "['This', 'is', 'the', 'best']\n"
     ]
    },
    {
     "data": {
      "text/plain": [
       "'best the is This'"
      ]
     },
     "execution_count": 69,
     "metadata": {},
     "output_type": "execute_result"
    }
   ],
   "source": [
    "rev_sentence(\"      This is the best  \")"
   ]
  },
  {
   "cell_type": "code",
   "execution_count": null,
   "id": "33fe82ee",
   "metadata": {},
   "outputs": [],
   "source": []
  },
  {
   "cell_type": "code",
   "execution_count": null,
   "id": "e2b3aaae",
   "metadata": {},
   "outputs": [],
   "source": []
  }
 ],
 "metadata": {
  "kernelspec": {
   "display_name": "Python 3 (ipykernel)",
   "language": "python",
   "name": "python3"
  },
  "language_info": {
   "codemirror_mode": {
    "name": "ipython",
    "version": 3
   },
   "file_extension": ".py",
   "mimetype": "text/x-python",
   "name": "python",
   "nbconvert_exporter": "python",
   "pygments_lexer": "ipython3",
   "version": "3.9.12"
  }
 },
 "nbformat": 4,
 "nbformat_minor": 5
}
