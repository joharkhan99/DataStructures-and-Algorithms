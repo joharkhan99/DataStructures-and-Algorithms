{
 "cells": [
  {
   "cell_type": "markdown",
   "id": "bf813fdc",
   "metadata": {},
   "source": [
    "# Deque\n",
    "\n",
    "Dequeue is a linear data structure that does not follow either of the FIFO or LIFO concept. We can add or delete items from any side of the list"
   ]
  },
  {
   "cell_type": "code",
   "execution_count": 14,
   "id": "f5dcf6db",
   "metadata": {},
   "outputs": [],
   "source": [
    "class Deque:\n",
    "    def __init__(self):\n",
    "        self.items = []\n",
    "    \n",
    "    def addFront(self, item):\n",
    "        self.items.insert(0, item)\n",
    "\n",
    "    def addRear(self, item):\n",
    "        self.items.append(item)\n",
    "\n",
    "    def removeFront(self):\n",
    "        if len(self.items) > 0:\n",
    "            return self.items.pop(0)\n",
    "\n",
    "    def removeRear(self):\n",
    "        if len(self.items) > 0:\n",
    "            return self.items.pop()\n",
    "\n",
    "    def isEmpty(self):\n",
    "        return self.items == []\n",
    "    \n",
    "    def size(self):\n",
    "        return len(self.items)\n",
    "    \n",
    "    def printList(self):\n",
    "        print(self.items)"
   ]
  },
  {
   "cell_type": "code",
   "execution_count": 15,
   "id": "7ed0688c",
   "metadata": {},
   "outputs": [],
   "source": [
    "dq = Deque()"
   ]
  },
  {
   "cell_type": "code",
   "execution_count": 16,
   "id": "76d0656c",
   "metadata": {},
   "outputs": [
    {
     "data": {
      "text/plain": [
       "True"
      ]
     },
     "execution_count": 16,
     "metadata": {},
     "output_type": "execute_result"
    }
   ],
   "source": [
    "dq.isEmpty()"
   ]
  },
  {
   "cell_type": "code",
   "execution_count": 17,
   "id": "6f48a003",
   "metadata": {},
   "outputs": [],
   "source": [
    "dq.addFront(\"johar\")\n",
    "dq.addFront(123)"
   ]
  },
  {
   "cell_type": "code",
   "execution_count": 18,
   "id": "ee604724",
   "metadata": {},
   "outputs": [
    {
     "name": "stdout",
     "output_type": "stream",
     "text": [
      "[123, 'johar']\n"
     ]
    }
   ],
   "source": [
    "dq.printList()"
   ]
  },
  {
   "cell_type": "code",
   "execution_count": 19,
   "id": "c56b34c0",
   "metadata": {},
   "outputs": [],
   "source": [
    "dq.addRear(\"Ind\")"
   ]
  },
  {
   "cell_type": "code",
   "execution_count": 20,
   "id": "5b0bee61",
   "metadata": {},
   "outputs": [
    {
     "name": "stdout",
     "output_type": "stream",
     "text": [
      "[123, 'johar', 'Ind']\n"
     ]
    }
   ],
   "source": [
    "dq.printList()"
   ]
  },
  {
   "cell_type": "code",
   "execution_count": 21,
   "id": "3b856bb7",
   "metadata": {},
   "outputs": [],
   "source": [
    "dq.addFront(\"Hah\")"
   ]
  },
  {
   "cell_type": "code",
   "execution_count": 22,
   "id": "e9e2ce06",
   "metadata": {},
   "outputs": [
    {
     "name": "stdout",
     "output_type": "stream",
     "text": [
      "['Hah', 123, 'johar', 'Ind']\n"
     ]
    }
   ],
   "source": [
    "dq.printList()"
   ]
  },
  {
   "cell_type": "code",
   "execution_count": 23,
   "id": "b5b290b4",
   "metadata": {},
   "outputs": [
    {
     "data": {
      "text/plain": [
       "4"
      ]
     },
     "execution_count": 23,
     "metadata": {},
     "output_type": "execute_result"
    }
   ],
   "source": [
    "dq.size()"
   ]
  },
  {
   "cell_type": "code",
   "execution_count": 24,
   "id": "de17df0c",
   "metadata": {},
   "outputs": [
    {
     "data": {
      "text/plain": [
       "'Ind'"
      ]
     },
     "execution_count": 24,
     "metadata": {},
     "output_type": "execute_result"
    }
   ],
   "source": [
    "dq.removeRear()"
   ]
  },
  {
   "cell_type": "code",
   "execution_count": 25,
   "id": "09f6c61a",
   "metadata": {},
   "outputs": [
    {
     "name": "stdout",
     "output_type": "stream",
     "text": [
      "['Hah', 123, 'johar']\n"
     ]
    }
   ],
   "source": [
    "dq.printList()"
   ]
  },
  {
   "cell_type": "code",
   "execution_count": 26,
   "id": "3de9760c",
   "metadata": {},
   "outputs": [
    {
     "data": {
      "text/plain": [
       "'Hah'"
      ]
     },
     "execution_count": 26,
     "metadata": {},
     "output_type": "execute_result"
    }
   ],
   "source": [
    "dq.removeFront()"
   ]
  },
  {
   "cell_type": "code",
   "execution_count": 27,
   "id": "6b1bbf26",
   "metadata": {},
   "outputs": [
    {
     "name": "stdout",
     "output_type": "stream",
     "text": [
      "[123, 'johar']\n"
     ]
    }
   ],
   "source": [
    "dq.printList()"
   ]
  },
  {
   "cell_type": "code",
   "execution_count": 28,
   "id": "18d5f283",
   "metadata": {},
   "outputs": [
    {
     "data": {
      "text/plain": [
       "2"
      ]
     },
     "execution_count": 28,
     "metadata": {},
     "output_type": "execute_result"
    }
   ],
   "source": [
    "dq.size()"
   ]
  },
  {
   "cell_type": "code",
   "execution_count": 29,
   "id": "c0b33207",
   "metadata": {},
   "outputs": [
    {
     "data": {
      "text/plain": [
       "123"
      ]
     },
     "execution_count": 29,
     "metadata": {},
     "output_type": "execute_result"
    }
   ],
   "source": [
    "dq.removeFront()"
   ]
  },
  {
   "cell_type": "code",
   "execution_count": 30,
   "id": "1696e8b8",
   "metadata": {},
   "outputs": [
    {
     "data": {
      "text/plain": [
       "'johar'"
      ]
     },
     "execution_count": 30,
     "metadata": {},
     "output_type": "execute_result"
    }
   ],
   "source": [
    "dq.removeRear()"
   ]
  },
  {
   "cell_type": "code",
   "execution_count": 31,
   "id": "be3771f0",
   "metadata": {},
   "outputs": [
    {
     "data": {
      "text/plain": [
       "0"
      ]
     },
     "execution_count": 31,
     "metadata": {},
     "output_type": "execute_result"
    }
   ],
   "source": [
    "dq.size()"
   ]
  },
  {
   "cell_type": "code",
   "execution_count": 32,
   "id": "3841d911",
   "metadata": {},
   "outputs": [
    {
     "name": "stdout",
     "output_type": "stream",
     "text": [
      "[]\n"
     ]
    }
   ],
   "source": [
    "dq.printList()"
   ]
  },
  {
   "cell_type": "code",
   "execution_count": null,
   "id": "b92a4862",
   "metadata": {},
   "outputs": [],
   "source": []
  }
 ],
 "metadata": {
  "kernelspec": {
   "display_name": "Python 3 (ipykernel)",
   "language": "python",
   "name": "python3"
  },
  "language_info": {
   "codemirror_mode": {
    "name": "ipython",
    "version": 3
   },
   "file_extension": ".py",
   "mimetype": "text/x-python",
   "name": "python",
   "nbconvert_exporter": "python",
   "pygments_lexer": "ipython3",
   "version": "3.9.12"
  }
 },
 "nbformat": 4,
 "nbformat_minor": 5
}
