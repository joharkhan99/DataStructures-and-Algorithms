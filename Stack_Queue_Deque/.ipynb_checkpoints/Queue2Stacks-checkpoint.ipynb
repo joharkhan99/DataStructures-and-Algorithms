{
 "cells": [
  {
   "cell_type": "markdown",
   "id": "b08cd806",
   "metadata": {},
   "source": [
    "# Implement a Queue Using Two Stacks"
   ]
  },
  {
   "cell_type": "code",
   "execution_count": 37,
   "id": "47ad4383",
   "metadata": {},
   "outputs": [],
   "source": [
    "\"\"\"\n",
    "Concept:\n",
    "choose one stack(stack1) for enqueu and aother(stack2) for dequeue. Now on enqueuing just keep appending to stack1 and\n",
    "on dequeuing, first check if stack2 is empty then loop over stack1 in reverse order and pop out all elements one by one and\n",
    "push them to stack2. this way the elements will be reversed. Now just return one popped element from stack2.\n",
    "\n",
    "eg:\n",
    "stack1 = [1,2,3,4]\n",
    "->dequeue\n",
    "stack2 = [4,3,2,1]\n",
    "->pop out one element\n",
    "1\n",
    "\"\"\"\n",
    "class Queue2Stacks:\n",
    "    def __init__(self):\n",
    "        self.stack1 = []\n",
    "        self.stack2 = []\n",
    "        \n",
    "    def enqueue(self, element):\n",
    "        self.stack1.append(element)\n",
    "        \n",
    "    def dequeue(self):\n",
    "        for i in range(len(self.stack1)-1, -1, -1):\n",
    "            self.stack2.append(self.stack1.pop())\n",
    "        print(self.stack2.pop())"
   ]
  },
  {
   "cell_type": "code",
   "execution_count": 51,
   "id": "0e96d04a",
   "metadata": {},
   "outputs": [],
   "source": [
    "queue2stack = Queue2Stacks()"
   ]
  },
  {
   "cell_type": "code",
   "execution_count": 52,
   "id": "f44b528b",
   "metadata": {},
   "outputs": [],
   "source": [
    "for i in range(5):\n",
    "    queue2stack.enqueue(i)\n",
    "\n",
    "queue2stack.enqueue(\"Test\")\n",
    "queue2stack.enqueue(\"Finn\")"
   ]
  },
  {
   "cell_type": "code",
   "execution_count": 53,
   "id": "9531fe2f",
   "metadata": {
    "scrolled": true
   },
   "outputs": [
    {
     "name": "stdout",
     "output_type": "stream",
     "text": [
      "0\n",
      "1\n",
      "2\n",
      "3\n",
      "4\n",
      "Test\n",
      "Finn\n"
     ]
    }
   ],
   "source": [
    "# total enqueued = 7\n",
    "for i in range(7):\n",
    "    queue2stack.dequeue()"
   ]
  },
  {
   "cell_type": "code",
   "execution_count": 55,
   "id": "8149a0d2",
   "metadata": {},
   "outputs": [],
   "source": [
    "# using while loop\n",
    "class Queue2Stacks:\n",
    "    def __init__(self):\n",
    "        self.stack1 = []\n",
    "        self.stack2 = []\n",
    "        \n",
    "    def enqueue(self, element):\n",
    "        self.stack1.append(element)\n",
    "        \n",
    "    def dequeue(self):\n",
    "        while self.stack1:\n",
    "            self.stack2.append(self.stack1.pop())\n",
    "        print(self.stack2.pop())"
   ]
  },
  {
   "cell_type": "code",
   "execution_count": 70,
   "id": "d215a702",
   "metadata": {},
   "outputs": [],
   "source": [
    "queue2stack = Queue2Stacks()"
   ]
  },
  {
   "cell_type": "code",
   "execution_count": 71,
   "id": "7b5c0f8c",
   "metadata": {},
   "outputs": [],
   "source": [
    "for i in range(5):\n",
    "    queue2stack.enqueue(i)\n",
    "\n",
    "queue2stack.enqueue(\"Test\")\n",
    "queue2stack.enqueue(\"Finn\")"
   ]
  },
  {
   "cell_type": "code",
   "execution_count": 72,
   "id": "01388d67",
   "metadata": {},
   "outputs": [
    {
     "name": "stdout",
     "output_type": "stream",
     "text": [
      "0\n",
      "1\n",
      "2\n",
      "3\n",
      "4\n",
      "Test\n",
      "Finn\n"
     ]
    }
   ],
   "source": [
    "# total enqueued = 7\n",
    "for i in range(7):\n",
    "    queue2stack.dequeue()"
   ]
  },
  {
   "cell_type": "code",
   "execution_count": null,
   "id": "70553848",
   "metadata": {},
   "outputs": [],
   "source": []
  }
 ],
 "metadata": {
  "kernelspec": {
   "display_name": "Python 3 (ipykernel)",
   "language": "python",
   "name": "python3"
  },
  "language_info": {
   "codemirror_mode": {
    "name": "ipython",
    "version": 3
   },
   "file_extension": ".py",
   "mimetype": "text/x-python",
   "name": "python",
   "nbconvert_exporter": "python",
   "pygments_lexer": "ipython3",
   "version": "3.9.12"
  }
 },
 "nbformat": 4,
 "nbformat_minor": 5
}
