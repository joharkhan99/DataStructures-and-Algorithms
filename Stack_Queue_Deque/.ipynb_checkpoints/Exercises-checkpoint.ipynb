{
 "cells": [
  {
   "cell_type": "code",
   "execution_count": 1,
   "id": "f57d6cc8",
   "metadata": {},
   "outputs": [],
   "source": [
    "class Stack:\n",
    "    def __init__(self):\n",
    "        self.items = []\n",
    "        \n",
    "    def isEmpty(self):\n",
    "        return self.items == []\n",
    "    \n",
    "    def push(self, item):\n",
    "        self.items.append(item)\n",
    "        \n",
    "    def pop(self):\n",
    "        return self.items.pop()\n",
    "    \n",
    "    def peek(self):\n",
    "        return self.items[len(self.items)-1]\n",
    "    \n",
    "    def size(self):\n",
    "        return len(self.items)\n",
    "    \n",
    "    def printAll(self):\n",
    "        print(self.items)"
   ]
  },
  {
   "cell_type": "code",
   "execution_count": 13,
   "id": "7bbadc2c",
   "metadata": {},
   "outputs": [],
   "source": [
    "class Queue:\n",
    "    def __init__(self):\n",
    "        self.items = []\n",
    "        \n",
    "    def isEmpty(self):\n",
    "        return self.items == []\n",
    "    \n",
    "    def enqueue(self, item):\n",
    "        self.items.insert(0, item)\n",
    "    \n",
    "    def dequeue(self):\n",
    "        return self.items.pop()\n",
    "    \n",
    "    def size(self):\n",
    "        return len(self.items)"
   ]
  },
  {
   "cell_type": "code",
   "execution_count": 3,
   "id": "09586547",
   "metadata": {},
   "outputs": [],
   "source": [
    "class Deque:\n",
    "    def __init__(self):\n",
    "        self.items = []\n",
    "        \n",
    "    def isEmpty(self):\n",
    "        return self.items == []\n",
    "    \n",
    "    def addFront(self, item):\n",
    "        self.items.insert(0, item)\n",
    "        \n",
    "    def addRear(self, item):\n",
    "        self.items.append(item)\n",
    "    \n",
    "    def removeRear(self):\n",
    "        return self.items.pop()\n",
    "    \n",
    "    def removeFront(self):\n",
    "        return self.items.pop(0)\n",
    "    \n",
    "    def size(self):\n",
    "        return len(self.items)"
   ]
  },
  {
   "cell_type": "code",
   "execution_count": 14,
   "id": "94abe88c",
   "metadata": {},
   "outputs": [],
   "source": [
    "def balance_check(pattern):\n",
    "    s = Stack()\n",
    "\n",
    "    combinations = [('{','}'), ('(', ')'), ('[', ']')]\n",
    "\n",
    "    for ch in pattern:\n",
    "        if ch=='{' or ch=='[' or ch=='(':\n",
    "            s.push(ch)\n",
    "\n",
    "        else:\n",
    "\n",
    "            if s.size() == 0:\n",
    "                return False\n",
    "\n",
    "            last_opening = s.pop()\n",
    "            print(f\"{last_opening} = {ch}\")\n",
    "\n",
    "            if (last_opening, ch) not in combinations:\n",
    "                return False\n",
    "\n",
    "    return s.size() == 0"
   ]
  },
  {
   "cell_type": "code",
   "execution_count": 16,
   "id": "7b1a51c3",
   "metadata": {},
   "outputs": [
    {
     "name": "stdout",
     "output_type": "stream",
     "text": [
      "[ = ]\n",
      "{ = }\n"
     ]
    },
    {
     "data": {
      "text/plain": [
       "True"
      ]
     },
     "execution_count": 16,
     "metadata": {},
     "output_type": "execute_result"
    }
   ],
   "source": [
    "balance_check('{[]}')"
   ]
  },
  {
   "cell_type": "code",
   "execution_count": 9,
   "id": "36544430",
   "metadata": {},
   "outputs": [
    {
     "name": "stdout",
     "output_type": "stream",
     "text": [
      "[ = ]\n"
     ]
    },
    {
     "data": {
      "text/plain": [
       "False"
      ]
     },
     "execution_count": 9,
     "metadata": {},
     "output_type": "execute_result"
    }
   ],
   "source": [
    "balance_check('[]}')"
   ]
  },
  {
   "cell_type": "code",
   "execution_count": 10,
   "id": "e5ea10f9",
   "metadata": {},
   "outputs": [
    {
     "name": "stdout",
     "output_type": "stream",
     "text": [
      "[ = ]\n",
      "{ = }\n"
     ]
    },
    {
     "data": {
      "text/plain": [
       "True"
      ]
     },
     "execution_count": 10,
     "metadata": {},
     "output_type": "execute_result"
    }
   ],
   "source": [
    "balance_check('[]')"
   ]
  },
  {
   "cell_type": "code",
   "execution_count": 70,
   "id": "915d47a5",
   "metadata": {},
   "outputs": [
    {
     "data": {
      "text/plain": [
       "True"
      ]
     },
     "execution_count": 70,
     "metadata": {},
     "output_type": "execute_result"
    }
   ],
   "source": [
    "balance_check('{[()]}')"
   ]
  },
  {
   "cell_type": "markdown",
   "id": "846a613d",
   "metadata": {},
   "source": [
    "# Reverse a String Using Stack"
   ]
  },
  {
   "cell_type": "code",
   "execution_count": 6,
   "id": "d5f55981",
   "metadata": {},
   "outputs": [
    {
     "name": "stdout",
     "output_type": "stream",
     "text": [
      "ereht olleH\n",
      "taem\n"
     ]
    }
   ],
   "source": [
    "def reverse_string(word = \"Hello there\"):\n",
    "    stack = Stack()\n",
    "    for ch in word:\n",
    "        stack.push(ch)\n",
    "    rev_str = \"\"\n",
    "    for i in range(len(word)):\n",
    "        rev_str += stack.pop()\n",
    "    print(rev_str)\n",
    "\n",
    "reverse_string()\n",
    "reverse_string(\"meat\")"
   ]
  },
  {
   "cell_type": "markdown",
   "id": "5e05a042",
   "metadata": {},
   "source": [
    "# Parenthesis Checker\n",
    " {[( )]}"
   ]
  },
  {
   "cell_type": "code",
   "execution_count": 12,
   "id": "06ff2ba7",
   "metadata": {},
   "outputs": [
    {
     "name": "stdout",
     "output_type": "stream",
     "text": [
      "Balanced\n",
      "Not Balanced\n",
      "Not Balanced\n",
      "Balanced\n",
      "Not Balanced\n"
     ]
    }
   ],
   "source": [
    "def check_parenthesis(brackets):\n",
    "    stack = Stack()\n",
    "    for ch in brackets:\n",
    "        if ch == \"(\" or ch == \"[\" or ch == \"{\":\n",
    "            stack.push(ch)\n",
    "        elif ch == \")\" or ch == \"]\" or ch == \"}\":\n",
    "            stack.pop()\n",
    "            \n",
    "    if stack.isEmpty():\n",
    "        print(\"Balanced\")\n",
    "    else:\n",
    "        print(\"Not Balanced\")\n",
    "        \n",
    "check_parenthesis(\"{[()]}\")\n",
    "check_parenthesis(\"{[()]\")\n",
    "check_parenthesis(\"{[(\")\n",
    "check_parenthesis(\"{()}[]\")\n",
    "check_parenthesis(\"(\")"
   ]
  },
  {
   "cell_type": "markdown",
   "id": "21cfe6f0",
   "metadata": {},
   "source": [
    "## Design a food ordering system where your python program will run two threads,\n",
    "\n",
    "1. Place Order: This thread will be placing an order and inserting that into a queue. This thread places new order every 0.5 second. (hint: use time.sleep(0.5) function)\n",
    "2. Serve Order: This thread will server the order. All you need to do is pop the order out of the queue and print it. This thread serves an order every 2 seconds. Also start this thread 1 second after place order thread is started.\n",
    "Use this video to get yourself familiar with multithreading in python\n",
    "\n",
    "Pass following list as an argument to place order thread,\n",
    "\n",
    "orders = ['pizza','samosa','pasta','biryani','burger']\n",
    "\n",
    "This problem is a producer,consumer problem where place_order thread is producing orders whereas server_order thread is consuming the food orders."
   ]
  },
  {
   "cell_type": "code",
   "execution_count": 28,
   "id": "132e3103",
   "metadata": {},
   "outputs": [],
   "source": [
    "import time, threading\n",
    "\n",
    "queue = Queue()\n",
    "food_orders = [\n",
    "    {\"name\": \"Burger\", \"price\": 8.99},\n",
    "    {\"name\": \"Pizza\", \"price\": 12.99},\n",
    "    {\"name\": \"Salad\", \"price\": 6.99},\n",
    "    {\"name\": \"Pasta\", \"price\": 10.99},\n",
    "    {\"name\": \"Sushi\", \"price\": 15.99},\n",
    "    {\"name\": \"Chicken Wings\", \"price\": 9.99},\n",
    "    {\"name\": \"Tacos\", \"price\": 7.99},\n",
    "    {\"name\": \"Steak\", \"price\": 19.99},\n",
    "    {\"name\": \"Ice Cream\", \"price\": 4.99},\n",
    "    {\"name\": \"Smoothie\", \"price\": 5.99},\n",
    "]\n",
    "def place_order():\n",
    "    for order in food_orders:\n",
    "        queue.enqueue(order)\n",
    "        time.sleep(0.5)\n",
    "\n",
    "def serve_order():\n",
    "    for order in food_orders:\n",
    "        print(queue.dequeue(), end=\"\\n\")\n",
    "        time.sleep(2)\n",
    "\n",
    "t1 = threading.Thread(target=place_order)\n",
    "time.sleep(1)\n",
    "t2 = threading.Thread(target=serve_order)"
   ]
  },
  {
   "cell_type": "code",
   "execution_count": 29,
   "id": "a3ec1a53",
   "metadata": {},
   "outputs": [
    {
     "name": "stdout",
     "output_type": "stream",
     "text": [
      "{'name': 'Burger', 'price': 8.99}\n",
      "{'name': 'Pizza', 'price': 12.99}\n",
      "{'name': 'Salad', 'price': 6.99}\n",
      "{'name': 'Pasta', 'price': 10.99}\n",
      "{'name': 'Sushi', 'price': 15.99}\n",
      "{'name': 'Chicken Wings', 'price': 9.99}\n",
      "{'name': 'Tacos', 'price': 7.99}\n",
      "{'name': 'Steak', 'price': 19.99}\n",
      "{'name': 'Ice Cream', 'price': 4.99}\n",
      "{'name': 'Smoothie', 'price': 5.99}\n"
     ]
    }
   ],
   "source": [
    "t1.start()\n",
    "t2.start()"
   ]
  },
  {
   "cell_type": "code",
   "execution_count": null,
   "id": "87a74909",
   "metadata": {},
   "outputs": [],
   "source": []
  }
 ],
 "metadata": {
  "kernelspec": {
   "display_name": "Python 3 (ipykernel)",
   "language": "python",
   "name": "python3"
  },
  "language_info": {
   "codemirror_mode": {
    "name": "ipython",
    "version": 3
   },
   "file_extension": ".py",
   "mimetype": "text/x-python",
   "name": "python",
   "nbconvert_exporter": "python",
   "pygments_lexer": "ipython3",
   "version": "3.9.18"
  }
 },
 "nbformat": 4,
 "nbformat_minor": 5
}
