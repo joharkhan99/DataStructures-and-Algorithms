{
 "cells": [
  {
   "cell_type": "code",
   "execution_count": 1,
   "id": "f57d6cc8",
   "metadata": {},
   "outputs": [],
   "source": [
    "class Stack:\n",
    "    def __init__(self):\n",
    "        self.items = []\n",
    "        \n",
    "    def isEmpty(self):\n",
    "        return self.items == []\n",
    "    \n",
    "    def push(self, item):\n",
    "        self.items.append(item)\n",
    "        \n",
    "    def pop(self):\n",
    "        return self.items.pop()\n",
    "    \n",
    "    def peek(self):\n",
    "        return self.items[len(self.items)-1]\n",
    "    \n",
    "    def size(self):\n",
    "        return len(self.items)\n",
    "    \n",
    "    def printAll(self):\n",
    "        print(self.items)"
   ]
  },
  {
   "cell_type": "code",
   "execution_count": 2,
   "id": "7bbadc2c",
   "metadata": {},
   "outputs": [],
   "source": [
    "class Queue:\n",
    "    def __init__(self):\n",
    "        self.items = []\n",
    "        \n",
    "    def isEmpty(self):\n",
    "        return self.items == []\n",
    "    \n",
    "    def enqueue(self, item):\n",
    "        self.items.insert(0, item)\n",
    "    \n",
    "    def dequeue(self):\n",
    "        return self.items.pop()\n",
    "    \n",
    "    def size(self):\n",
    "        return len(self.items)"
   ]
  },
  {
   "cell_type": "code",
   "execution_count": 3,
   "id": "09586547",
   "metadata": {},
   "outputs": [],
   "source": [
    "class Deque:\n",
    "    def __init__(self):\n",
    "        self.items = []\n",
    "        \n",
    "    def isEmpty(self):\n",
    "        return self.items == []\n",
    "    \n",
    "    def addFront(self, item):\n",
    "        self.items.insert(0, item)\n",
    "        \n",
    "    def addRear(self, item):\n",
    "        self.items.append(item)\n",
    "    \n",
    "    def removeRear(self):\n",
    "        return self.items.pop()\n",
    "    \n",
    "    def removeFront(self):\n",
    "        return self.items.pop(0)\n",
    "    \n",
    "    def size(self):\n",
    "        return len(self.items)"
   ]
  },
  {
   "cell_type": "code",
   "execution_count": 14,
   "id": "94abe88c",
   "metadata": {},
   "outputs": [],
   "source": [
    "def balance_check(pattern):\n",
    "    s = Stack()\n",
    "\n",
    "    combinations = [('{','}'), ('(', ')'), ('[', ']')]\n",
    "\n",
    "    for ch in pattern:\n",
    "        if ch=='{' or ch=='[' or ch=='(':\n",
    "            s.push(ch)\n",
    "\n",
    "        else:\n",
    "\n",
    "            if s.size() == 0:\n",
    "                return False\n",
    "\n",
    "            last_opening = s.pop()\n",
    "            print(f\"{last_opening} = {ch}\")\n",
    "\n",
    "            if (last_opening, ch) not in combinations:\n",
    "                return False\n",
    "\n",
    "    return s.size() == 0"
   ]
  },
  {
   "cell_type": "code",
   "execution_count": 16,
   "id": "7b1a51c3",
   "metadata": {},
   "outputs": [
    {
     "name": "stdout",
     "output_type": "stream",
     "text": [
      "[ = ]\n",
      "{ = }\n"
     ]
    },
    {
     "data": {
      "text/plain": [
       "True"
      ]
     },
     "execution_count": 16,
     "metadata": {},
     "output_type": "execute_result"
    }
   ],
   "source": [
    "balance_check('{[]}')"
   ]
  },
  {
   "cell_type": "code",
   "execution_count": 9,
   "id": "36544430",
   "metadata": {},
   "outputs": [
    {
     "name": "stdout",
     "output_type": "stream",
     "text": [
      "[ = ]\n"
     ]
    },
    {
     "data": {
      "text/plain": [
       "False"
      ]
     },
     "execution_count": 9,
     "metadata": {},
     "output_type": "execute_result"
    }
   ],
   "source": [
    "balance_check('[]}')"
   ]
  },
  {
   "cell_type": "code",
   "execution_count": 10,
   "id": "e5ea10f9",
   "metadata": {},
   "outputs": [
    {
     "name": "stdout",
     "output_type": "stream",
     "text": [
      "[ = ]\n",
      "{ = }\n"
     ]
    },
    {
     "data": {
      "text/plain": [
       "True"
      ]
     },
     "execution_count": 10,
     "metadata": {},
     "output_type": "execute_result"
    }
   ],
   "source": [
    "balance_check('[]')"
   ]
  },
  {
   "cell_type": "code",
   "execution_count": 70,
   "id": "915d47a5",
   "metadata": {},
   "outputs": [
    {
     "data": {
      "text/plain": [
       "True"
      ]
     },
     "execution_count": 70,
     "metadata": {},
     "output_type": "execute_result"
    }
   ],
   "source": [
    "balance_check('{[()]}')"
   ]
  },
  {
   "cell_type": "markdown",
   "id": "bbce1195",
   "metadata": {},
   "source": [
    "# Reverse a String Using Stack"
   ]
  },
  {
   "cell_type": "code",
   "execution_count": 5,
   "id": "a7ec048d",
   "metadata": {},
   "outputs": [
    {
     "name": "stdout",
     "output_type": "stream",
     "text": [
      "ereht olleH\n",
      "taem\n"
     ]
    }
   ],
   "source": [
    "def reverse_string(word = \"Hello there\"):\n",
    "    stack = Stack()\n",
    "    for ch in word:\n",
    "        stack.push(ch)\n",
    "    rev_str = \"\"\n",
    "    for i in range(len(word)):\n",
    "        rev_str += stack.pop()\n",
    "    print(rev_str)\n",
    "\n",
    "reverse_string()\n",
    "reverse_string(\"meat\")"
   ]
  },
  {
   "cell_type": "code",
   "execution_count": null,
   "id": "21fa21f0",
   "metadata": {},
   "outputs": [],
   "source": []
  },
  {
   "cell_type": "code",
   "execution_count": null,
   "id": "d6080825",
   "metadata": {},
   "outputs": [],
   "source": []
  },
  {
   "cell_type": "code",
   "execution_count": null,
   "id": "bb9897af",
   "metadata": {},
   "outputs": [],
   "source": []
  }
 ],
 "metadata": {
  "kernelspec": {
   "display_name": "Python 3 (ipykernel)",
   "language": "python",
   "name": "python3"
  },
  "language_info": {
   "codemirror_mode": {
    "name": "ipython",
    "version": 3
   },
   "file_extension": ".py",
   "mimetype": "text/x-python",
   "name": "python",
   "nbconvert_exporter": "python",
   "pygments_lexer": "ipython3",
   "version": "3.9.18"
  }
 },
 "nbformat": 4,
 "nbformat_minor": 5
}
