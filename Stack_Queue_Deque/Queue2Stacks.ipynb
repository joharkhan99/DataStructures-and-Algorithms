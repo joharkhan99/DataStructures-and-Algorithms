{
 "cells": [
  {
   "cell_type": "markdown",
   "id": "4f7476ad",
   "metadata": {},
   "source": [
    "# Implement a Queue Using Two Stacks"
   ]
  },
  {
   "cell_type": "code",
   "execution_count": 78,
   "id": "4387cc3a",
   "metadata": {},
   "outputs": [],
   "source": [
    "\"\"\"\n",
    "Concept:\n",
    "choose one stack(stack1) for enqueu and aother(stack2) for dequeue. Now on enqueuing just keep appending to stack1 and\n",
    "on dequeuing, first check if stack2 is empty then loop over stack1 in reverse order and pop out all elements one by one and\n",
    "push them to stack2. this way the elements will be reversed. Now just return one popped element from stack2.\n",
    "\n",
    "eg:\n",
    "stack1 = [1,2,3,4]\n",
    "->dequeue\n",
    "stack2 = [4,3,2,1]\n",
    "->pop out one element\n",
    "1\n",
    "\"\"\"\n",
    "class Queue2Stacks:\n",
    "    def __init__(self):\n",
    "        self.stack1 = []\n",
    "        self.stack2 = []\n",
    "        \n",
    "    def enqueue(self, element):\n",
    "        self.stack1.append(element)\n",
    "        \n",
    "    def dequeue(self):\n",
    "        if self.stack2 == []:\n",
    "            for i in range(len(self.stack1)-1, -1, -1):\n",
    "                self.stack2.append(self.stack1.pop())\n",
    "        print(self.stack2.pop())"
   ]
  },
  {
   "cell_type": "code",
   "execution_count": 79,
   "id": "5c1ce31b",
   "metadata": {},
   "outputs": [],
   "source": [
    "queue2stack = Queue2Stacks()"
   ]
  },
  {
   "cell_type": "code",
   "execution_count": 80,
   "id": "4c0baa37",
   "metadata": {},
   "outputs": [],
   "source": [
    "for i in range(5):\n",
    "    queue2stack.enqueue(i)\n",
    "\n",
    "queue2stack.enqueue(\"Test\")\n",
    "queue2stack.enqueue(\"Finn\")"
   ]
  },
  {
   "cell_type": "code",
   "execution_count": 81,
   "id": "0e97e1ff",
   "metadata": {
    "scrolled": true
   },
   "outputs": [
    {
     "name": "stdout",
     "output_type": "stream",
     "text": [
      "0\n",
      "1\n",
      "2\n",
      "3\n",
      "4\n",
      "Test\n",
      "Finn\n"
     ]
    }
   ],
   "source": [
    "# total enqueued = 7\n",
    "for i in range(7):\n",
    "    queue2stack.dequeue()"
   ]
  },
  {
   "cell_type": "code",
   "execution_count": 82,
   "id": "6aed291e",
   "metadata": {},
   "outputs": [],
   "source": [
    "# using while loop\n",
    "class Queue2Stacks:\n",
    "    def __init__(self):\n",
    "        self.stack1 = []\n",
    "        self.stack2 = []\n",
    "        \n",
    "    def enqueue(self, element):\n",
    "        self.stack1.append(element)\n",
    "        \n",
    "    def dequeue(self):\n",
    "        if self.stack2 == []:\n",
    "            while self.stack1:\n",
    "                self.stack2.append(self.stack1.pop())\n",
    "        print(self.stack2.pop())"
   ]
  },
  {
   "cell_type": "code",
   "execution_count": 83,
   "id": "b520a0b4",
   "metadata": {},
   "outputs": [],
   "source": [
    "queue2stack = Queue2Stacks()"
   ]
  },
  {
   "cell_type": "code",
   "execution_count": 84,
   "id": "82369078",
   "metadata": {},
   "outputs": [],
   "source": [
    "for i in range(5):\n",
    "    queue2stack.enqueue(i)\n",
    "\n",
    "queue2stack.enqueue(\"Test\")\n",
    "queue2stack.enqueue(\"Finn\")"
   ]
  },
  {
   "cell_type": "code",
   "execution_count": 85,
   "id": "70d030bc",
   "metadata": {},
   "outputs": [
    {
     "name": "stdout",
     "output_type": "stream",
     "text": [
      "0\n",
      "1\n",
      "2\n",
      "3\n",
      "4\n",
      "Test\n",
      "Finn\n"
     ]
    }
   ],
   "source": [
    "# total enqueued = 7\n",
    "for i in range(7):\n",
    "    queue2stack.dequeue()"
   ]
  },
  {
   "cell_type": "code",
   "execution_count": 86,
   "id": "74c651ee",
   "metadata": {},
   "outputs": [
    {
     "name": "stdout",
     "output_type": "stream",
     "text": [
      "1\n",
      "2\n",
      "3\n",
      "4\n",
      "5\n"
     ]
    }
   ],
   "source": [
    "queue2stack.enqueue(1)\n",
    "queue2stack.enqueue(2)\n",
    "queue2stack.enqueue(3)\n",
    "queue2stack.enqueue(4)\n",
    "queue2stack.dequeue()\n",
    "queue2stack.enqueue(5)\n",
    "queue2stack.dequeue()\n",
    "queue2stack.dequeue()\n",
    "queue2stack.dequeue()\n",
    "queue2stack.dequeue()"
   ]
  },
  {
   "cell_type": "code",
   "execution_count": null,
   "id": "592bab98",
   "metadata": {},
   "outputs": [],
   "source": []
  },
  {
   "cell_type": "code",
   "execution_count": null,
   "id": "c25439de",
   "metadata": {},
   "outputs": [],
   "source": []
  },
  {
   "cell_type": "code",
   "execution_count": null,
   "id": "a072585f",
   "metadata": {},
   "outputs": [],
   "source": []
  }
 ],
 "metadata": {
  "kernelspec": {
   "display_name": "Python 3 (ipykernel)",
   "language": "python",
   "name": "python3"
  },
  "language_info": {
   "codemirror_mode": {
    "name": "ipython",
    "version": 3
   },
   "file_extension": ".py",
   "mimetype": "text/x-python",
   "name": "python",
   "nbconvert_exporter": "python",
   "pygments_lexer": "ipython3",
   "version": "3.9.12"
  }
 },
 "nbformat": 4,
 "nbformat_minor": 5
}
