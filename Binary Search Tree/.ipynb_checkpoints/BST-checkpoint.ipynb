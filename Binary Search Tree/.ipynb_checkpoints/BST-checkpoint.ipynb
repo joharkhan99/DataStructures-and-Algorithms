{
 "cells": [
  {
   "cell_type": "code",
   "execution_count": 38,
   "id": "a91e622f",
   "metadata": {},
   "outputs": [],
   "source": [
    "class BSTNode:\n",
    "    def __init__(self, value=None):\n",
    "        self.left = None\n",
    "        self.right = None\n",
    "        self.value = value\n",
    "\n",
    "    def insert(self, value):\n",
    "        if value < self.value:\n",
    "            if self.left is None:\n",
    "                self.left = BSTNode(value)\n",
    "            else:\n",
    "                self.left.insert(value)\n",
    "        else:\n",
    "            if self.right is None:\n",
    "                self.right = BSTNode(value)\n",
    "            else:\n",
    "                self.right.insert(value)\n",
    "\n",
    "    def get_min(self):\n",
    "        current = self\n",
    "        while current.left:\n",
    "            current = current.left\n",
    "        return current.value\n",
    "\n",
    "    def get_max(self):\n",
    "        current = self\n",
    "        while current.right:\n",
    "            current = current.right\n",
    "        return current.value\n",
    "\n",
    "    def find(self, value):\n",
    "        if self.value == value:\n",
    "            return True\n",
    "\n",
    "        if value < self.value:\n",
    "            if self.left is None:\n",
    "                return False\n",
    "            return self.left.find(value)\n",
    "        else:\n",
    "            if self.right is None:\n",
    "                return False\n",
    "            return self.right.find(value)\n",
    "\n",
    "    def inorder_traverse(self):\n",
    "        if self.left:\n",
    "            self.left.inorder_traverse()\n",
    "        print(self.value)\n",
    "        if self.right:\n",
    "            self.right.inorder_traverse()\n",
    "\n",
    "    def preorder_traverse(self):\n",
    "        print(self.value)\n",
    "        if self.left:\n",
    "            self.left.inorder_traverse()\n",
    "\n",
    "        if self.right:\n",
    "            self.right.inorder_traverse()\n",
    "\n",
    "    def postorder_traverse(self):\n",
    "        if self.left:\n",
    "            self.left.inorder_traverse()\n",
    "\n",
    "        if self.right:\n",
    "            self.right.inorder_traverse()\n",
    "        print(self.value)\n",
    "\n",
    "    def remove(self, value):\n",
    "        if self.value is None:\n",
    "            return None\n",
    "\n",
    "        # Recursively search for the value to be removed\n",
    "        if value < self.value:\n",
    "            if self.left:\n",
    "                self.left = self.left.remove(value)\n",
    "        elif value > self.value:\n",
    "            if self.right:\n",
    "                self.right = self.right.remove(value)\n",
    "        else:\n",
    "            # Case 1: Node with only one child or no child\n",
    "            if self.left is None:\n",
    "                return self.right\n",
    "            elif self.right is None:\n",
    "                return self.left\n",
    "            \n",
    "            # Case 2: Node with two children\n",
    "            # Get the inorder successor (smallest in the right subtree)\n",
    "            temp_min = self.right.get_min()\n",
    "            \n",
    "            self.value = temp_min\n",
    "            \n",
    "            # Delete the inorder successor\n",
    "            self.right = self.right.remove(temp_min)\n",
    "        return self\n"
   ]
  },
  {
   "cell_type": "code",
   "execution_count": 39,
   "id": "0d58c1c8",
   "metadata": {},
   "outputs": [],
   "source": [
    "tree = BSTNode(10)\n",
    "\n",
    "tree.insert(12)\n",
    "tree.insert(4)\n",
    "tree.insert(19)"
   ]
  },
  {
   "cell_type": "code",
   "execution_count": 40,
   "id": "be033d57",
   "metadata": {},
   "outputs": [
    {
     "name": "stdout",
     "output_type": "stream",
     "text": [
      "4\n",
      "10\n",
      "12\n",
      "19\n"
     ]
    }
   ],
   "source": [
    "tree.inorder_traverse()"
   ]
  },
  {
   "cell_type": "code",
   "execution_count": 41,
   "id": "ecded337",
   "metadata": {},
   "outputs": [
    {
     "data": {
      "text/plain": [
       "4"
      ]
     },
     "execution_count": 41,
     "metadata": {},
     "output_type": "execute_result"
    }
   ],
   "source": [
    "tree.get_min()"
   ]
  },
  {
   "cell_type": "code",
   "execution_count": 42,
   "id": "09578f93",
   "metadata": {},
   "outputs": [
    {
     "data": {
      "text/plain": [
       "19"
      ]
     },
     "execution_count": 42,
     "metadata": {},
     "output_type": "execute_result"
    }
   ],
   "source": [
    "tree.get_max()"
   ]
  },
  {
   "cell_type": "code",
   "execution_count": 43,
   "id": "5cefe91e",
   "metadata": {},
   "outputs": [
    {
     "data": {
      "text/plain": [
       "True"
      ]
     },
     "execution_count": 43,
     "metadata": {},
     "output_type": "execute_result"
    }
   ],
   "source": [
    "tree.find(10)"
   ]
  },
  {
   "cell_type": "code",
   "execution_count": 44,
   "id": "347dd015",
   "metadata": {},
   "outputs": [
    {
     "data": {
      "text/plain": [
       "False"
      ]
     },
     "execution_count": 44,
     "metadata": {},
     "output_type": "execute_result"
    }
   ],
   "source": [
    "tree.find(34)"
   ]
  },
  {
   "cell_type": "code",
   "execution_count": 45,
   "id": "0c606a98",
   "metadata": {},
   "outputs": [
    {
     "data": {
      "text/plain": [
       "True"
      ]
     },
     "execution_count": 45,
     "metadata": {},
     "output_type": "execute_result"
    }
   ],
   "source": [
    "tree.find(12)"
   ]
  },
  {
   "cell_type": "code",
   "execution_count": 46,
   "id": "1ed657aa",
   "metadata": {},
   "outputs": [
    {
     "name": "stdout",
     "output_type": "stream",
     "text": [
      "10\n",
      "4\n",
      "12\n",
      "19\n"
     ]
    }
   ],
   "source": [
    "tree.preorder_traverse()"
   ]
  },
  {
   "cell_type": "code",
   "execution_count": 47,
   "id": "9363bfc3",
   "metadata": {},
   "outputs": [
    {
     "name": "stdout",
     "output_type": "stream",
     "text": [
      "4\n",
      "12\n",
      "19\n",
      "10\n"
     ]
    }
   ],
   "source": [
    "tree.postorder_traverse()"
   ]
  },
  {
   "cell_type": "code",
   "execution_count": 48,
   "id": "dce9d896",
   "metadata": {},
   "outputs": [
    {
     "data": {
      "text/plain": [
       "<__main__.BSTNode at 0x121bb1ff6d0>"
      ]
     },
     "execution_count": 48,
     "metadata": {},
     "output_type": "execute_result"
    }
   ],
   "source": [
    "tree.remove(19)"
   ]
  },
  {
   "cell_type": "code",
   "execution_count": 49,
   "id": "3f80af50",
   "metadata": {},
   "outputs": [
    {
     "name": "stdout",
     "output_type": "stream",
     "text": [
      "4\n",
      "10\n",
      "12\n"
     ]
    }
   ],
   "source": [
    "tree.inorder_traverse()"
   ]
  }
 ],
 "metadata": {
  "kernelspec": {
   "display_name": "Python 3 (ipykernel)",
   "language": "python",
   "name": "python3"
  },
  "language_info": {
   "codemirror_mode": {
    "name": "ipython",
    "version": 3
   },
   "file_extension": ".py",
   "mimetype": "text/x-python",
   "name": "python",
   "nbconvert_exporter": "python",
   "pygments_lexer": "ipython3",
   "version": "3.9.18"
  }
 },
 "nbformat": 4,
 "nbformat_minor": 5
}
