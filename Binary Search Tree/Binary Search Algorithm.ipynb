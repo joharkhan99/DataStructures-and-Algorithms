{
 "cells": [
  {
   "cell_type": "code",
   "execution_count": 87,
   "id": "ea5673db",
   "metadata": {},
   "outputs": [],
   "source": [
    "def BinarySearch(arr, x):\n",
    "    low = 0\n",
    "    high = len(arr) - 1\n",
    "\n",
    "    while low <= high:\n",
    "        mid = (low+high) // 2\n",
    "        print(low, high, mid, end=\"\\n\")\n",
    "        if x == arr[mid]:\n",
    "            return f\"{x} is present at index {mid}\"\n",
    "        elif x > arr[mid]:\n",
    "            low = mid + 1\n",
    "        else:\n",
    "            high = mid - 1"
   ]
  },
  {
   "cell_type": "code",
   "execution_count": 91,
   "id": "a626760e",
   "metadata": {},
   "outputs": [
    {
     "name": "stdout",
     "output_type": "stream",
     "text": [
      "0 8 4\n",
      "5 8 6\n",
      "7 8 7\n"
     ]
    },
    {
     "data": {
      "text/plain": [
       "'8 is present at index 7'"
      ]
     },
     "execution_count": 91,
     "metadata": {},
     "output_type": "execute_result"
    }
   ],
   "source": [
    "arr = [1,2,3,4,5,6,7,8,9]\n",
    "x = 8\n",
    "\n",
    "BinarySearch(arr, x)"
   ]
  },
  {
   "cell_type": "code",
   "execution_count": null,
   "id": "fcf95a72",
   "metadata": {},
   "outputs": [],
   "source": []
  },
  {
   "cell_type": "code",
   "execution_count": null,
   "id": "dc7eb0c6",
   "metadata": {},
   "outputs": [],
   "source": []
  }
 ],
 "metadata": {
  "kernelspec": {
   "display_name": "Python 3 (ipykernel)",
   "language": "python",
   "name": "python3"
  },
  "language_info": {
   "codemirror_mode": {
    "name": "ipython",
    "version": 3
   },
   "file_extension": ".py",
   "mimetype": "text/x-python",
   "name": "python",
   "nbconvert_exporter": "python",
   "pygments_lexer": "ipython3",
   "version": "3.9.18"
  }
 },
 "nbformat": 4,
 "nbformat_minor": 5
}
