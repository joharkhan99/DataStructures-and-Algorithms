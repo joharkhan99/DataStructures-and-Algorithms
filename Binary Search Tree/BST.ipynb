{
 "cells": [
  {
   "cell_type": "code",
   "execution_count": 94,
   "id": "d2d9d458",
   "metadata": {},
   "outputs": [],
   "source": [
    "class BSTNode:\n",
    "    def __init__(self, value=None):\n",
    "        self.left = None\n",
    "        self.right = None\n",
    "        self.value = value\n",
    "\n",
    "    def insert(self, value):\n",
    "        if value < self.value:\n",
    "            if self.left is None:\n",
    "                self.left = BSTNode(value)\n",
    "            else:\n",
    "                self.left.insert(value)\n",
    "        else:\n",
    "            if self.right is None:\n",
    "                self.right = BSTNode(value)\n",
    "            else:\n",
    "                self.right.insert(value)\n",
    "\n",
    "    def get_min(self):\n",
    "        current = self\n",
    "        while current.left:\n",
    "            current = current.left\n",
    "        return current.value\n",
    "\n",
    "    def get_max(self):\n",
    "        current = self\n",
    "        while current.right:\n",
    "            current = current.right\n",
    "        return current.value\n",
    "\n",
    "    def find(self, value):\n",
    "        if self.value == value:\n",
    "            return True\n",
    "\n",
    "        if value < self.value:\n",
    "            if self.left is None:\n",
    "                return False\n",
    "            return self.left.find(value)\n",
    "        else:\n",
    "            if self.right is None:\n",
    "                return False\n",
    "            return self.right.find(value)\n",
    "\n",
    "    def inorder_traverse(self):\n",
    "        if self.left:\n",
    "            self.left.inorder_traverse()\n",
    "        print(self.value)\n",
    "        if self.right:\n",
    "            self.right.inorder_traverse()\n",
    "\n",
    "    def preorder_traverse(self):\n",
    "        print(self.value)\n",
    "        if self.left:\n",
    "            self.left.inorder_traverse()\n",
    "\n",
    "        if self.right:\n",
    "            self.right.inorder_traverse()\n",
    "\n",
    "    def postorder_traverse(self):\n",
    "        if self.left:\n",
    "            self.left.inorder_traverse()\n",
    "\n",
    "        if self.right:\n",
    "            self.right.inorder_traverse()\n",
    "        print(self.value)\n",
    "\n",
    "#     def remove(self, value):\n",
    "#         if self.left is None:"
   ]
  },
  {
   "cell_type": "code",
   "execution_count": 95,
   "id": "f5804cc0",
   "metadata": {},
   "outputs": [],
   "source": [
    "tree = BSTNode(10)\n",
    "\n",
    "tree.insert(12)\n",
    "tree.insert(4)\n",
    "tree.insert(19)"
   ]
  },
  {
   "cell_type": "code",
   "execution_count": 96,
   "id": "c1d633d1",
   "metadata": {},
   "outputs": [
    {
     "name": "stdout",
     "output_type": "stream",
     "text": [
      "4\n",
      "10\n",
      "12\n",
      "19\n"
     ]
    }
   ],
   "source": [
    "tree.inorder_traverse()"
   ]
  },
  {
   "cell_type": "code",
   "execution_count": 97,
   "id": "232eb333",
   "metadata": {},
   "outputs": [
    {
     "data": {
      "text/plain": [
       "4"
      ]
     },
     "execution_count": 97,
     "metadata": {},
     "output_type": "execute_result"
    }
   ],
   "source": [
    "tree.get_min()"
   ]
  },
  {
   "cell_type": "code",
   "execution_count": 98,
   "id": "9c491647",
   "metadata": {},
   "outputs": [
    {
     "data": {
      "text/plain": [
       "19"
      ]
     },
     "execution_count": 98,
     "metadata": {},
     "output_type": "execute_result"
    }
   ],
   "source": [
    "tree.get_max()"
   ]
  },
  {
   "cell_type": "code",
   "execution_count": 99,
   "id": "51956caa",
   "metadata": {},
   "outputs": [
    {
     "data": {
      "text/plain": [
       "True"
      ]
     },
     "execution_count": 99,
     "metadata": {},
     "output_type": "execute_result"
    }
   ],
   "source": [
    "tree.find(10)"
   ]
  },
  {
   "cell_type": "code",
   "execution_count": 100,
   "id": "9f76109e",
   "metadata": {},
   "outputs": [
    {
     "data": {
      "text/plain": [
       "False"
      ]
     },
     "execution_count": 100,
     "metadata": {},
     "output_type": "execute_result"
    }
   ],
   "source": [
    "tree.find(34)"
   ]
  },
  {
   "cell_type": "code",
   "execution_count": 101,
   "id": "2b1a20f3",
   "metadata": {},
   "outputs": [
    {
     "data": {
      "text/plain": [
       "True"
      ]
     },
     "execution_count": 101,
     "metadata": {},
     "output_type": "execute_result"
    }
   ],
   "source": [
    "tree.find(12)"
   ]
  },
  {
   "cell_type": "code",
   "execution_count": 102,
   "id": "2a8fafe6",
   "metadata": {},
   "outputs": [
    {
     "name": "stdout",
     "output_type": "stream",
     "text": [
      "10\n",
      "4\n",
      "12\n",
      "19\n"
     ]
    }
   ],
   "source": [
    "tree.preorder_traverse()"
   ]
  },
  {
   "cell_type": "code",
   "execution_count": 103,
   "id": "5c812af2",
   "metadata": {},
   "outputs": [
    {
     "name": "stdout",
     "output_type": "stream",
     "text": [
      "4\n",
      "12\n",
      "19\n",
      "10\n"
     ]
    }
   ],
   "source": [
    "tree.postorder_traverse()"
   ]
  },
  {
   "cell_type": "code",
   "execution_count": null,
   "id": "5883334b",
   "metadata": {},
   "outputs": [],
   "source": []
  },
  {
   "cell_type": "code",
   "execution_count": null,
   "id": "aafe2dc3",
   "metadata": {},
   "outputs": [],
   "source": []
  },
  {
   "cell_type": "code",
   "execution_count": null,
   "id": "803bd080",
   "metadata": {},
   "outputs": [],
   "source": []
  },
  {
   "cell_type": "code",
   "execution_count": null,
   "id": "eb161138",
   "metadata": {},
   "outputs": [],
   "source": []
  },
  {
   "cell_type": "code",
   "execution_count": null,
   "id": "d315b4cc",
   "metadata": {},
   "outputs": [],
   "source": []
  }
 ],
 "metadata": {
  "kernelspec": {
   "display_name": "Python 3 (ipykernel)",
   "language": "python",
   "name": "python3"
  },
  "language_info": {
   "codemirror_mode": {
    "name": "ipython",
    "version": 3
   },
   "file_extension": ".py",
   "mimetype": "text/x-python",
   "name": "python",
   "nbconvert_exporter": "python",
   "pygments_lexer": "ipython3",
   "version": "3.9.18"
  }
 },
 "nbformat": 4,
 "nbformat_minor": 5
}
