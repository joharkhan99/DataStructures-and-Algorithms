{
 "cells": [
  {
   "cell_type": "code",
   "execution_count": 4,
   "id": "4f162bb1",
   "metadata": {},
   "outputs": [
    {
     "data": {
      "text/plain": [
       "3"
      ]
     },
     "execution_count": 4,
     "metadata": {},
     "output_type": "execute_result"
    }
   ],
   "source": [
    "def sum1(n):\n",
    "    final = 0\n",
    "    for i in range(n+1):\n",
    "        final+=i\n",
    "    return final\n",
    "\n",
    "sum1(2)"
   ]
  },
  {
   "cell_type": "code",
   "execution_count": 7,
   "id": "4ba12008",
   "metadata": {},
   "outputs": [
    {
     "data": {
      "text/plain": [
       "3.0"
      ]
     },
     "execution_count": 7,
     "metadata": {},
     "output_type": "execute_result"
    }
   ],
   "source": [
    "def sum2(n):\n",
    "    return (n*(n+1))/2\n",
    "sum2(2)"
   ]
  },
  {
   "cell_type": "code",
   "execution_count": 9,
   "id": "20332b19",
   "metadata": {},
   "outputs": [
    {
     "name": "stdout",
     "output_type": "stream",
     "text": [
      "5.45 µs ± 186 ns per loop (mean ± std. dev. of 7 runs, 100,000 loops each)\n"
     ]
    }
   ],
   "source": [
    "%timeit sum1(40)"
   ]
  },
  {
   "cell_type": "code",
   "execution_count": 10,
   "id": "dcd6882a",
   "metadata": {},
   "outputs": [
    {
     "name": "stdout",
     "output_type": "stream",
     "text": [
      "413 ns ± 15 ns per loop (mean ± std. dev. of 7 runs, 1,000,000 loops each)\n"
     ]
    }
   ],
   "source": [
    "%timeit sum2(40)"
   ]
  },
  {
   "cell_type": "markdown",
   "id": "7f4a0b6b",
   "metadata": {},
   "source": [
    "# Big O Notation\n",
    "\n",
    "-------------------------------------\n",
    "|       Name       | Time Complexity |\n",
    "|------------------|-----------------|\n",
    "| Constant Time    |       O(1)      |\n",
    "| Logarithmic Time |     O(log n)    |\n",
    "| Linear Time      |       O(n)      |\n",
    "| Quasilinear Time |    O(n log n)   |\n",
    "| Quadratic Time   |      O(n^2)     |\n",
    "| Exponential Time |      O(2^n)     |\n",
    "| Factorial Time   |       O(n!)     |\n",
    "|------------------|-----------------|"
   ]
  },
  {
   "cell_type": "markdown",
   "id": "76a39b40",
   "metadata": {},
   "source": [
    "Imagine you have some tasks to do, like organizing your toys, and you want to know how long it will take you to finish them. You might want to figure out if you can finish them quickly or if it will take a long time.\n",
    "\n",
    "Big O notation helps us understand how long tasks take when we have a lot of toys (or any other things) to organize. It's like telling you how fast or slow something will be when the number of toys increases.\n",
    "\n",
    "In programming, Big O notation helps us understand how the performance of an algorithm changes as the size of the input (e.g., the number of toys in the analogy) increases. It gives us a way to estimate the efficiency or time complexity of an algorithm based on the input size.\n"
   ]
  },
  {
   "cell_type": "markdown",
   "id": "96f376a0",
   "metadata": {},
   "source": [
    "## O(1) Constant Time Complexity\n",
    "\n",
    "An algorithm is considered constant time if its execution time or space requirement remains the same, regardless of the input size. Example: Accessing an element in an array by its index."
   ]
  },
  {
   "cell_type": "code",
   "execution_count": 1,
   "id": "a90f3bea",
   "metadata": {},
   "outputs": [],
   "source": [
    "def get_element(arr):\n",
    "    return arr[0]"
   ]
  },
  {
   "cell_type": "markdown",
   "id": "81031605",
   "metadata": {},
   "source": [
    "In this example, the function ```get_first_element``` takes an array arr as input and returns the first element of the array. It doesn't matter how big the array is; it only accesses the first element and returns it. So, no matter how large the input array is, the time it takes to execute this function remains constant. This is why it's O(1) or constant time complexity."
   ]
  },
  {
   "cell_type": "markdown",
   "id": "27e125de",
   "metadata": {},
   "source": [
    "## O(n) Linear Time Complexity\n",
    "\n",
    "Linear algorithms have their execution time or space requirements directly proportional to the input size. Example: Iterating through an array to find a specific element."
   ]
  },
  {
   "cell_type": "code",
   "execution_count": 2,
   "id": "32c38963",
   "metadata": {},
   "outputs": [],
   "source": [
    "def find_element(arr, target):\n",
    "    for i in range(len(arr)):\n",
    "        if arr[i] == target:\n",
    "            return i\n",
    "    return -1"
   ]
  },
  {
   "cell_type": "markdown",
   "id": "dff3ae9a",
   "metadata": {},
   "source": [
    "In this example, the function ```find_element``` looks for a target element in the array arr. It goes through the entire array one element at a time until it finds the target or reaches the end. As the size of the array grows, the time it takes to find the target increases linearly. This is why it's O(n) or linear time complexity."
   ]
  },
  {
   "cell_type": "markdown",
   "id": "167d193a",
   "metadata": {},
   "source": [
    "## O(log n) - Logarithmic Time Complexity\n",
    "\n",
    "Algorithms with logarithmic complexity divide the problem into smaller pieces in each step, reducing the input size by a constant factor. Example: Binary search on a sorted array."
   ]
  },
  {
   "cell_type": "code",
   "execution_count": 10,
   "id": "e674f5a5",
   "metadata": {},
   "outputs": [],
   "source": [
    "def binary_search(arr, target):\n",
    "    high = len(arr) - 1\n",
    "    low = 0\n",
    "    while low <= high:\n",
    "        mid = (low+high)//2  # // will round off a float\n",
    "        if arr[mid] == target:\n",
    "            return mid\n",
    "        elif arr[mid] < target:\n",
    "            low = mid + 1\n",
    "        else:\n",
    "            high = mid - 1\n",
    "    return -1"
   ]
  },
  {
   "cell_type": "markdown",
   "id": "154f355a",
   "metadata": {},
   "source": [
    "In this example, the function ```binary_search``` performs a binary search on a sorted array arr to find the index of a target element. It divides the search space in half at each step, making it very efficient. As the array grows, the time it takes to find the target element increases, but it grows at a logarithmic rate. This is why it's O(log n) or logarithmic time complexity."
   ]
  },
  {
   "cell_type": "markdown",
   "id": "b5d50583",
   "metadata": {},
   "source": [
    "## O(n^2) - Quadratic Time Complexity\n",
    "\n",
    "Quadratic algorithms have their execution time or space requirements proportional to the square of the input size. Example: Nested loops with two iterations.\n",
    "\n",
    "An algorithm is said to have a quadratic time complexity when it needs to perform a linear time operation for each value in the input data, for example:"
   ]
  },
  {
   "cell_type": "code",
   "execution_count": null,
   "id": "af3fb6e1",
   "metadata": {},
   "outputs": [],
   "source": [
    "for x in data:\n",
    "    for y in data:\n",
    "        print(x, y)"
   ]
  },
  {
   "cell_type": "code",
   "execution_count": 18,
   "id": "91853b9b",
   "metadata": {},
   "outputs": [],
   "source": [
    "def bubble_sort(arr):\n",
    "    n = len(arr)\n",
    "    for i in range(n):\n",
    "        for j in range(0, n-i-1):\n",
    "            if arr[j] > arr[j+1]:\n",
    "                arr[j] = arr[j+1]\n",
    "                arr[j+1] = arr[j]"
   ]
  },
  {
   "cell_type": "markdown",
   "id": "42dbfabb",
   "metadata": {},
   "source": [
    "In this example, the function bubble_sort performs a bubble sort on the array arr. It compares each pair of adjacent elements and swaps them if they are in the wrong order. This process repeats multiple times until the entire array is sorted. As the size of the array grows, the number of comparisons and swaps increases quadratically. This is why it's O(n^2) or quadratic time complexity."
   ]
  },
  {
   "cell_type": "markdown",
   "id": "eb0dce63",
   "metadata": {},
   "source": [
    "## O(2^n) - Exponential Time Complexity\n",
    "\n",
    "Exponential algorithms grow very rapidly with the input size. They are highly inefficient and should be avoided for larger inputs. Example: Brute force solutions to some combinatorial problems.\n",
    "\n",
    "An algorithm is said to have an exponential time complexity when the growth doubles with each addition to the input data set. This kind of time complexity is usually seen in brute-force algorithms."
   ]
  },
  {
   "cell_type": "code",
   "execution_count": 42,
   "id": "055d73b2",
   "metadata": {},
   "outputs": [],
   "source": [
    "def fibonacci_recursive(n):\n",
    "    if n <= 1:\n",
    "        return n\n",
    "    else:\n",
    "        return fibonacci_recursive(n - 1) + fibonacci_recursive(n - 2)"
   ]
  },
  {
   "cell_type": "markdown",
   "id": "e864d791",
   "metadata": {},
   "source": [
    "In this example, the function fibonacci_recursive calculates the n-th Fibonacci number using recursion. It calls itself multiple times to compute the result, and the number of recursive calls increases exponentially with the input n. As n grows larger, the number of recursive calls increases dramatically. This is why it's O(2^n) or exponential time complexity."
   ]
  },
  {
   "cell_type": "markdown",
   "id": "ad862c4d",
   "metadata": {},
   "source": [
    "## O(n!) Factorial Time\n",
    "\n",
    "When we say an algorithm has O(n!) complexity, it means that for every additional element we add to the input, the time taken by the algorithm increases by a factor of the current input size. For example, if an algorithm takes 1 second to solve a problem with 3 elements, it will take 6 seconds for a problem with 4 elements, 24 seconds for 5 elements, 120 seconds for 6 elements, and so on. The number of steps or operations grows at an astronomical rate as the input size increases.\n",
    "\n",
    "Factorial time complexity, denoted as O(n!), represents an algorithm that takes time proportional to the factorial of the input size \"n.\" Factorial of \"n\" is the product of all positive integers from 1 to \"n.\" This kind of complexity is extremely inefficient and impractical for anything beyond very small inputs. The growth rate of a factorial algorithm is incredibly fast, making it unsuitable for most real-world scenarios."
   ]
  },
  {
   "cell_type": "code",
   "execution_count": 4,
   "id": "c1be97bb",
   "metadata": {},
   "outputs": [],
   "source": [
    "def factorial(n):\n",
    "    if n==0:\n",
    "        return 1\n",
    "    return n * factorial(n-1)"
   ]
  },
  {
   "cell_type": "code",
   "execution_count": 5,
   "id": "accbc062",
   "metadata": {},
   "outputs": [
    {
     "data": {
      "text/plain": [
       "120"
      ]
     },
     "execution_count": 5,
     "metadata": {},
     "output_type": "execute_result"
    }
   ],
   "source": [
    "factorial(5)"
   ]
  },
  {
   "cell_type": "markdown",
   "id": "6f77bfe4",
   "metadata": {},
   "source": [
    "For each value of n, the function will make a recursive call to calculate the factorial of n-1. This process continues recursively until reaching the base case (n = 0). The number of recursive calls grows at a rate of n!, where \"n\" is the input number. As a result, the time complexity of this algorithm is O(n!)."
   ]
  },
  {
   "cell_type": "code",
   "execution_count": null,
   "id": "9ca3081e",
   "metadata": {},
   "outputs": [],
   "source": []
  }
 ],
 "metadata": {
  "kernelspec": {
   "display_name": "Python 3 (ipykernel)",
   "language": "python",
   "name": "python3"
  },
  "language_info": {
   "codemirror_mode": {
    "name": "ipython",
    "version": 3
   },
   "file_extension": ".py",
   "mimetype": "text/x-python",
   "name": "python",
   "nbconvert_exporter": "python",
   "pygments_lexer": "ipython3",
   "version": "3.9.12"
  }
 },
 "nbformat": 4,
 "nbformat_minor": 5
}
