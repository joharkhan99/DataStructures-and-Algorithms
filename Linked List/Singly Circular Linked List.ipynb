{
 "cells": [
  {
   "cell_type": "code",
   "execution_count": 4,
   "id": "8654f377",
   "metadata": {},
   "outputs": [],
   "source": [
    "class Node:\n",
    "    def __init__(self, value):\n",
    "        self.value = value\n",
    "        self.next = None"
   ]
  },
  {
   "cell_type": "code",
   "execution_count": 205,
   "id": "0274a50a",
   "metadata": {},
   "outputs": [],
   "source": [
    "class CircularLinkedList:\n",
    "    def __init__(self):\n",
    "        self.head = None\n",
    "        self.tail = None\n",
    "        \n",
    "    def addFront(self, value):\n",
    "        new_node = Node(value)\n",
    "        if self.head is None:\n",
    "            self.head = new_node\n",
    "            self.tail = new_node\n",
    "        else:\n",
    "            new_node.next = self.head\n",
    "            self.head = new_node\n",
    "            self.tail.next = self.head\n",
    "            \n",
    "    def addRear(self, value):\n",
    "        new_node = Node(value)\n",
    "        if self.head is None:\n",
    "            self.head = new_node\n",
    "            self.tail = new_node\n",
    "        else:\n",
    "            new_node.next = self.head\n",
    "            self.tail.next = new_node\n",
    "            self.tail = new_node\n",
    "            \n",
    "    def deleteFront(self):\n",
    "        if self.head is None:\n",
    "            print(\"List is Empty\")\n",
    "        elif self.head == self.tail:\n",
    "            self.head = None\n",
    "            self.tail = None\n",
    "        else:\n",
    "            temp = self.head\n",
    "            self.head = self.head.next\n",
    "            self.tail.next = self.head\n",
    "            temp = None\n",
    "            \n",
    "    def deleteRear(self):\n",
    "        if self.head is None:\n",
    "            return\n",
    "        elif self.head == self.tail:\n",
    "            self.head = None\n",
    "            self.tail = None\n",
    "            return\n",
    "        \n",
    "        n = self.head\n",
    "        while n.next != self.tail:\n",
    "            n = n.next\n",
    "        \n",
    "        n.next = self.head\n",
    "        temp = self.tail\n",
    "        self.tail = n\n",
    "        temp = None\n",
    "\n",
    "    def display(self):\n",
    "        if self.head is None:\n",
    "            print(\"List is Empty\")\n",
    "            return\n",
    "        \n",
    "        n = self.head\n",
    "        while True:\n",
    "            print(n.value, end=\" \")\n",
    "            n = n.next\n",
    "            if n == self.head:\n",
    "                break"
   ]
  },
  {
   "cell_type": "code",
   "execution_count": 206,
   "id": "10988911",
   "metadata": {},
   "outputs": [],
   "source": [
    "cll = CircularLinkedList()"
   ]
  },
  {
   "cell_type": "code",
   "execution_count": 207,
   "id": "db609082",
   "metadata": {},
   "outputs": [],
   "source": [
    "cll.addFront(90)"
   ]
  },
  {
   "cell_type": "code",
   "execution_count": 208,
   "id": "044dc9ef",
   "metadata": {},
   "outputs": [],
   "source": [
    "cll.addFront(\"First\")"
   ]
  },
  {
   "cell_type": "code",
   "execution_count": 209,
   "id": "0a619414",
   "metadata": {},
   "outputs": [
    {
     "name": "stdout",
     "output_type": "stream",
     "text": [
      "First 90 "
     ]
    }
   ],
   "source": [
    "cll.display()"
   ]
  },
  {
   "cell_type": "code",
   "execution_count": 210,
   "id": "061b6850",
   "metadata": {},
   "outputs": [],
   "source": [
    "cll.addRear(\"Last\")"
   ]
  },
  {
   "cell_type": "code",
   "execution_count": 211,
   "id": "70540b15",
   "metadata": {},
   "outputs": [],
   "source": [
    "cll.addRear(True)"
   ]
  },
  {
   "cell_type": "code",
   "execution_count": 212,
   "id": "6b3556d3",
   "metadata": {},
   "outputs": [
    {
     "name": "stdout",
     "output_type": "stream",
     "text": [
      "First 90 Last True "
     ]
    }
   ],
   "source": [
    "cll.display()"
   ]
  },
  {
   "cell_type": "code",
   "execution_count": 213,
   "id": "a3910513",
   "metadata": {},
   "outputs": [],
   "source": [
    "cll.deleteFront()"
   ]
  },
  {
   "cell_type": "code",
   "execution_count": 214,
   "id": "64c42286",
   "metadata": {},
   "outputs": [
    {
     "name": "stdout",
     "output_type": "stream",
     "text": [
      "90 Last True "
     ]
    }
   ],
   "source": [
    "cll.display()"
   ]
  },
  {
   "cell_type": "code",
   "execution_count": 215,
   "id": "b8b63b08",
   "metadata": {},
   "outputs": [],
   "source": [
    "cll.deleteFront()\n",
    "cll.deleteFront()\n",
    "cll.deleteFront()"
   ]
  },
  {
   "cell_type": "code",
   "execution_count": 216,
   "id": "c73c1b30",
   "metadata": {},
   "outputs": [
    {
     "name": "stdout",
     "output_type": "stream",
     "text": [
      "List is Empty\n"
     ]
    }
   ],
   "source": [
    "cll.display()"
   ]
  },
  {
   "cell_type": "code",
   "execution_count": 217,
   "id": "0226b20b",
   "metadata": {},
   "outputs": [],
   "source": [
    "cll.addFront(\"Ind\")\n",
    "cll.addFront(\"Pak\")\n",
    "cll.addFront(True)\n",
    "cll.addFront(123)\n",
    "cll.addRear(\"USA\")"
   ]
  },
  {
   "cell_type": "code",
   "execution_count": 218,
   "id": "9710a2ef",
   "metadata": {},
   "outputs": [
    {
     "name": "stdout",
     "output_type": "stream",
     "text": [
      "123 True Pak Ind USA "
     ]
    }
   ],
   "source": [
    "cll.display()"
   ]
  },
  {
   "cell_type": "code",
   "execution_count": 219,
   "id": "7fadce54",
   "metadata": {},
   "outputs": [],
   "source": [
    "cll.deleteRear()"
   ]
  },
  {
   "cell_type": "code",
   "execution_count": 220,
   "id": "2397b0d4",
   "metadata": {},
   "outputs": [
    {
     "name": "stdout",
     "output_type": "stream",
     "text": [
      "123 True Pak Ind "
     ]
    }
   ],
   "source": [
    "cll.display()"
   ]
  },
  {
   "cell_type": "code",
   "execution_count": null,
   "id": "c6a7cd1e",
   "metadata": {},
   "outputs": [],
   "source": []
  },
  {
   "cell_type": "code",
   "execution_count": null,
   "id": "b6d85930",
   "metadata": {},
   "outputs": [],
   "source": []
  },
  {
   "cell_type": "code",
   "execution_count": null,
   "id": "fc0159af",
   "metadata": {},
   "outputs": [],
   "source": []
  }
 ],
 "metadata": {
  "kernelspec": {
   "display_name": "Python 3 (ipykernel)",
   "language": "python",
   "name": "python3"
  },
  "language_info": {
   "codemirror_mode": {
    "name": "ipython",
    "version": 3
   },
   "file_extension": ".py",
   "mimetype": "text/x-python",
   "name": "python",
   "nbconvert_exporter": "python",
   "pygments_lexer": "ipython3",
   "version": "3.9.12"
  }
 },
 "nbformat": 4,
 "nbformat_minor": 5
}
