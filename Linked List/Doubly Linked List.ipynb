{
 "cells": [
  {
   "cell_type": "markdown",
   "id": "ac23de2e",
   "metadata": {},
   "source": [
    "# **Doubly Linked List** \n",
    "is a variation of Linked list in which navigation is possible in both ways, either forward and backward easily as compared to Single Linked List. Following are the important terms to understand the concept of doubly linked list.\n",
    "\n",
    "**Data/Value** − Each link of a linked list can store a data called an element.\n",
    "\n",
    "**Next** − Each link of a linked list contains a link to the next link called Next.\n",
    "\n",
    "**Prev** − Each link of a linked list contains a link to the previous link called Prev."
   ]
  },
  {
   "cell_type": "markdown",
   "id": "bc536611",
   "metadata": {},
   "source": [
    "# Basic Operations\n",
    "Following are the basic operations supported by a list.\n",
    "\n",
    "- Insertion − Adds an element at the beginning of the list.\n",
    "- Deletion − Deletes an element at the beginning of the list.\n",
    "- Insert Last − Adds an element at the end of the list.\n",
    "- Delete Last − Deletes an element from the end of the list.\n",
    "- Insert After − Adds an element after an item of the list.\n",
    "- Delete − Deletes an element from the list using the key.\n",
    "- Display forward − Displays the complete list in a forward manner.\n",
    "- Display backward − Displays the complete list in a backward manner."
   ]
  },
  {
   "cell_type": "code",
   "execution_count": 94,
   "id": "11e93a78",
   "metadata": {},
   "outputs": [],
   "source": [
    "class Node:\n",
    "    def __init__(self, value):\n",
    "        self.value = value\n",
    "        self.nextNode = None\n",
    "        self.prevNode = None"
   ]
  },
  {
   "cell_type": "code",
   "execution_count": 124,
   "id": "057e8c23",
   "metadata": {},
   "outputs": [],
   "source": [
    "class DoublyLinkedList():\n",
    "    def __init__(self):\n",
    "        self.head = None\n",
    "    \n",
    "    def displayInForward(self):\n",
    "        if self.head is None:\n",
    "            print(\"List is Empty\")\n",
    "        else:\n",
    "            n = self.head\n",
    "            while n is not None:\n",
    "                print(n.value, \"->\", end=\" \")\n",
    "                n = n.nextNode\n",
    "                \n",
    "    def displayInBackward(self):\n",
    "        if self.head is None:\n",
    "            print(\"List is Empty\")\n",
    "        else:\n",
    "            n = self.head\n",
    "            while n.nextNode is not None:\n",
    "                n = n.nextNode\n",
    "\n",
    "            while n is not None:\n",
    "                print(n.value, \"->\", end=\" \")\n",
    "                n = n.prevNode\n",
    "            \n",
    "    def insertAtFront(self, value):\n",
    "        new_node = Node(value)\n",
    "        \n",
    "        if self.head is None:\n",
    "            self.head = new_node\n",
    "        else:\n",
    "            new_node.nextNode = self.head\n",
    "            self.head.prevNode = new_node\n",
    "            self.head = new_node\n",
    "            \n",
    "    def insertAtEnd(self, value):\n",
    "        new_node = Node(value)\n",
    "        \n",
    "        if self.head is None:\n",
    "            self.head = new_node\n",
    "        else:\n",
    "            n = self.head\n",
    "            while n.nextNode is not None:\n",
    "                n = n.nextNode\n",
    "            n.nextNode = new_node\n",
    "            new_node.prevNode = n\n",
    "        \n",
    "    def deleteNode(self, searchNodeValue):\n",
    "        if self.head is None:\n",
    "            print(\"List is empty\")\n",
    "        elif self.head.value == searchNodeValue:\n",
    "            self.head.nextNode.prevNode = None\n",
    "            self.head = self.head.nextNode\n",
    "        else:\n",
    "            n = self.head\n",
    "            while n.nextNode is not None:\n",
    "                if n.nextNode.value == searchNodeValue:\n",
    "                    break\n",
    "                n = n.nextNode\n",
    "                \n",
    "            if n is None:\n",
    "                print(\"Node not Found\")\n",
    "            elif n.nextNode.nextNode is None:\n",
    "                n.nextNode = None\n",
    "            else:\n",
    "                temp = n.nextNode\n",
    "                n.nextNode = n.nextNode.nextNode\n",
    "                n.nextNode.nextNode.prevNode = n\n",
    "                temp = None\n",
    "\n",
    "    def deleteAtFront(self):\n",
    "        if self.head is None:\n",
    "            print(\"List is empty\")\n",
    "        elif self.head.nextNode is None:\n",
    "            self.head = None\n",
    "        else:\n",
    "            temp = self.head\n",
    "            self.head.nextNode.prevNode = None\n",
    "            self.head = self.head.nextNode\n",
    "            temp = None\n",
    "            \n",
    "    def deleteAtEnd(self):\n",
    "        if self.head is None:\n",
    "            print(\"List is empty\")\n",
    "        else:\n",
    "            n = self.head\n",
    "            while n.nextNode is not None:\n",
    "                n = n.nextNode\n",
    "            n.prevNode.nextNode = None"
   ]
  },
  {
   "cell_type": "code",
   "execution_count": 125,
   "id": "fdaedc57",
   "metadata": {},
   "outputs": [],
   "source": [
    "dll = DoublyLinkedList()"
   ]
  },
  {
   "cell_type": "code",
   "execution_count": 126,
   "id": "ea76c629",
   "metadata": {},
   "outputs": [],
   "source": [
    "dll.insertAtFront(10)"
   ]
  },
  {
   "cell_type": "code",
   "execution_count": 127,
   "id": "fde3652e",
   "metadata": {},
   "outputs": [
    {
     "name": "stdout",
     "output_type": "stream",
     "text": [
      "10 -> "
     ]
    }
   ],
   "source": [
    "dll.displayInForward()"
   ]
  },
  {
   "cell_type": "code",
   "execution_count": 128,
   "id": "cae26326",
   "metadata": {},
   "outputs": [],
   "source": [
    "dll.insertAtFront(\"brick\")"
   ]
  },
  {
   "cell_type": "code",
   "execution_count": 129,
   "id": "174049b6",
   "metadata": {},
   "outputs": [
    {
     "name": "stdout",
     "output_type": "stream",
     "text": [
      "brick -> 10 -> "
     ]
    }
   ],
   "source": [
    "dll.displayInForward()"
   ]
  },
  {
   "cell_type": "code",
   "execution_count": 130,
   "id": "cf4113a0",
   "metadata": {},
   "outputs": [],
   "source": [
    "dll.insertAtEnd(\"sun\")"
   ]
  },
  {
   "cell_type": "code",
   "execution_count": 131,
   "id": "5b25e1ff",
   "metadata": {},
   "outputs": [
    {
     "name": "stdout",
     "output_type": "stream",
     "text": [
      "brick -> 10 -> sun -> "
     ]
    }
   ],
   "source": [
    "dll.displayInForward()"
   ]
  },
  {
   "cell_type": "code",
   "execution_count": 132,
   "id": "c8e68e71",
   "metadata": {},
   "outputs": [],
   "source": [
    "dll.insertAtEnd(False)"
   ]
  },
  {
   "cell_type": "code",
   "execution_count": 133,
   "id": "e2a27d08",
   "metadata": {},
   "outputs": [
    {
     "name": "stdout",
     "output_type": "stream",
     "text": [
      "brick -> 10 -> sun -> False -> "
     ]
    }
   ],
   "source": [
    "dll.displayInForward()"
   ]
  },
  {
   "cell_type": "code",
   "execution_count": 134,
   "id": "6c4ece98",
   "metadata": {},
   "outputs": [
    {
     "name": "stdout",
     "output_type": "stream",
     "text": [
      "False -> sun -> 10 -> brick -> "
     ]
    }
   ],
   "source": [
    "dll.displayInBackward()"
   ]
  },
  {
   "cell_type": "code",
   "execution_count": 135,
   "id": "e5e4852a",
   "metadata": {},
   "outputs": [
    {
     "name": "stdout",
     "output_type": "stream",
     "text": [
      "brick -> 10 -> sun -> False -> "
     ]
    }
   ],
   "source": [
    "dll.displayInForward()"
   ]
  },
  {
   "cell_type": "code",
   "execution_count": 136,
   "id": "6d16fc0e",
   "metadata": {},
   "outputs": [],
   "source": [
    "dll.deleteAtFront()"
   ]
  },
  {
   "cell_type": "code",
   "execution_count": 137,
   "id": "ef1b4cb8",
   "metadata": {},
   "outputs": [
    {
     "name": "stdout",
     "output_type": "stream",
     "text": [
      "10 -> sun -> False -> "
     ]
    }
   ],
   "source": [
    "dll.displayInForward()"
   ]
  },
  {
   "cell_type": "code",
   "execution_count": 138,
   "id": "47951f8d",
   "metadata": {},
   "outputs": [],
   "source": [
    "dll.deleteAtEnd()"
   ]
  },
  {
   "cell_type": "code",
   "execution_count": 139,
   "id": "cda28cac",
   "metadata": {},
   "outputs": [
    {
     "name": "stdout",
     "output_type": "stream",
     "text": [
      "10 -> sun -> "
     ]
    }
   ],
   "source": [
    "dll.displayInForward()"
   ]
  },
  {
   "cell_type": "code",
   "execution_count": 140,
   "id": "aaa73e67",
   "metadata": {},
   "outputs": [],
   "source": [
    "dll.insertAtFront(\"Math\")\n",
    "dll.insertAtFront(\"Carbon\")\n",
    "dll.insertAtEnd(True)"
   ]
  },
  {
   "cell_type": "code",
   "execution_count": 141,
   "id": "e69e3f52",
   "metadata": {},
   "outputs": [
    {
     "name": "stdout",
     "output_type": "stream",
     "text": [
      "Carbon -> Math -> 10 -> sun -> True -> "
     ]
    }
   ],
   "source": [
    "dll.displayInForward()"
   ]
  },
  {
   "cell_type": "code",
   "execution_count": 142,
   "id": "78112b59",
   "metadata": {},
   "outputs": [
    {
     "name": "stdout",
     "output_type": "stream",
     "text": [
      "n =  Carbon\n",
      "Found:  Math\n"
     ]
    }
   ],
   "source": [
    "dll.deleteNode(10)"
   ]
  },
  {
   "cell_type": "code",
   "execution_count": 143,
   "id": "7d864325",
   "metadata": {},
   "outputs": [
    {
     "name": "stdout",
     "output_type": "stream",
     "text": [
      "Carbon -> Math -> sun -> True -> "
     ]
    }
   ],
   "source": [
    "dll.displayInForward()"
   ]
  },
  {
   "cell_type": "code",
   "execution_count": 144,
   "id": "8861e34c",
   "metadata": {},
   "outputs": [],
   "source": [
    "dll.deleteNode(\"Carbon\")"
   ]
  },
  {
   "cell_type": "code",
   "execution_count": 145,
   "id": "5d82093a",
   "metadata": {},
   "outputs": [
    {
     "name": "stdout",
     "output_type": "stream",
     "text": [
      "Math -> sun -> True -> "
     ]
    }
   ],
   "source": [
    "dll.displayInForward()"
   ]
  },
  {
   "cell_type": "code",
   "execution_count": 146,
   "id": "5d5d43d3",
   "metadata": {},
   "outputs": [
    {
     "name": "stdout",
     "output_type": "stream",
     "text": [
      "n =  Math\n",
      "Found:  sun\n"
     ]
    }
   ],
   "source": [
    "dll.deleteNode(True)"
   ]
  },
  {
   "cell_type": "code",
   "execution_count": 147,
   "id": "68130bad",
   "metadata": {},
   "outputs": [
    {
     "name": "stdout",
     "output_type": "stream",
     "text": [
      "Math -> sun -> "
     ]
    }
   ],
   "source": [
    "dll.displayInForward()"
   ]
  },
  {
   "cell_type": "code",
   "execution_count": 148,
   "id": "2fbbe7b8",
   "metadata": {},
   "outputs": [],
   "source": [
    "dll.deleteNode('Math')"
   ]
  },
  {
   "cell_type": "code",
   "execution_count": 149,
   "id": "a062df5b",
   "metadata": {},
   "outputs": [
    {
     "name": "stdout",
     "output_type": "stream",
     "text": [
      "sun -> "
     ]
    }
   ],
   "source": [
    "dll.displayInForward()"
   ]
  },
  {
   "cell_type": "code",
   "execution_count": 150,
   "id": "29e452a4",
   "metadata": {},
   "outputs": [],
   "source": [
    "dll.deleteAtFront()"
   ]
  },
  {
   "cell_type": "code",
   "execution_count": 151,
   "id": "484eeb42",
   "metadata": {},
   "outputs": [
    {
     "name": "stdout",
     "output_type": "stream",
     "text": [
      "List is Empty\n"
     ]
    }
   ],
   "source": [
    "dll.displayInForward()"
   ]
  },
  {
   "cell_type": "code",
   "execution_count": 152,
   "id": "aa2709f8",
   "metadata": {},
   "outputs": [],
   "source": [
    "dll.insertAtFront(100)\n",
    "dll.insertAtEnd(\"Jimmy\")\n",
    "dll.insertAtFront(\"Ox\")"
   ]
  },
  {
   "cell_type": "code",
   "execution_count": 153,
   "id": "144b2c2d",
   "metadata": {},
   "outputs": [
    {
     "name": "stdout",
     "output_type": "stream",
     "text": [
      "Ox -> 100 -> Jimmy -> "
     ]
    }
   ],
   "source": [
    "dll.displayInForward()"
   ]
  },
  {
   "cell_type": "code",
   "execution_count": null,
   "id": "4ffa43fd",
   "metadata": {},
   "outputs": [],
   "source": []
  },
  {
   "cell_type": "code",
   "execution_count": null,
   "id": "0d5d9315",
   "metadata": {},
   "outputs": [],
   "source": []
  }
 ],
 "metadata": {
  "kernelspec": {
   "display_name": "Python 3 (ipykernel)",
   "language": "python",
   "name": "python3"
  },
  "language_info": {
   "codemirror_mode": {
    "name": "ipython",
    "version": 3
   },
   "file_extension": ".py",
   "mimetype": "text/x-python",
   "name": "python",
   "nbconvert_exporter": "python",
   "pygments_lexer": "ipython3",
   "version": "3.9.12"
  }
 },
 "nbformat": 4,
 "nbformat_minor": 5
}
