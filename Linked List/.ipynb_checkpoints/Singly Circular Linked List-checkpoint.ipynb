{
 "cells": [
  {
   "cell_type": "code",
   "execution_count": 4,
   "id": "8654f377",
   "metadata": {},
   "outputs": [],
   "source": [
    "class Node:\n",
    "    def __init__(self, value):\n",
    "        self.value = value\n",
    "        self.next = None"
   ]
  },
  {
   "cell_type": "code",
   "execution_count": 95,
   "id": "0274a50a",
   "metadata": {},
   "outputs": [],
   "source": [
    "class CircularLinkedList:\n",
    "    def __init__(self):\n",
    "        self.head = None\n",
    "        self.tail = None\n",
    "        \n",
    "    def addFront(self, value):\n",
    "        new_node = Node(value)\n",
    "        if self.head is None:\n",
    "            self.head = new_node\n",
    "            self.tail = new_node\n",
    "        else:\n",
    "            new_node.next = self.head\n",
    "            self.head = new_node\n",
    "            self.tail.next = self.head\n",
    "            \n",
    "    def addRear(self, value):\n",
    "        new_node = Node(value)\n",
    "        if self.head is None:\n",
    "            self.head = new_node\n",
    "            self.tail = new_node\n",
    "        else:\n",
    "            new_node.next = self.head\n",
    "            self.tail.next = new_node\n",
    "            self.tail = new_node\n",
    "\n",
    "    def display(self):\n",
    "        n = self.head\n",
    "        while True:\n",
    "            print(n.value, end=\" \")\n",
    "            n = n.next\n",
    "            if n == self.head:\n",
    "                break"
   ]
  },
  {
   "cell_type": "code",
   "execution_count": 96,
   "id": "2e947527",
   "metadata": {},
   "outputs": [],
   "source": [
    "cll = CircularLinkedList()"
   ]
  },
  {
   "cell_type": "code",
   "execution_count": 97,
   "id": "c229f946",
   "metadata": {},
   "outputs": [],
   "source": [
    "cll.addFront(90)"
   ]
  },
  {
   "cell_type": "code",
   "execution_count": 98,
   "id": "674627e4",
   "metadata": {},
   "outputs": [],
   "source": [
    "cll.addFront(\"First\")"
   ]
  },
  {
   "cell_type": "code",
   "execution_count": 99,
   "id": "e5bfd701",
   "metadata": {},
   "outputs": [
    {
     "name": "stdout",
     "output_type": "stream",
     "text": [
      "First 90 "
     ]
    }
   ],
   "source": [
    "cll.display()"
   ]
  },
  {
   "cell_type": "code",
   "execution_count": 100,
   "id": "469d911a",
   "metadata": {},
   "outputs": [],
   "source": [
    "cll.addRear(\"Last\")"
   ]
  },
  {
   "cell_type": "code",
   "execution_count": 101,
   "id": "0f11305f",
   "metadata": {},
   "outputs": [],
   "source": [
    "cll.addRear(True)"
   ]
  },
  {
   "cell_type": "code",
   "execution_count": 102,
   "id": "30976b83",
   "metadata": {},
   "outputs": [
    {
     "name": "stdout",
     "output_type": "stream",
     "text": [
      "First 90 Last True "
     ]
    }
   ],
   "source": [
    "cll.display()"
   ]
  },
  {
   "cell_type": "code",
   "execution_count": null,
   "id": "3b3e5f6a",
   "metadata": {},
   "outputs": [],
   "source": []
  }
 ],
 "metadata": {
  "kernelspec": {
   "display_name": "Python 3 (ipykernel)",
   "language": "python",
   "name": "python3"
  },
  "language_info": {
   "codemirror_mode": {
    "name": "ipython",
    "version": 3
   },
   "file_extension": ".py",
   "mimetype": "text/x-python",
   "name": "python",
   "nbconvert_exporter": "python",
   "pygments_lexer": "ipython3",
   "version": "3.9.12"
  }
 },
 "nbformat": 4,
 "nbformat_minor": 5
}
