{
 "cells": [
  {
   "cell_type": "code",
   "execution_count": 4,
   "id": "8654f377",
   "metadata": {},
   "outputs": [],
   "source": [
    "class Node:\n",
    "    def __init__(self, value):\n",
    "        self.value = value\n",
    "        self.next = None"
   ]
  },
  {
   "cell_type": "code",
   "execution_count": 177,
   "id": "0274a50a",
   "metadata": {},
   "outputs": [],
   "source": [
    "class CircularLinkedList:\n",
    "    def __init__(self):\n",
    "        self.head = None\n",
    "        self.tail = None\n",
    "        \n",
    "    def addFront(self, value):\n",
    "        new_node = Node(value)\n",
    "        if self.head is None:\n",
    "            self.head = new_node\n",
    "            self.tail = new_node\n",
    "        else:\n",
    "            new_node.next = self.head\n",
    "            self.head = new_node\n",
    "            self.tail.next = self.head\n",
    "            \n",
    "    def addRear(self, value):\n",
    "        new_node = Node(value)\n",
    "        if self.head is None:\n",
    "            self.head = new_node\n",
    "            self.tail = new_node\n",
    "        else:\n",
    "            new_node.next = self.head\n",
    "            self.tail.next = new_node\n",
    "            self.tail = new_node\n",
    "            \n",
    "    def deleteFront(self):\n",
    "        if self.head is None:\n",
    "            print(\"List is Empty\")\n",
    "        elif self.head == self.tail:\n",
    "            self.head = None\n",
    "            self.tail = None\n",
    "        else:\n",
    "            temp = self.head\n",
    "            self.head = self.head.next\n",
    "            self.tail.next = self.head\n",
    "            temp = None\n",
    "            \n",
    "    def deleteRear(self):\n",
    "        if self.head is None:\n",
    "            return\n",
    "        elif self.head == self.tail:\n",
    "            self.head = None\n",
    "            self.tail = None\n",
    "            return\n",
    "        \n",
    "        n = self.head\n",
    "        while n.next != self.tail:\n",
    "            n = n.next\n",
    "        \n",
    "        n.next = self.head\n",
    "        self.tail = n\n",
    "\n",
    "    def display(self):\n",
    "        if self.head is None:\n",
    "            print(\"List is Empty\")\n",
    "            return\n",
    "        \n",
    "        n = self.head\n",
    "        while True:\n",
    "            print(n.value, end=\" \")\n",
    "            n = n.next\n",
    "            if n == self.head:\n",
    "                break"
   ]
  },
  {
   "cell_type": "code",
   "execution_count": 178,
   "id": "87953479",
   "metadata": {},
   "outputs": [],
   "source": [
    "cll = CircularLinkedList()"
   ]
  },
  {
   "cell_type": "code",
   "execution_count": 179,
   "id": "09829ad0",
   "metadata": {},
   "outputs": [],
   "source": [
    "cll.addFront(90)"
   ]
  },
  {
   "cell_type": "code",
   "execution_count": 180,
   "id": "a149fbcb",
   "metadata": {},
   "outputs": [],
   "source": [
    "cll.addFront(\"First\")"
   ]
  },
  {
   "cell_type": "code",
   "execution_count": 181,
   "id": "1573249c",
   "metadata": {},
   "outputs": [
    {
     "name": "stdout",
     "output_type": "stream",
     "text": [
      "First 90 "
     ]
    }
   ],
   "source": [
    "cll.display()"
   ]
  },
  {
   "cell_type": "code",
   "execution_count": 182,
   "id": "a1748f92",
   "metadata": {},
   "outputs": [],
   "source": [
    "cll.addRear(\"Last\")"
   ]
  },
  {
   "cell_type": "code",
   "execution_count": 183,
   "id": "e5d6c8c7",
   "metadata": {},
   "outputs": [],
   "source": [
    "cll.addRear(True)"
   ]
  },
  {
   "cell_type": "code",
   "execution_count": 184,
   "id": "2e405e69",
   "metadata": {},
   "outputs": [
    {
     "name": "stdout",
     "output_type": "stream",
     "text": [
      "First 90 Last True "
     ]
    }
   ],
   "source": [
    "cll.display()"
   ]
  },
  {
   "cell_type": "code",
   "execution_count": 185,
   "id": "ea9efa4e",
   "metadata": {},
   "outputs": [],
   "source": [
    "cll.deleteFront()"
   ]
  },
  {
   "cell_type": "code",
   "execution_count": 186,
   "id": "ccce0f85",
   "metadata": {},
   "outputs": [
    {
     "name": "stdout",
     "output_type": "stream",
     "text": [
      "90 Last True "
     ]
    }
   ],
   "source": [
    "cll.display()"
   ]
  },
  {
   "cell_type": "code",
   "execution_count": 187,
   "id": "8e167d8b",
   "metadata": {},
   "outputs": [],
   "source": [
    "cll.deleteFront()\n",
    "cll.deleteFront()\n",
    "cll.deleteFront()"
   ]
  },
  {
   "cell_type": "code",
   "execution_count": 188,
   "id": "4c8c1fbe",
   "metadata": {},
   "outputs": [
    {
     "name": "stdout",
     "output_type": "stream",
     "text": [
      "List is Empty\n"
     ]
    }
   ],
   "source": [
    "cll.display()"
   ]
  },
  {
   "cell_type": "code",
   "execution_count": 201,
   "id": "c46e4d00",
   "metadata": {},
   "outputs": [],
   "source": [
    "cll.addFront(\"Ind\")\n",
    "cll.addFront(\"Pak\")\n",
    "cll.addFront(True)\n",
    "cll.addFront(123)\n",
    "cll.addRear(\"USA\")"
   ]
  },
  {
   "cell_type": "code",
   "execution_count": 202,
   "id": "a7dc958b",
   "metadata": {},
   "outputs": [
    {
     "name": "stdout",
     "output_type": "stream",
     "text": [
      "123 True Pak Ind USA "
     ]
    }
   ],
   "source": [
    "cll.display()"
   ]
  },
  {
   "cell_type": "code",
   "execution_count": 203,
   "id": "ac613926",
   "metadata": {},
   "outputs": [],
   "source": [
    "cll.deleteRear()"
   ]
  },
  {
   "cell_type": "code",
   "execution_count": 204,
   "id": "f29fd1c4",
   "metadata": {},
   "outputs": [
    {
     "name": "stdout",
     "output_type": "stream",
     "text": [
      "123 True Pak Ind "
     ]
    }
   ],
   "source": [
    "cll.display()"
   ]
  },
  {
   "cell_type": "code",
   "execution_count": null,
   "id": "62e104f7",
   "metadata": {},
   "outputs": [],
   "source": []
  },
  {
   "cell_type": "code",
   "execution_count": null,
   "id": "1ca0de37",
   "metadata": {},
   "outputs": [],
   "source": []
  },
  {
   "cell_type": "code",
   "execution_count": null,
   "id": "8d51903d",
   "metadata": {},
   "outputs": [],
   "source": []
  }
 ],
 "metadata": {
  "kernelspec": {
   "display_name": "Python 3 (ipykernel)",
   "language": "python",
   "name": "python3"
  },
  "language_info": {
   "codemirror_mode": {
    "name": "ipython",
    "version": 3
   },
   "file_extension": ".py",
   "mimetype": "text/x-python",
   "name": "python",
   "nbconvert_exporter": "python",
   "pygments_lexer": "ipython3",
   "version": "3.9.12"
  }
 },
 "nbformat": 4,
 "nbformat_minor": 5
}
