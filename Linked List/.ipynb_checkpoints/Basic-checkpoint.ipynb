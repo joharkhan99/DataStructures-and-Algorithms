{
 "cells": [
  {
   "cell_type": "code",
   "execution_count": 118,
   "id": "37901d67",
   "metadata": {},
   "outputs": [],
   "source": [
    "class Node:\n",
    "    def __init__(self, data=None, nextNode=None):\n",
    "        self.data = data\n",
    "        self.nextNode = nextNode\n",
    "        \n",
    "class LinkedList:\n",
    "    def __init__(self):\n",
    "        self.head = None\n",
    "        \n",
    "    def insertAtFront(self, data):\n",
    "        new_node = Node(data)\n",
    "        if self.head is None:\n",
    "            self.head = new_node\n",
    "        else:\n",
    "            new_node.nextNode = self.head\n",
    "            self.head = new_node\n",
    "        \n",
    "    def insertAtEnd(self, data):\n",
    "        new_node = Node(data)\n",
    "        if self.head is None:\n",
    "            self.head = new_node\n",
    "        else:\n",
    "            temp = self.head\n",
    "            while temp.nextNode is not None:\n",
    "                temp = temp.nextNode\n",
    "            temp.nextNode = new_node\n",
    "            \n",
    "    def insertAfterNode(self, nodeValue, newData):\n",
    "        new_node = Node(newData)\n",
    "        temp = self.head\n",
    "        while temp.nextNode:\n",
    "            if temp.data == nodeValue:\n",
    "                break\n",
    "            temp = temp.nextNode\n",
    "        new_node.nextNode = temp.nextNode\n",
    "        temp.nextNode = new_node\n",
    "\n",
    "    def insertBeforeNode(self, nodeValue, newData):\n",
    "        new_node = Node(newData)\n",
    "        temp = self.head\n",
    "        while temp.nextNode:\n",
    "            if temp.nextNode.data == nodeValue:\n",
    "                break\n",
    "            temp = temp.nextNode\n",
    "        new_node.nextNode = temp.nextNode\n",
    "        temp.nextNode = new_node\n",
    "        \n",
    "    def deleteAtFront(self):\n",
    "        if self.head is None:\n",
    "            print(\"List empty\")\n",
    "        else:\n",
    "            temp = self.head\n",
    "            self.head = self.head.nextNode\n",
    "            temp=None\n",
    "\n",
    "    def display(self):\n",
    "        temp = self.head\n",
    "        while temp is not None:\n",
    "            print(temp.data, end=\" -> \")\n",
    "            temp = temp.nextNode"
   ]
  },
  {
   "cell_type": "code",
   "execution_count": 121,
   "id": "2815009c",
   "metadata": {},
   "outputs": [
    {
     "name": "stdout",
     "output_type": "stream",
     "text": [
      "30 -> 45 -> ME -> 10 -> True -> 200 -> Peace -> 3.12 -> False -> AAPL -> "
     ]
    }
   ],
   "source": [
    "ll = LinkedList()\n",
    "ll.insertAtFront(10)\n",
    "ll.insertAtEnd(\"Peace\")\n",
    "ll.insertAtFront(\"ME\")\n",
    "ll.insertAtEnd(False)\n",
    "ll.insertAtFront(30)\n",
    "ll.insertAfterNode(10, 200)\n",
    "ll.insertAfterNode(\"Peace\", 3.12)\n",
    "ll.insertAfterNode(False, \"AAPL\")\n",
    "\n",
    "ll.insertBeforeNode(\"ME\", 45)\n",
    "ll.insertBeforeNode(200, True)\n",
    "\n",
    "ll.display()"
   ]
  },
  {
   "cell_type": "code",
   "execution_count": 122,
   "id": "f9f1ff0e",
   "metadata": {},
   "outputs": [
    {
     "name": "stdout",
     "output_type": "stream",
     "text": [
      "45 -> ME -> 10 -> True -> 200 -> Peace -> 3.12 -> False -> AAPL -> "
     ]
    }
   ],
   "source": [
    "ll.deleteAtFront()\n",
    "\n",
    "\n",
    "ll.display()"
   ]
  },
  {
   "cell_type": "code",
   "execution_count": null,
   "id": "50f2a3fc",
   "metadata": {},
   "outputs": [],
   "source": []
  },
  {
   "cell_type": "code",
   "execution_count": null,
   "id": "329d24f8",
   "metadata": {},
   "outputs": [],
   "source": []
  }
 ],
 "metadata": {
  "kernelspec": {
   "display_name": "Python 3 (ipykernel)",
   "language": "python",
   "name": "python3"
  },
  "language_info": {
   "codemirror_mode": {
    "name": "ipython",
    "version": 3
   },
   "file_extension": ".py",
   "mimetype": "text/x-python",
   "name": "python",
   "nbconvert_exporter": "python",
   "pygments_lexer": "ipython3",
   "version": "3.9.18"
  }
 },
 "nbformat": 4,
 "nbformat_minor": 5
}
