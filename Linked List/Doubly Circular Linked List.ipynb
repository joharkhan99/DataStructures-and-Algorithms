{
 "cells": [
  {
   "cell_type": "code",
   "execution_count": 323,
   "id": "f7966023",
   "metadata": {},
   "outputs": [],
   "source": [
    "class Node:\n",
    "    def __init__(self, data):\n",
    "        self.data = data\n",
    "        self.next = None\n",
    "        self.prev = None\n",
    "\n",
    "class DoublyCircularLinkedList:\n",
    "    def __init__(self):\n",
    "        self.head = None\n",
    "        self.tail = None\n",
    "\n",
    "    def insertToFront(self, data):\n",
    "        new_node = Node(data)\n",
    "        if self.head is None and self.tail is None:\n",
    "            self.head = new_node\n",
    "            self.tail = new_node\n",
    "            self.head.prev = self.tail\n",
    "            self.tail.next = self.head\n",
    "        else:\n",
    "            new_node.prev = self.tail\n",
    "            new_node.next = self.head\n",
    "            self.tail.next = new_node\n",
    "            self.head.prev = new_node\n",
    "            self.head = new_node\n",
    "\n",
    "    def insertToEnd(self, data):\n",
    "        new_node = Node(data)\n",
    "        if self.head is None and self.tail is None:\n",
    "            self.head = new_node\n",
    "            self.tail = new_node\n",
    "        else:\n",
    "            new_node.prev = self.tail\n",
    "            new_node.next = self.head\n",
    "            self.tail.next = new_node\n",
    "            self.head.prev = new_node\n",
    "            self.tail = new_node\n",
    "            \n",
    "    def deleteAtFront(self):\n",
    "        if self.head is None:\n",
    "            print(\"List is Empty\")\n",
    "        else:\n",
    "            temp = self.head\n",
    "            self.head = self.head.next\n",
    "            self.tail.next = self.head\n",
    "            self.head.prev = self.tail\n",
    "            temp = None\n",
    "\n",
    "    def deleteAtEnd(self):\n",
    "        if self.head is None:\n",
    "            print(\"List is Empty\")\n",
    "        else:\n",
    "            temp = self.tail\n",
    "            self.tail = self.tail.prev\n",
    "            self.tail.next = self.head\n",
    "            self.head.prev = self.tail\n",
    "            temp = None\n",
    "\n",
    "    def display(self):\n",
    "        if self.head is None:\n",
    "            print(\"List is empty\")\n",
    "        else:\n",
    "            temp = self.head\n",
    "            while True:\n",
    "                print(temp.data, end=\" -> \")\n",
    "                temp = temp.next\n",
    "                if temp == self.head:\n",
    "                    break\n",
    "\n",
    "    def displayReverse(self):\n",
    "        if self.head is None:\n",
    "            print(\"List is empty\")\n",
    "        else:\n",
    "            temp = self.tail\n",
    "            while True:\n",
    "                print(temp.data, end=\" -> \")\n",
    "                temp = temp.prev\n",
    "                if temp == self.tail:\n",
    "                    break"
   ]
  },
  {
   "cell_type": "code",
   "execution_count": 324,
   "id": "b427ce12",
   "metadata": {},
   "outputs": [
    {
     "name": "stdout",
     "output_type": "stream",
     "text": [
      "13.4 -> Magic -> 10 -> "
     ]
    }
   ],
   "source": [
    "dll = DoublyCircularLinkedList()\n",
    "dll.insertToFront(10)\n",
    "dll.insertToFront(\"Magic\")\n",
    "dll.insertToFront(13.40)\n",
    "\n",
    "dll.display()"
   ]
  },
  {
   "cell_type": "code",
   "execution_count": 325,
   "id": "4d93917c",
   "metadata": {},
   "outputs": [
    {
     "name": "stdout",
     "output_type": "stream",
     "text": [
      "0 -> 1 -> 13.4 -> Magic -> 10 -> True -> 800 -> "
     ]
    }
   ],
   "source": [
    "dll.insertToEnd(\"True\")\n",
    "dll.insertToFront(1)\n",
    "dll.insertToEnd(800)\n",
    "dll.insertToFront(0)\n",
    "\n",
    "dll.display()"
   ]
  },
  {
   "cell_type": "code",
   "execution_count": 326,
   "id": "6afcab8c",
   "metadata": {},
   "outputs": [],
   "source": [
    "dll.deleteAtFront()"
   ]
  },
  {
   "cell_type": "code",
   "execution_count": 327,
   "id": "99d6983b",
   "metadata": {},
   "outputs": [
    {
     "name": "stdout",
     "output_type": "stream",
     "text": [
      "1 -> 13.4 -> Magic -> 10 -> True -> 800 -> "
     ]
    }
   ],
   "source": [
    "dll.display()"
   ]
  },
  {
   "cell_type": "code",
   "execution_count": 328,
   "id": "6d0c9bf7",
   "metadata": {},
   "outputs": [
    {
     "name": "stdout",
     "output_type": "stream",
     "text": [
      "1 -> 13.4 -> Magic -> 10 -> True -> "
     ]
    }
   ],
   "source": [
    "dll.deleteAtEnd()\n",
    "\n",
    "dll.display()"
   ]
  },
  {
   "cell_type": "code",
   "execution_count": null,
   "id": "83e482f2",
   "metadata": {},
   "outputs": [],
   "source": []
  },
  {
   "cell_type": "code",
   "execution_count": 329,
   "id": "3aacc783",
   "metadata": {},
   "outputs": [
    {
     "name": "stdout",
     "output_type": "stream",
     "text": [
      "True -> 10 -> Magic -> 13.4 -> 1 -> "
     ]
    }
   ],
   "source": [
    "dll.displayReverse()"
   ]
  },
  {
   "cell_type": "code",
   "execution_count": null,
   "id": "9d9f20c7",
   "metadata": {},
   "outputs": [],
   "source": []
  },
  {
   "cell_type": "code",
   "execution_count": null,
   "id": "66de5d30",
   "metadata": {},
   "outputs": [],
   "source": []
  },
  {
   "cell_type": "code",
   "execution_count": null,
   "id": "7bc46676",
   "metadata": {},
   "outputs": [],
   "source": []
  },
  {
   "cell_type": "code",
   "execution_count": null,
   "id": "a5b6dec8",
   "metadata": {},
   "outputs": [],
   "source": []
  },
  {
   "cell_type": "code",
   "execution_count": null,
   "id": "e0213e6e",
   "metadata": {},
   "outputs": [],
   "source": []
  }
 ],
 "metadata": {
  "kernelspec": {
   "display_name": "Python 3 (ipykernel)",
   "language": "python",
   "name": "python3"
  },
  "language_info": {
   "codemirror_mode": {
    "name": "ipython",
    "version": 3
   },
   "file_extension": ".py",
   "mimetype": "text/x-python",
   "name": "python",
   "nbconvert_exporter": "python",
   "pygments_lexer": "ipython3",
   "version": "3.9.18"
  }
 },
 "nbformat": 4,
 "nbformat_minor": 5
}
