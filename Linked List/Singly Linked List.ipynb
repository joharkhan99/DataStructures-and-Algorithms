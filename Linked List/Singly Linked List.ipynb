{
 "cells": [
  {
   "cell_type": "code",
   "execution_count": 11,
   "id": "fbf37103",
   "metadata": {},
   "outputs": [],
   "source": [
    "class Node:\n",
    "    def __init__(self, value):\n",
    "        self.value = value\n",
    "        self.nextNode = None"
   ]
  },
  {
   "cell_type": "code",
   "execution_count": 90,
   "id": "662ee480",
   "metadata": {},
   "outputs": [],
   "source": [
    "class SingleLinkedList:\n",
    "    def __init__(self):\n",
    "        self.head = None\n",
    "\n",
    "    def print_LL(self):\n",
    "        if self.head is None:\n",
    "            print(\"Linked List is Empty\")\n",
    "        else:\n",
    "            # if list not empty, then start from head of list and loop until end/tail is reached.\n",
    "            # we will also increment to next node by assigning n to next nodes\n",
    "            n = self.head\n",
    "            while n is not None:\n",
    "                print(n.value, \"-->\", end=\" \")\n",
    "                n = n.nextNode\n",
    "\n",
    "    def insertFront(self, val):\n",
    "        new_node = Node(val)\n",
    "        new_node.nextNode = self.head\n",
    "        self.head = new_node\n",
    "\n",
    "    def insertEnd(self, val):\n",
    "        new_node = Node(val)\n",
    "        if self.head is None:\n",
    "            self.head = new_node\n",
    "        else:\n",
    "            n = self.head\n",
    "            while n.nextNode is not None:\n",
    "                n = n.nextNode\n",
    "            n.nextNode = new_node\n",
    "\n",
    "    def insertAfterNode(self, val, x):\n",
    "        n = self.head\n",
    "        while n is not None:\n",
    "            if n.value == x:\n",
    "                break\n",
    "            n = n.nextNode\n",
    "        if n is None:\n",
    "            print(\"node is not present in List\")\n",
    "        else:\n",
    "            new_node = Node(val)\n",
    "            new_node.nextNode = n.nextNode\n",
    "            n.nextNode = new_node"
   ]
  },
  {
   "cell_type": "code",
   "execution_count": 97,
   "id": "e1da6cc6",
   "metadata": {},
   "outputs": [],
   "source": [
    "ll = SingleLinkedList()"
   ]
  },
  {
   "cell_type": "code",
   "execution_count": 98,
   "id": "1ec534e6",
   "metadata": {},
   "outputs": [
    {
     "name": "stdout",
     "output_type": "stream",
     "text": [
      "Linked List is Empty\n"
     ]
    }
   ],
   "source": [
    "ll.print_LL()"
   ]
  },
  {
   "cell_type": "code",
   "execution_count": 99,
   "id": "ff88e25c",
   "metadata": {},
   "outputs": [],
   "source": [
    "ll.insertFront(10)"
   ]
  },
  {
   "cell_type": "code",
   "execution_count": 100,
   "id": "aa6351fb",
   "metadata": {},
   "outputs": [],
   "source": [
    "ll.insertFront(20)"
   ]
  },
  {
   "cell_type": "code",
   "execution_count": 101,
   "id": "fe585507",
   "metadata": {},
   "outputs": [
    {
     "name": "stdout",
     "output_type": "stream",
     "text": [
      "20 --> 10 --> "
     ]
    }
   ],
   "source": [
    "ll.print_LL()"
   ]
  },
  {
   "cell_type": "code",
   "execution_count": 102,
   "id": "cebaae3a",
   "metadata": {},
   "outputs": [],
   "source": [
    "ll.insertAfterNode(90, 20)"
   ]
  },
  {
   "cell_type": "code",
   "execution_count": 103,
   "id": "16202546",
   "metadata": {},
   "outputs": [
    {
     "name": "stdout",
     "output_type": "stream",
     "text": [
      "20 --> 90 --> 10 --> "
     ]
    }
   ],
   "source": [
    "ll.print_LL()"
   ]
  },
  {
   "cell_type": "code",
   "execution_count": 104,
   "id": "6020d80c",
   "metadata": {},
   "outputs": [
    {
     "name": "stdout",
     "output_type": "stream",
     "text": [
      "node is not present in List\n"
     ]
    }
   ],
   "source": [
    "ll.insertAfterNode(\"new thing\", 200)"
   ]
  },
  {
   "cell_type": "code",
   "execution_count": 105,
   "id": "102f15c9",
   "metadata": {},
   "outputs": [],
   "source": [
    "ll.insertEnd(33)"
   ]
  },
  {
   "cell_type": "code",
   "execution_count": 106,
   "id": "6cd96e05",
   "metadata": {},
   "outputs": [],
   "source": [
    "ll.insertEnd(43)"
   ]
  },
  {
   "cell_type": "code",
   "execution_count": 107,
   "id": "2dd0f353",
   "metadata": {},
   "outputs": [],
   "source": [
    "ll.insertAfterNode(\"Johar\", 33)"
   ]
  },
  {
   "cell_type": "code",
   "execution_count": 108,
   "id": "013cf74e",
   "metadata": {},
   "outputs": [
    {
     "name": "stdout",
     "output_type": "stream",
     "text": [
      "20 --> 90 --> 10 --> 33 --> Johar --> 43 --> "
     ]
    }
   ],
   "source": [
    "ll.print_LL()"
   ]
  },
  {
   "cell_type": "code",
   "execution_count": 109,
   "id": "8dc764e1",
   "metadata": {},
   "outputs": [],
   "source": [
    "ll.insertFront(100)"
   ]
  },
  {
   "cell_type": "code",
   "execution_count": 110,
   "id": "df298e32",
   "metadata": {},
   "outputs": [
    {
     "name": "stdout",
     "output_type": "stream",
     "text": [
      "100 --> 20 --> 90 --> 10 --> 33 --> Johar --> 43 --> "
     ]
    }
   ],
   "source": [
    "ll.print_LL()"
   ]
  },
  {
   "cell_type": "code",
   "execution_count": null,
   "id": "73328d9d",
   "metadata": {},
   "outputs": [],
   "source": []
  },
  {
   "cell_type": "code",
   "execution_count": null,
   "id": "19f8424e",
   "metadata": {},
   "outputs": [],
   "source": []
  },
  {
   "cell_type": "code",
   "execution_count": 118,
   "id": "fa247e97",
   "metadata": {},
   "outputs": [],
   "source": [
    "class Node:\n",
    "    def __init__(self, value):\n",
    "        self.value = value\n",
    "        self.nextNode = None\n",
    "    \n",
    "class SLL:\n",
    "    def __init__(self):\n",
    "        self.head = None\n",
    "        \n",
    "    def printAll(self):\n",
    "        if self.head is None:\n",
    "            print(\"List is empty\")\n",
    "        else:\n",
    "            n = self.head\n",
    "            while n is not None:\n",
    "                print(n.value, \"->\", end=\" \")\n",
    "                n = n.nextNode\n",
    "    \n",
    "    def addFront(self, value):\n",
    "        new_node = Node(value)\n",
    "        \n",
    "        if self.head is None:\n",
    "            self.head = new_node\n",
    "        else:\n",
    "            new_node.nextNode = self.head\n",
    "            self.head = new_node\n",
    "            \n",
    "    def deleteFront(self):\n",
    "        if self.head is None:\n",
    "            print(\"List is empty\")\n",
    "        else:\n",
    "            temp = self.head\n",
    "            self.head = self.head.nextNode\n",
    "            temp = None\n",
    "        \n",
    "    def addRear(self, value):\n",
    "        new_node = Node(value)\n",
    "        \n",
    "        if self.head is None:\n",
    "            self.head = new_node\n",
    "        else:\n",
    "            n = self.head\n",
    "            while n.nextNode is not None:\n",
    "                n = n.nextNode\n",
    "            n.nextNode = new_node\n",
    "            \n",
    "    def deleteRear(self):\n",
    "        if self.head is None:\n",
    "            print(\"List is empty\")\n",
    "        else:\n",
    "            n = self.head\n",
    "            while n is not None:\n",
    "                if n.nextNode.nextNode is None:\n",
    "                    break\n",
    "                n = n.nextNode\n",
    "            n.nextNode = None\n",
    "            \n",
    "    def addAfterNode(self, value, searchNodeValue):\n",
    "        n = self.head\n",
    "        while n is not None:\n",
    "            if n.value == searchNodeValue:\n",
    "                break\n",
    "            n = n.nextNode\n",
    "            \n",
    "        if n is None:\n",
    "            print(\"Node not found\")\n",
    "        else:\n",
    "            new_node = Node(value)\n",
    "            new_node.nextNode = n.nextNode\n",
    "            n.nextNode = new_node\n",
    "            \n",
    "    def deleteAfterNode(self, searchNodeValue):\n",
    "        if self.head is None:\n",
    "            print(\"List is empty\")\n",
    "        elif self.head.value == searchNodeValue:\n",
    "            temp = self.head\n",
    "            self.head = self.head.nextNode\n",
    "            temp = None\n",
    "        else:\n",
    "            n = self.head\n",
    "            while n is not None:\n",
    "                if n.value == searchNodeValue:\n",
    "                    break\n",
    "                n = n.nextNode\n",
    "            temp = n.nextNode.nextNode\n",
    "            n.nextNode = temp\n",
    "            temp = None\n",
    "            \n",
    "    def deleteBeforeNode(self, searchNodeValue):\n",
    "        if self.head is None:\n",
    "            print(\"List is empty\")\n",
    "\n",
    "        elif self.head.value == searchNodeValue:\n",
    "            print(\"List first entry has no before value\")\n",
    "\n",
    "        else:\n",
    "            n = self.head\n",
    "            while n.nextNode is not None:\n",
    "                if n.nextNode.nextNode.value == searchNodeValue:\n",
    "                    break\n",
    "                n = n.nextNode\n",
    "            if n.nextNode.nextNode is None:\n",
    "                print(\"Node not found!\")\n",
    "            else:\n",
    "                n.nextNode = n.nextNode.nextNode\n",
    "\n",
    "    def addBeforeNode(self, value, searchNodeValue):\n",
    "        # if first node data == searchNodeValue\n",
    "        new_node = Node(value)\n",
    "        \n",
    "        if self.head.value == searchNodeValue:\n",
    "            new_node.nextNode = self.head\n",
    "            self.head = new_node\n",
    "        else:\n",
    "            n = self.head\n",
    "            \n",
    "            while n.nextNode is not None:\n",
    "                if n.nextNode.value == searchNodeValue:\n",
    "                    break\n",
    "                n = n.nextNode\n",
    "                \n",
    "            if n is None:\n",
    "                print(\"Node not found\")\n",
    "            else:\n",
    "                new_node.nextNode = n.nextNode\n",
    "                n.nextNode = new_node"
   ]
  },
  {
   "cell_type": "code",
   "execution_count": 119,
   "id": "6f305ad2",
   "metadata": {},
   "outputs": [],
   "source": [
    "sll = SLL()"
   ]
  },
  {
   "cell_type": "code",
   "execution_count": 120,
   "id": "0a0d44fb",
   "metadata": {},
   "outputs": [],
   "source": [
    "sll.addFront(10)"
   ]
  },
  {
   "cell_type": "code",
   "execution_count": 121,
   "id": "8a627cda",
   "metadata": {},
   "outputs": [
    {
     "name": "stdout",
     "output_type": "stream",
     "text": [
      "10 -> "
     ]
    }
   ],
   "source": [
    "sll.printAll()"
   ]
  },
  {
   "cell_type": "code",
   "execution_count": 122,
   "id": "adc305b8",
   "metadata": {},
   "outputs": [],
   "source": [
    "sll.addFront(\"TEST\")"
   ]
  },
  {
   "cell_type": "code",
   "execution_count": 123,
   "id": "29cfa505",
   "metadata": {},
   "outputs": [
    {
     "name": "stdout",
     "output_type": "stream",
     "text": [
      "TEST -> 10 -> "
     ]
    }
   ],
   "source": [
    "sll.printAll()"
   ]
  },
  {
   "cell_type": "code",
   "execution_count": 124,
   "id": "ab87df19",
   "metadata": {},
   "outputs": [],
   "source": [
    "sll.addRear(\"END\")"
   ]
  },
  {
   "cell_type": "code",
   "execution_count": 125,
   "id": "f4cae659",
   "metadata": {},
   "outputs": [
    {
     "name": "stdout",
     "output_type": "stream",
     "text": [
      "TEST -> 10 -> END -> "
     ]
    }
   ],
   "source": [
    "sll.printAll()"
   ]
  },
  {
   "cell_type": "code",
   "execution_count": 126,
   "id": "8a818a21",
   "metadata": {},
   "outputs": [],
   "source": [
    "sll.deleteFront()"
   ]
  },
  {
   "cell_type": "code",
   "execution_count": 127,
   "id": "f08a1f80",
   "metadata": {},
   "outputs": [
    {
     "name": "stdout",
     "output_type": "stream",
     "text": [
      "10 -> END -> "
     ]
    }
   ],
   "source": [
    "sll.printAll()"
   ]
  },
  {
   "cell_type": "code",
   "execution_count": 128,
   "id": "adb55d02",
   "metadata": {},
   "outputs": [],
   "source": [
    "sll.addRear(340)"
   ]
  },
  {
   "cell_type": "code",
   "execution_count": 129,
   "id": "0789fe31",
   "metadata": {},
   "outputs": [
    {
     "name": "stdout",
     "output_type": "stream",
     "text": [
      "10 -> END -> 340 -> "
     ]
    }
   ],
   "source": [
    "sll.printAll()"
   ]
  },
  {
   "cell_type": "code",
   "execution_count": 130,
   "id": "7be2fbf5",
   "metadata": {},
   "outputs": [],
   "source": [
    "sll.deleteRear()"
   ]
  },
  {
   "cell_type": "code",
   "execution_count": 131,
   "id": "cc92dc01",
   "metadata": {},
   "outputs": [
    {
     "name": "stdout",
     "output_type": "stream",
     "text": [
      "10 -> END -> "
     ]
    }
   ],
   "source": [
    "sll.printAll()"
   ]
  },
  {
   "cell_type": "code",
   "execution_count": 132,
   "id": "601d2094",
   "metadata": {},
   "outputs": [],
   "source": [
    "sll.addAfterNode(False, 10)"
   ]
  },
  {
   "cell_type": "code",
   "execution_count": 133,
   "id": "c678209b",
   "metadata": {},
   "outputs": [
    {
     "name": "stdout",
     "output_type": "stream",
     "text": [
      "10 -> False -> END -> "
     ]
    }
   ],
   "source": [
    "sll.printAll()"
   ]
  },
  {
   "cell_type": "code",
   "execution_count": 134,
   "id": "10732ab3",
   "metadata": {},
   "outputs": [],
   "source": [
    "sll.addBeforeNode(230, 10)"
   ]
  },
  {
   "cell_type": "code",
   "execution_count": 135,
   "id": "5747a272",
   "metadata": {},
   "outputs": [
    {
     "name": "stdout",
     "output_type": "stream",
     "text": [
      "230 -> 10 -> False -> END -> "
     ]
    }
   ],
   "source": [
    "sll.printAll()"
   ]
  },
  {
   "cell_type": "code",
   "execution_count": 136,
   "id": "82759acd",
   "metadata": {},
   "outputs": [],
   "source": [
    "sll.deleteAfterNode(10)"
   ]
  },
  {
   "cell_type": "code",
   "execution_count": 137,
   "id": "b1707855",
   "metadata": {},
   "outputs": [
    {
     "name": "stdout",
     "output_type": "stream",
     "text": [
      "230 -> 10 -> END -> "
     ]
    }
   ],
   "source": [
    "sll.printAll()"
   ]
  },
  {
   "cell_type": "code",
   "execution_count": 138,
   "id": "d2c87ef1",
   "metadata": {},
   "outputs": [],
   "source": [
    "sll.addBeforeNode(\"Jimmy\", 340)"
   ]
  },
  {
   "cell_type": "code",
   "execution_count": 139,
   "id": "c39f45d5",
   "metadata": {},
   "outputs": [
    {
     "name": "stdout",
     "output_type": "stream",
     "text": [
      "230 -> 10 -> END -> Jimmy -> "
     ]
    }
   ],
   "source": [
    "sll.printAll()"
   ]
  },
  {
   "cell_type": "code",
   "execution_count": 140,
   "id": "b19aec6e",
   "metadata": {},
   "outputs": [],
   "source": [
    "sll.deleteBeforeNode(\"END\")"
   ]
  },
  {
   "cell_type": "code",
   "execution_count": 141,
   "id": "1f5f95a2",
   "metadata": {},
   "outputs": [
    {
     "name": "stdout",
     "output_type": "stream",
     "text": [
      "230 -> END -> Jimmy -> "
     ]
    }
   ],
   "source": [
    "sll.printAll()"
   ]
  },
  {
   "cell_type": "code",
   "execution_count": null,
   "id": "e20e1745",
   "metadata": {},
   "outputs": [],
   "source": []
  }
 ],
 "metadata": {
  "kernelspec": {
   "display_name": "Python 3 (ipykernel)",
   "language": "python",
   "name": "python3"
  },
  "language_info": {
   "codemirror_mode": {
    "name": "ipython",
    "version": 3
   },
   "file_extension": ".py",
   "mimetype": "text/x-python",
   "name": "python",
   "nbconvert_exporter": "python",
   "pygments_lexer": "ipython3",
   "version": "3.9.12"
  }
 },
 "nbformat": 4,
 "nbformat_minor": 5
}
